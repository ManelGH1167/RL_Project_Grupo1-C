{
 "cells": [
  {
   "cell_type": "markdown",
   "metadata": {
    "id": "jUehXgCyIRdq"
   },
   "source": [
    "# Actividad - Proyecto práctico\n",
    "\n",
    "> La actividad se desarrollará en grupos pre-definidos de 2-3 alumnos. Se debe indicar los nombres en orden alfabético (de apellidos). Recordad que esta actividad se corresponde con un 30% de la nota final de la asignatura. Se debe entregar entregar el trabajo en la presente notebook.\n",
    "* Alumno 1:\n",
    "* Alumno 2: Abdelilah BENALI\n",
    "* Alumno 3: Jair A Cuesta Cifuentes\n",
    "* Alumno 4: Manel González Huete\n",
    "* Alumno 5: Francisco Manzanas Mogrovejo"
   ]
  },
  {
   "cell_type": "markdown",
   "metadata": {
    "id": "JwpYlnjWJhS9"
   },
   "source": [
    "---\n",
    "## **PARTE 1** - Instalación y requisitos previos\n",
    "\n",
    "> Las prácticas han sido preparadas para poder realizarse en el entorno de trabajo de Google Colab. Sin embargo, esta plataforma presenta ciertas incompatibilidades a la hora de visualizar la renderización en gym. Por ello, para obtener estas visualizaciones, se deberá trasladar el entorno de trabajo a local. Por ello, el presente dosier presenta instrucciones para poder trabajar en ambos entornos. Siga los siguientes pasos para un correcto funcionamiento:\n",
    "1.   **LOCAL:** Preparar el enviroment, siguiendo las intrucciones detalladas en la sección *1.1.Preparar enviroment*.\n",
    "2.  **AMBOS:** Modificar las variables \"mount\" y \"drive_mount\" a la carpeta de trabajo en drive en el caso de estar en Colab, y ejecturar la celda *1.2.Localizar entorno de trabajo*.\n",
    "3. **COLAB:** se deberá ejecutar las celdas correspondientes al montaje de la carpeta de trabajo en Drive. Esta corresponde a la sección *1.3.Montar carpeta de datos local*.\n",
    "4.  **AMBOS:** Instalar las librerías necesarias, siguiendo la sección *1.4.Instalar librerías necesarias*.\n"
   ]
  },
  {
   "cell_type": "markdown",
   "metadata": {
    "id": "RU2BPrK2JkP0"
   },
   "source": [
    "---\n",
    "### 1.1. Preparar enviroment (solo local)\n",
    "\n",
    "\n",
    "\n",
    "> Para preparar el entorno de trabajo en local, se han seguido los siguientes pasos:\n",
    "1. En Windows, puede ser necesario instalar las C++ Build Tools. Para ello, siga los siguientes pasos: https://towardsdatascience.com/how-to-install-openai-gym-in-a-windows-environment-338969e24d30.\n",
    "2. Instalar Anaconda\n",
    "3. Siguiendo el código que se presenta comentado en la próxima celda: Crear un enviroment, cambiar la ruta de trabajo, e instalar librerías básicas.\n",
    "\n",
    "\n",
    "```\n",
    "conda create --name miar_rl python=3.8\n",
    "conda activate miar_rl\n",
    "cd \"PATH_TO_FOLDER\"\n",
    "conda install git\n",
    "pip install jupyter\n",
    "```\n",
    "\n",
    "\n",
    "4. Abrir la notebook con *jupyter-notebook*.\n",
    "\n",
    "\n",
    "\n",
    "```\n",
    "jupyter-notebook\n",
    "```\n"
   ]
  },
  {
   "cell_type": "markdown",
   "metadata": {
    "id": "w-kixNPiJqTc"
   },
   "source": [
    "---\n",
    "### 1.2. Localizar entorno de trabajo: Google colab o local"
   ]
  },
  {
   "cell_type": "code",
   "execution_count": null,
   "metadata": {
    "id": "S_YDFwZ-JscI"
   },
   "outputs": [
    {
     "ename": "",
     "evalue": "",
     "output_type": "error",
     "traceback": [
      "\u001b[1;31mLa ejecución de celdas con 'venv_apr (Python 3.8.20)' requiere el paquete ipykernel.\n",
      "\u001b[1;31m<a href='command:jupyter.createPythonEnvAndSelectController'>Crear un entorno de Python</a> con los paquetes necesarios.\n",
      "\u001b[1;31mO instale \"ipykernel\" mediante el comando: \"conda install -n venv_apr ipykernel --update-deps --force-reinstall\""
     ]
    }
   ],
   "source": [
    "# ATENCIÓN!! Modificar ruta relativa a la práctica si es distinta (drive_root)\n",
    "mount='/content/gdrive'\n",
    "drive_root = mount + \"/My Drive/08_MIAR/actividades/proyecto practico\"\n",
    "\n",
    "try:\n",
    "  from google.colab import drive\n",
    "  IN_COLAB=True\n",
    "except:\n",
    "  IN_COLAB=False"
   ]
  },
  {
   "cell_type": "markdown",
   "metadata": {
    "id": "8Dp_a1iBJ0tf"
   },
   "source": [
    "---\n",
    "### 1.3. Montar carpeta de datos local (solo Colab)"
   ]
  },
  {
   "cell_type": "code",
   "execution_count": null,
   "metadata": {
    "id": "I6n7MIefJ21i"
   },
   "outputs": [],
   "source": [
    "# Switch to the directory on the Google Drive that you want to use\n",
    "import os\n",
    "if IN_COLAB:\n",
    "  print(\"We're running Colab\")\n",
    "\n",
    "  if IN_COLAB:\n",
    "    # Mount the Google Drive at mount\n",
    "    print(\"Colab: mounting Google drive on \", mount)\n",
    "\n",
    "    drive.mount(mount)\n",
    "\n",
    "    # Create drive_root if it doesn't exist\n",
    "    create_drive_root = True\n",
    "    if create_drive_root:\n",
    "      print(\"\\nColab: making sure \", drive_root, \" exists.\")\n",
    "      os.makedirs(drive_root, exist_ok=True)\n",
    "\n",
    "    # Change to the directory\n",
    "    print(\"\\nColab: Changing directory to \", drive_root)\n",
    "    %cd $drive_root\n",
    "# Verify we're in the correct working directory\n",
    "%pwd\n",
    "print(\"Archivos en el directorio: \")\n",
    "print(os.listdir())"
   ]
  },
  {
   "cell_type": "markdown",
   "metadata": {
    "id": "i1ZSL5bpJ560"
   },
   "source": [
    "---\n",
    "### 1.4. Instalar librerías necesarias"
   ]
  },
  {
   "cell_type": "code",
   "execution_count": null,
   "metadata": {
    "id": "UbVRjvHCJ8UF",
    "scrolled": true
   },
   "outputs": [],
   "source": [
    "IN_LOCAL = True\n",
    "\n",
    "if IN_COLAB:\n",
    "  %pip install gym==0.17.3\n",
    "  %pip install git+https://github.com/Kojoley/atari-py.git\n",
    "  %pip install keras-rl2==1.0.5\n",
    "  %pip install tensorflow==2.8\n",
    "if not IN_LOCAL:\n",
    "  %pip install numpy==1.23.5\n",
    "  %pip install gym==0.17\n",
    "  %pip install git+https://github.com/Kojoley/atari-py.git\n",
    "  %pip install pyglet==1.5.0\n",
    "  %pip install h5py==3.1.0\n",
    "  %pip install Pillow==9.5.0\n",
    "  %pip install keras-rl2==1.0.5\n",
    "  %pip install Keras==2.2.4\n",
    "  %pip install tensorflow==2.5.3\n",
    "  %pip install torch==2.0.1\n",
    "  %pip install agents==1.4.0\n",
    "  %pip install matplotlib==3.4.3\n",
    "  %pip install tqdm"
   ]
  },
  {
   "cell_type": "markdown",
   "metadata": {
    "id": "4hzP_5ZuGb2X"
   },
   "source": [
    "---\n",
    "## **PARTE 2**. Enunciado\n",
    "\n",
    "Consideraciones a tener en cuenta:\n",
    "\n",
    "- El entorno sobre el que trabajaremos será _SpaceInvaders-v0_ y el algoritmo que usaremos será _DQN_.\n",
    "\n",
    "- Para nuestro ejercicio, el requisito mínimo será alcanzado cuando el agente consiga una **media de recompensa por encima de 20 puntos en modo test**. Por ello, esta media de la recompensa se calculará a partir del código de test en la última celda del notebook.\n",
    "\n",
    "Este proyecto práctico consta de tres partes:\n",
    "\n",
    "1.   Implementar la red neuronal que se usará en la solución\n",
    "2.   Implementar las distintas piezas de la solución DQN\n",
    "3.   Justificar la respuesta en relación a los resultados obtenidos\n",
    "\n",
    "**Rúbrica**: Se valorará la originalidad en la solución aportada, así como la capacidad de discutir los resultados de forma detallada. El requisito mínimo servirá para aprobar la actividad, bajo premisa de que la discusión del resultado sera apropiada.\n",
    "\n",
    "IMPORTANTE:\n",
    "\n",
    "* Si no se consigue una puntuación óptima, responder sobre la mejor puntuación obtenida.\n",
    "* Para entrenamientos largos, recordad que podéis usar checkpoints de vuestros modelos para retomar los entrenamientos. En este caso, recordad cambiar los parámetros adecuadamente (sobre todo los relacionados con el proceso de exploración).\n",
    "* Se deberá entregar unicamente el notebook y los pesos del mejor modelo en un fichero .zip, de forma organizada.\n",
    "* Cada alumno deberá de subir la solución de forma individual."
   ]
  },
  {
   "cell_type": "markdown",
   "metadata": {
    "id": "6_b3mzw8IzJP"
   },
   "source": [
    "---\n",
    "## **PARTE 3**. Desarrollo y preguntas"
   ]
  },
  {
   "cell_type": "markdown",
   "metadata": {
    "id": "duPmUNOVGb2a"
   },
   "source": [
    "### Importar librerías"
   ]
  },
  {
   "cell_type": "code",
   "execution_count": 1,
   "metadata": {
    "id": "j3eRhgI-Gb2a",
    "scrolled": true
   },
   "outputs": [],
   "source": [
    "from __future__ import division\n",
    "\n",
    "from PIL import Image\n",
    "import numpy as np\n",
    "#import gymnasium as gym\n",
    "import gym\n",
    "import matplotlib.pyplot as plt\n",
    "import tensorflow as tf\n",
    "import gc\n",
    "\n",
    "from tensorflow.keras.models import Sequential\n",
    "from tensorflow.keras.layers import Dense, Activation, Flatten, Convolution2D, Permute\n",
    "from tensorflow.keras.optimizers import Adam\n",
    "from rl.agents.dqn import DQNAgent\n",
    "from rl.policy import LinearAnnealedPolicy, BoltzmannQPolicy, EpsGreedyQPolicy\n",
    "from rl.memory import SequentialMemory\n",
    "from rl.core import Processor\n",
    "from rl.callbacks import FileLogger, ModelIntervalCheckpoint\n",
    "from collections import deque\n",
    "from tqdm import trange\n",
    "import tensorflow.keras.backend as K"
   ]
  },
  {
   "cell_type": "markdown",
   "metadata": {
    "id": "f4jgQjzoGb2a"
   },
   "source": [
    "### Crear el entorno\n",
    "Nuestro entorno es el juego Space Invaders, de Atari"
   ]
  },
  {
   "cell_type": "code",
   "execution_count": 2,
   "metadata": {
    "id": "jwOE6I_KGb2a"
   },
   "outputs": [
    {
     "name": "stderr",
     "output_type": "stream",
     "text": [
      "c:\\Users\\User\\Desktop\\MASTER\\1_ASIGNATURAS\\08-Aprendizaje_por_Refuerzo\\04_Proyecto\\git\\venv_apr_99\\lib\\site-packages\\gym\\logger.py:30: UserWarning: \u001b[33mWARN: obs_type \"image\" should be replaced with the image type, one of: rgb, grayscale\u001b[0m\n",
      "  warnings.warn(colorize('%s: %s'%('WARN', msg % args), 'yellow'))\n"
     ]
    }
   ],
   "source": [
    "# Create our environment\n",
    "env_name = 'SpaceInvaders-v0'\n",
    "env = gym.make(env_name)\n",
    "\n",
    "np.random.seed(123)\n",
    "env.seed(123)\n",
    "nb_actions = env.action_space.n"
   ]
  },
  {
   "cell_type": "code",
   "execution_count": 3,
   "metadata": {},
   "outputs": [
    {
     "name": "stdout",
     "output_type": "stream",
     "text": [
      "El tamaño de nuestro 'frame' es:  Box(0, 255, (210, 160, 3), uint8)\n",
      "El número de acciones posibles es :  6\n",
      "Las acciones posibles son :  ['NOOP', 'FIRE', 'RIGHT', 'LEFT', 'RIGHTFIRE', 'LEFTFIRE']\n",
      "\n",
      "OHE de las acciones posibles: \n",
      " [[1 0 0 0 0 0]\n",
      " [0 1 0 0 0 0]\n",
      " [0 0 1 0 0 0]\n",
      " [0 0 0 1 0 0]\n",
      " [0 0 0 0 1 0]\n",
      " [0 0 0 0 0 1]]\n"
     ]
    }
   ],
   "source": [
    "print(\"El tamaño de nuestro 'frame' es: \", env.observation_space)\n",
    "print(\"El número de acciones posibles es : \", nb_actions)\n",
    "print(\"Las acciones posibles son : \",env.env.get_action_meanings())\n",
    "\n",
    "# Here we create an hot encoded version of our actions\n",
    "# possible_actions = [[1, 0, 0, 0, 0, 0], [0, 1, 0, 0, 0, 0, 0]...]\n",
    "possible_actions = np.array(np.identity(env.action_space.n,dtype=int).tolist())\n",
    "print(\"\\nOHE de las acciones posibles: \\n\", possible_actions)"
   ]
  },
  {
   "cell_type": "markdown",
   "metadata": {},
   "source": [
    "### Definición Hiperparámetros"
   ]
  },
  {
   "cell_type": "code",
   "execution_count": 4,
   "metadata": {},
   "outputs": [],
   "source": [
    "### HIPERPARÁMETROS DEL MODELO\n",
    "INPUT_SHAPE = (84, 84)\n",
    "state_size = [84, 84, 4]          # Nuestra entrada es una pila de 4 fotogramas, por lo tanto 110x84x4 (ancho, alto, canales)\n",
    "action_size = env.action_space.n  # 6 acciones posibles\n",
    "learning_rate =  0.00025          # Alfa (también conocido como tasa de aprendizaje)\n",
    "\n",
    "### HIPERPARÁMETROS DE ENTRENAMIENTO\n",
    "# total_episodios = 10    #TEST        # Episodios totales para el entrenamiento\n",
    "# max_steps = 10000       #TEST        # Máximo de pasos posibles por episodio\n",
    "total_episodios = 50           # Episodios totales para el entrenamiento\n",
    "max_steps = 50000              # Máximo de pasos posibles por episodio\n",
    "batch_size = 32                # Tamaño del lote (batch)\n",
    "\n",
    "# Parámetros de exploración para la estrategia epsilon-greedy\n",
    "epsilon_start = 1.0            # Probabilidad de exploración al inicio\n",
    "epsilon_stop = 0.01            # Probabilidad mínima de exploración\n",
    "decay_rate = 0.00001           # Tasa de decaimiento exponencial para la probabilidad de exploración\n",
    "epsilon_decay = 0.995\n",
    "\n",
    "# Hiperparámetros del aprendizaje Q\n",
    "gamma = 0.95                   # Tasa de descuento\n",
    "tau = 0.001\n",
    "\n",
    "### HIPERPARÁMETROS DE MEMORIA\n",
    "pretrain_length = batch_size   # Número de experiencias almacenadas en la memoria al inicializar por primera vez\n",
    "memory_size = 20000            # Número de experiencias que la memoria puede guardar\n",
    "\n",
    "### HIPERPARÁMETROS DE PREPROCESAMIENTO\n",
    "WINDOW_LENGTH = 4              # Número de fotogramas apilados\n",
    "\n",
    "### CAMBIA ESTO A FALSE SI SOLO QUIERES VER AL AGENTE ENTRENADO\n",
    "training = False\n",
    "\n",
    "## CAMBIA ESTO A TRUE SI QUIERES RENDERIZAR EL ENTORNO\n",
    "episode_render = False"
   ]
  },
  {
   "cell_type": "markdown",
   "metadata": {},
   "source": [
    "### Clase \"processor\" para Atari\n",
    "\n",
    "Ahora definimos un \"processor\" para las pantallas de entrada del juego, en el que recortamos el tamaño de la imagen (matriz de 210 x 160 píxeles) y la convertimos En una matriz bidimensional de 80 x 80 píxeles). También convertimos las imágenes de RGB a escala de grises normal, ya que no necesitamos usar los colores. Con este trabajo buscamos acelerar nuestro algoritmo, eliminando la información innecesaria y reduciendo la carga de la GPU."
   ]
  },
  {
   "cell_type": "code",
   "execution_count": 5,
   "metadata": {
    "id": "9jGEZUcpGb2a"
   },
   "outputs": [],
   "source": [
    "from rl.core import Processor\n",
    "\n",
    "class AtariProcessor(Processor):\n",
    "    def process_observation(self, observation):\n",
    "        \"\"\"\n",
    "        Preprocesamiento simple: convierte a escala de grises y normaliza\n",
    "        \"\"\"\n",
    "        assert observation.ndim == 3  # (height, width, channel)\n",
    "        img = Image.fromarray(observation)\n",
    "        img = img.resize(INPUT_SHAPE).convert('L')\n",
    "        processed_observation = np.array(img)\n",
    "        assert processed_observation.shape == INPUT_SHAPE\n",
    "        return processed_observation.astype('uint8')\n",
    "\n",
    "    def process_state_batch(self, batch):\n",
    "        processed_batch = batch.astype('float32') / 255.\n",
    "        return processed_batch\n",
    "\n",
    "    def process_reward(self, reward):\n",
    "        return np.clip(reward, -1., 1.)"
   ]
  },
  {
   "cell_type": "markdown",
   "metadata": {},
   "source": [
    "### Revisar el entorno de juego"
   ]
  },
  {
   "cell_type": "code",
   "execution_count": 6,
   "metadata": {},
   "outputs": [
    {
     "data": {
      "image/png": "[encoded data removed]",
      "text/plain": [
       "<Figure size 640x480 with 1 Axes>"
      ]
     },
     "metadata": {},
     "output_type": "display_data"
    }
   ],
   "source": [
    "import matplotlib.pyplot as plt\n",
    "\n",
    "observation = env.reset()\n",
    "for i in range(22): \n",
    "  if i > 20:\n",
    "    plt.imshow(observation)\n",
    "    plt.show()\n",
    "\n",
    "  observation, reward, done, info = env.step(1)"
   ]
  },
  {
   "cell_type": "code",
   "execution_count": 7,
   "metadata": {},
   "outputs": [
    {
     "data": {
      "image/png": "[encoded data removed]",
      "text/plain": [
       "<Figure size 640x480 with 1 Axes>"
      ]
     },
     "metadata": {},
     "output_type": "display_data"
    },
    {
     "name": "stdout",
     "output_type": "stream",
     "text": [
      "(210, 160, 3)\n",
      "(84, 84)\n"
     ]
    }
   ],
   "source": [
    "# Mostrar las entradas preprocesadas en escala de grises y comparar originales y preprocesados.\n",
    "processor = AtariProcessor()\n",
    "obs_preprocessed = processor.process_observation(observation).reshape(INPUT_SHAPE)\n",
    "plt.imshow(processor.process_state_batch(obs_preprocessed))\n",
    "plt.show()\n",
    "print(observation.shape)\n",
    "print(obs_preprocessed.shape)"
   ]
  },
  {
   "cell_type": "markdown",
   "metadata": {
    "id": "7yitXTADGb2b"
   },
   "source": [
    "1. Implementación de la red neuronal"
   ]
  },
  {
   "cell_type": "markdown",
   "metadata": {},
   "source": [
    "Crearemos una clase para construir un red Q-profunda, con tres capas convolucionales, seguidas de una capa de aplanamiento y una capa completamente conectada."
   ]
  },
  {
   "cell_type": "code",
   "execution_count": 8,
   "metadata": {
    "id": "O4GKrfWSGb2b"
   },
   "outputs": [],
   "source": [
    "class DQNetwork(tf.keras.Model):\n",
    "    \"\"\"\n",
    "    Red neuronal Deep Q-Network (DQN) para aproximar la función Q en aprendizaje por refuerzo.\n",
    "\n",
    "    Esta clase implementa una red convolucional que recibe un estado (conjunto de frames)\n",
    "    y produce los valores Q para cada acción posible. Usa capas convolucionales seguidas\n",
    "    de capas totalmente conectadas, con activación ELU.\n",
    "\n",
    "    Parámetros:\n",
    "    -----------\n",
    "    state_size : tupla/lista - Dimensiones del estado de entrada (por ejemplo, [84, 84, 4]).\n",
    "    action_size : int        - Número de acciones posibles en el entorno.\n",
    "    learning_rate : float    - Tasa de aprendizaje para el optimizador Adam.\n",
    "    name : str, opcional     - Nombre del scope de TensorFlow para distinguir múltiples redes.\n",
    "    \"\"\"\n",
    "    def __init__(self, state_size, action_size, learning_rate, name='DQNetwork'):\n",
    "        super(DQNetwork, self).__init__(name=name)\n",
    "        \n",
    "        self.state_size = state_size\n",
    "        self.action_size = action_size\n",
    "        self.learning_rate = learning_rate\n",
    "\n",
    "        # Primera capa convolucional con activación ELU\n",
    "        self.conv1 = tf.keras.layers.Conv2D(filters=32, kernel_size=(8,8), strides=(4,4) ,\n",
    "                                            padding='same', activation='elu',\n",
    "                                            kernel_initializer='glorot_uniform')  # (84, 84, 4)\n",
    "        # Segunda capa convolucional con activación ELU\n",
    "        self.conv2 = tf.keras.layers.Conv2D(filters=64, kernel_size=(4,4), strides=(2,2),\n",
    "                                            padding='same', activation='elu',\n",
    "                                            kernel_initializer='glorot_uniform')\n",
    "        # Tercera capa convolucional con activación ELU\n",
    "        self.conv3 = tf.keras.layers.Conv2D(filters=64, kernel_size=(3,3), strides=(1,1),\n",
    "                                            padding='same', activation='elu',\n",
    "                                            kernel_initializer='glorot_uniform')\n",
    "        # Aplanar la salida de la última convolucional\n",
    "        self.flatten = tf.keras.layers.Flatten()\n",
    "        # Capa completamente conectada con activación ELU\n",
    "        self.fc = tf.keras.layers.Dense(units=512, activation='elu',\n",
    "                                        kernel_initializer='glorot_uniform')\n",
    "        # Capa de salida que devuelve valores Q para cada acción\n",
    "        self.output_layer = tf.keras.layers.Dense(units=self.action_size,\n",
    "                                                  activation=None,\n",
    "                                                  kernel_initializer='glorot_uniform')\n",
    "\n",
    "        # Definir el optimizador\n",
    "        self.optimizer = tf.keras.optimizers.Adam(learning_rate=self.learning_rate)\n",
    "        # Definir la función de pérdida (error cuadrático medio)\n",
    "        self.loss_fn = tf.keras.losses.MeanSquaredError()\n",
    "        self.compile(optimizer=self.optimizer, loss=self.loss_fn)\n",
    "\n",
    "    def call(self, inputs):\n",
    "        \"\"\"\n",
    "        Ejecuta la red neuronal para un batch de estados y define la lógica para hacer la propagación hacia adelante \n",
    "        (forward pass).  Se llama automáticamente en una clase que hereda de tf.keras.Model o tf.keras.layers.Layer.\n",
    "\n",
    "        Parámetros:\n",
    "        -----------\n",
    "        inputs : tf.Tensor  - Tensor con los estados de entrada, shape = (batch_size, *state_size)\n",
    "\n",
    "        Retorna:\n",
    "        --------\n",
    "        tf.Tensor - Valores Q para cada acción, shape = (batch_size, action_size)\n",
    "        \"\"\"\n",
    "        x = self.conv1(inputs)\n",
    "        x = self.conv2(x)\n",
    "        x = self.conv3(x)\n",
    "        x = self.flatten(x)\n",
    "        x = self.fc(x)\n",
    "        q_values = self.output_layer(x)\n",
    "        return q_values\n",
    "\n",
    "    @tf.function    \n",
    "    def train_step(self, states, actions, target_q):\n",
    "        \"\"\"\n",
    "        Realiza un paso de entrenamiento: calcula la pérdida y aplica gradientes.\n",
    "\n",
    "        Parámetros:\n",
    "        -----------\n",
    "        states : tf.Tensor -    Batch de estados de entrada, shape = (batch_size, *state_size)\n",
    "        actions : tf.Tensor -   Acciones tomadas, codificadas one-hot, shape = (batch_size, action_size)\n",
    "        target_q : tf.Tensor -  Valores objetivo Q, shape = (batch_size,)\n",
    "\n",
    "        Retorna:\n",
    "        --------\n",
    "        loss : tf.Tensor -      Valor de la pérdida calculada en este paso.\n",
    "        \"\"\"\n",
    "        with tf.GradientTape() as tape:\n",
    "            q_values = self.call(states)  # Salida con valores Q para todas las acciones\n",
    "            # Obtenemos Q para las acciones tomadas multiplicando por la máscara one-hot y sumando\n",
    "            q_action = tf.reduce_sum(q_values * actions, axis=1)\n",
    "            # Si target_q es (batch_size, num_actions), entonces:\n",
    "            target_q_action = tf.reduce_sum(tf.expand_dims(target_q, axis=1) * actions, axis=1)            \n",
    "            # Calculamos la pérdida MSE entre Q predicho y target_Q\n",
    "            loss = self.loss_fn(target_q_action, q_action)\n",
    "\n",
    "        # Calculamos los gradientes y actualizamos los pesos\n",
    "        gradients = tape.gradient(loss, self.trainable_variables)\n",
    "        self.optimizer.apply_gradients(zip(gradients, self.trainable_variables))\n",
    "\n",
    "        return loss"
   ]
  },
  {
   "cell_type": "code",
   "execution_count": 9,
   "metadata": {},
   "outputs": [],
   "source": [
    "class DDQNetwork(tf.keras.Model):\n",
    "    \"\"\"\n",
    "    Double Deep Q-Network (DDQN) para reducir la sobreestimación en DQN.\n",
    "    \n",
    "    DDQN usa dos redes: una principal (main) y una objetivo (target).\n",
    "    La red principal selecciona las acciones, mientras que la red objetivo\n",
    "    evalúa los valores Q, reduciendo así el sesgo de sobreestimación.\n",
    "\n",
    "    Parámetros:\n",
    "    -----------\n",
    "    state_size : tupla/lista - Dimensiones del estado de entrada (por ejemplo, [84, 84, 4]).\n",
    "    action_size : int        - Número de acciones posibles en el entorno.\n",
    "    learning_rate : float    - Tasa de aprendizaje para el optimizador Adam.\n",
    "    tau : float, opcional    - Factor de actualización suave para la red objetivo (default: 0.001).\n",
    "    name : str, opcional     - Nombre del scope de TensorFlow.\n",
    "    \"\"\"\n",
    "    def __init__(self, state_size, action_size, learning_rate, tau=0.001, name='DDQNetwork'):\n",
    "        super(DDQNetwork, self).__init__(name=name)\n",
    "        \n",
    "        self.state_size = state_size\n",
    "        self.action_size = action_size\n",
    "        self.learning_rate = learning_rate\n",
    "        self.tau = tau\n",
    "        \n",
    "        # Red principal (main network)\n",
    "        self.main_network = self._crear_red('main')\n",
    "        # Red objetivo (target network)\n",
    "        self.target_network = self._crear_red('target')\n",
    "        \n",
    "        # Construir ambas redes con la forma de entrada correcta\n",
    "        input_shape = (None,) + tuple(state_size)  # (None, 84, 84, 4)\n",
    "        self.main_network.build(input_shape)\n",
    "        self.target_network.build(input_shape)        \n",
    "        \n",
    "        # Definir optimizador y función de pérdida\n",
    "        self.optimizer = tf.keras.optimizers.Adam(learning_rate=self.learning_rate)\n",
    "        self.loss_fn = tf.keras.losses.MeanSquaredError()\n",
    "        \n",
    "        # Inicializar la red objetivo con los mismos pesos que la principal\n",
    "        self.update_target_network(tau=1.0)\n",
    "        \n",
    "    def _crear_red(self, network_name):\n",
    "        \"\"\"\n",
    "        Construye una red individual con la arquitectura DQN.\n",
    "        \n",
    "        Parámetros:\n",
    "        -----------\n",
    "        network_name : str - Nombre identificador de la red ('main' o 'target').\n",
    "        \n",
    "        Retorna:\n",
    "        --------\n",
    "        tf.keras.Sequential - Red neuronal construida.\n",
    "        \"\"\"\n",
    "        return tf.keras.Sequential([\n",
    "            tf.keras.layers.Conv2D(filters=32, kernel_size=(8,8), strides=(4,4),\n",
    "                                 padding='same', activation='elu',\n",
    "                                 kernel_initializer='glorot_uniform',\n",
    "                                 name=f'{network_name}_conv1'),\n",
    "            tf.keras.layers.Conv2D(filters=64, kernel_size=(4,4), strides=(2,2),\n",
    "                                 padding='same', activation='elu',\n",
    "                                 kernel_initializer='glorot_uniform',\n",
    "                                 name=f'{network_name}_conv2'),\n",
    "            tf.keras.layers.Conv2D(filters=64, kernel_size=(3,3), strides=(1,1),\n",
    "                                 padding='same', activation='elu',\n",
    "                                 kernel_initializer='glorot_uniform',\n",
    "                                 name=f'{network_name}_conv3'),\n",
    "            tf.keras.layers.Flatten(name=f'{network_name}_flatten'),\n",
    "            tf.keras.layers.Dense(units=512, activation='elu',\n",
    "                                kernel_initializer='glorot_uniform',\n",
    "                                name=f'{network_name}_fc'),\n",
    "            tf.keras.layers.Dense(units=self.action_size, activation=None,\n",
    "                                kernel_initializer='glorot_uniform',\n",
    "                                name=f'{network_name}_output')\n",
    "        ], name=f'{network_name}_network')\n",
    "        \n",
    "    def call(self, inputs, training=True):\n",
    "        \"\"\"\n",
    "        Propagación hacia adelante usando la red principal.\n",
    "        \n",
    "        Parámetros:\n",
    "        -----------\n",
    "        inputs : tf.Tensor - Estados de entrada, shape = (batch_size, *state_size)\n",
    "        training : bool    - Si está en modo entrenamiento (default: True)\n",
    "        \n",
    "        Retorna:\n",
    "        --------\n",
    "        tf.Tensor - Valores Q de la red principal, shape = (batch_size, action_size)\n",
    "        \"\"\"\n",
    "        return self.main_network(inputs, training=training)        \n",
    "    \n",
    "\n",
    "    def get_target_q_values(self, inputs):\n",
    "        \"\"\"\n",
    "        Obtiene los valores Q de la red objetivo.\n",
    "        \n",
    "        Parámetros:\n",
    "        -----------\n",
    "        inputs : tf.Tensor - Estados de entrada, shape = (batch_size, *state_size)\n",
    "        \n",
    "        Retorna:\n",
    "        --------\n",
    "        tf.Tensor - Valores Q de la red objetivo, shape = (batch_size, action_size)\n",
    "        \"\"\"\n",
    "        return self.target_network(inputs, training=False)\n",
    "    \n",
    "    def update_target_network(self, tau=None):\n",
    "        \"\"\"\n",
    "        Actualiza la red objetivo usando actualización suave (soft update).\n",
    "        \n",
    "        θ_target = τ * θ_main + (1 - τ) * θ_target\n",
    "        \n",
    "        Parámetros:\n",
    "        -----------\n",
    "        tau : float, opcional - Factor de actualización. Si es None, usa self.tau.\n",
    "        \"\"\"\n",
    "        if tau is None:\n",
    "            tau = self.tau\n",
    "            \n",
    "        main_weights = self.main_network.get_weights()\n",
    "        target_weights = self.target_network.get_weights()\n",
    "        \n",
    "        updated_weights = []\n",
    "        for main_w, target_w in zip(main_weights, target_weights):\n",
    "            updated_w = tau * main_w + (1 - tau) * target_w\n",
    "            updated_weights.append(updated_w)\n",
    "            \n",
    "        self.target_network.set_weights(updated_weights)    \n",
    "        \n",
    "    @tf.function        \n",
    "    def train_step(self, states, actions, rewards, next_states, dones, gamma=0.99):\n",
    "        \"\"\"\n",
    "        Realiza un paso de entrenamiento DDQN.\n",
    "        \n",
    "        En DDQN:\n",
    "        1. La red principal selecciona la mejor acción para next_states\n",
    "        2. La red objetivo evalúa el valor Q de esa acción\n",
    "        3. Se calcula el target Q usando la ecuación de Bellman\n",
    "        \n",
    "        Parámetros:\n",
    "        -----------\n",
    "        states : tf.Tensor     - Estados actuales, shape = (batch_size, *state_size)\n",
    "        actions : tf.Tensor    - Acciones tomadas (one-hot), shape = (batch_size, action_size)\n",
    "        rewards : tf.Tensor    - Recompensas obtenidas, shape = (batch_size,)\n",
    "        next_states : tf.Tensor- Siguientes estados, shape = (batch_size, *state_size)\n",
    "        dones : tf.Tensor      - Flags de episodio terminado, shape = (batch_size,)\n",
    "        gamma : float          - Factor de descuento (default: 0.99)\n",
    "        \n",
    "        Retorna:\n",
    "        --------\n",
    "        loss : tf.Tensor - Valor de la pérdida calculada en este paso.\n",
    "        \"\"\"\n",
    "        with tf.GradientTape() as tape:\n",
    "            # Valores Q actuales de la red principal\n",
    "            current_q_values = self.main_network(states, training=True)\n",
    "            current_q_action = tf.reduce_sum(current_q_values * actions, axis=1)\n",
    "            \n",
    "            # DDQN: Red principal selecciona acciones, red objetivo las evalúa\n",
    "            next_q_values_main = self.main_network(next_states, training=True)\n",
    "            next_actions = tf.one_hot(tf.argmax(next_q_values_main, axis=1), self.action_size)\n",
    "            \n",
    "            next_q_values_target = self.target_network(next_states, training=False)\n",
    "            next_q_action = tf.reduce_sum(next_q_values_target * next_actions, axis=1)\n",
    "            \n",
    "            # Calcular target Q usando ecuación de Bellman\n",
    "            target_q = rewards + gamma * next_q_action * (1.0 - tf.cast(dones, tf.float32))\n",
    "            \n",
    "            # Calcular pérdida MSE\n",
    "            loss = self.loss_fn(target_q, current_q_action)\n",
    "        \n",
    "        # Aplicar gradientes solo a la red principal\n",
    "        gradients = tape.gradient(loss, self.main_network.trainable_variables)\n",
    "        self.optimizer.apply_gradients(zip(gradients, self.main_network.trainable_variables))\n",
    "        \n",
    "        return loss        "
   ]
  },
  {
   "cell_type": "markdown",
   "metadata": {
    "id": "OB9-_5HPGb2b"
   },
   "source": [
    "2. Implementación de la solución DQN"
   ]
  },
  {
   "cell_type": "code",
   "execution_count": 10,
   "metadata": {},
   "outputs": [],
   "source": [
    "class FrameStack:\n",
    "    \"\"\"\n",
    "    Clase para apilar frames consecutivos\n",
    "    \"\"\"\n",
    "    def __init__(self, num_frames=4):\n",
    "        self.num_frames = num_frames\n",
    "        self.frames = deque(maxlen=num_frames)\n",
    "    \n",
    "    def reset(self):\n",
    "        self.frames.clear()\n",
    "    \n",
    "    def add_frame(self, frame):\n",
    "        # Si es el primer frame, llenamos el deque\n",
    "        if len(self.frames) == 0:\n",
    "            for _ in range(self.num_frames):\n",
    "                self.frames.append(frame)\n",
    "        else:\n",
    "            self.frames.append(frame)\n",
    "    \n",
    "    def get_state(self):\n",
    "        # Convertir a array con shape (84, 84, 4)\n",
    "        return np.stack(self.frames, axis=-1)"
   ]
  },
  {
   "cell_type": "code",
   "execution_count": 11,
   "metadata": {},
   "outputs": [],
   "source": [
    "def preprocess_state(state, processor, frame_stack):\n",
    "    \"\"\"\n",
    "    Preprocess a single state using AtariProcessor and FrameStack\n",
    "    \"\"\"\n",
    "    processed_frame = processor.process_observation(state)\n",
    "    frame_stack.add_frame(processed_frame)\n",
    "    state = frame_stack.get_state()\n",
    "    return processor.process_state_batch(np.expand_dims(state, 0))[0]"
   ]
  },
  {
   "cell_type": "code",
   "execution_count": null,
   "metadata": {},
   "outputs": [],
   "source": [
    "import tensorflow.python.ops.numpy_ops.np_config as np_config\n",
    "\n",
    "# Habilitar comportamiento NumPy para tensores de TensorFlow\n",
    "np_config.enable_numpy_behavior()\n",
    "\n",
    "# Asegurar que la ejecución eager esté habilitada desde el inicio\n",
    "tf.config.run_functions_eagerly(True)\n",
    "\n",
    "\n",
    "def simple_train(env,dqnet_class, processor, epsilon_start,total_episodios):\n",
    "    \"\"\"\n",
    "    Entrenamiento simple con tu red DQN\n",
    "    \"\"\"\n",
    "    # Limpiar cualquier grafo anterior\n",
    "    tf.keras.backend.clear_session()\n",
    "    \n",
    "    print(f\"[DEBUG] - Configuración:\")\n",
    "    print(f\"  - State size: {state_size}\")\n",
    "    print(f\"  - Action size: {action_size}\")\n",
    "    print(f\"  - Learning rate: {learning_rate}\")\n",
    "    print(f\"  - Gamma: {gamma}\")\n",
    "    print(f\"  - TensorFlow eager: {tf.executing_eagerly()}\")\n",
    "\n",
    "    # Debug TensorFlow and Keras versions\n",
    "    print(f\"[DEBUG] - TensorFlow version: {tf.__version__}\")\n",
    "    import keras\n",
    "    print(f\"[DEBUG] - Keras version: {keras.__version__}\")\n",
    "    \n",
    "    # Crear la red - FORZAR state_size a 4 canales para frame stacking\n",
    "    print(f\"[DEBUG] - Tamaño original del estado (state_size): {state_size}\")  # DEBUG\n",
    "    dqnet = dqnet_class(state_size, action_size, learning_rate)\n",
    "    # Construir explícitamente el modelo con la forma de entrada esperada\n",
    "    # La forma de entrada al método 'call' del modelo es (batch_size, 84, 84, 4)\n",
    "    # Para build, usamos (None, 84, 84, 4) donde None representa el tamaño del lote.\n",
    "    # No necesitamos build aquí porque DDQNetwork ya lo hace en __init__\n",
    "    \n",
    "    # Construir el modelo con la forma de entrada correcta\n",
    "    input_shape = (None,) + tuple(state_size)  # (None, 84, 84, 4)\n",
    "    dqnet.build(input_shape)\n",
    "    print(dqnet.summary())\n",
    "\n",
    "    print(\"[DEBUG] - Información de la red:\\n\")  # DEBUG\n",
    "\n",
    "    # -----------------------\n",
    "    \n",
    "    optimizer = tf.keras.optimizers.Adam(learning_rate=learning_rate)\n",
    "    loss_fn = tf.keras.losses.MeanSquaredError()    \n",
    "    print(f\"[DEBUG] - Red creada correctamente\\n\\n\")  # DEBUG\n",
    " \n",
    "    scores = []\n",
    "\n",
    "    for episode in trange(total_episodios, desc=\"Training\"):\n",
    "        observation = env.reset()\n",
    "        frame_stack = FrameStack(WINDOW_LENGTH)\n",
    "        state = preprocess_state(observation, processor, frame_stack)\n",
    "       \n",
    "        total_reward = 0\n",
    "        steps = 0\n",
    "        \n",
    "        while steps < max_steps:\n",
    "            # Selección epsilon-greedy\n",
    "            if np.random.random() <= epsilon_start:\n",
    "                action = env.action_space.sample()\n",
    "            else:\n",
    "                # Método más robusto para obtener acción\n",
    "                state_input = tf.convert_to_tensor(np.expand_dims(state, axis=0), dtype=tf.float32)\n",
    "                q_values = dqnet(state_input, training=False)\n",
    "                # action = tf.argmax(q_values[0]).numpy()        \n",
    "                # Evaluate tensor in graph mode\n",
    "                action = tf.keras.backend.get_value(tf.argmax(q_values[0]))\n",
    "                #action = tf.argmax(q_values[0]).numpy()\n",
    "\n",
    "                                \n",
    "            # Ejecutar acción\n",
    "            next_observation, reward, done, _ = env.step(action)            \n",
    "            # Procesar siguiente estado       \n",
    "            next_state = preprocess_state(next_observation, processor, frame_stack)\n",
    "            # Procesar reward (clip entre -1 y 1)\n",
    "            reward = processor.process_reward(reward)     \n",
    "\n",
    "            # Calcular Q-value Objetivo\n",
    "            next_state_tf = tf.convert_to_tensor(np.expand_dims(next_state, axis=0), dtype=tf.float32)   \n",
    "            # Preparar tensores para entrenamiento\n",
    "            states_tf = tf.convert_to_tensor(np.expand_dims(state, axis=0), dtype=tf.float32)\n",
    "            actions_onehot = tf.one_hot([action], action_size)\n",
    "\n",
    "            prefijo = \"\"\n",
    "            if dqnet_class == DDQNetwork:\n",
    "                # DDQN: Usar train_step interno con lógica DDQN\n",
    "                loss = dqnet.train_step(states_tf, actions_onehot, reward, next_state_tf, done, gamma)\n",
    "                # Actualizar red objetivo\n",
    "                dqnet.update_target_network()\n",
    "                prefijo=\"DDQN\"\n",
    "            else:\n",
    "                # DQN: Calcular Q-valor objetivo manualmente\n",
    "                next_q_vals = dqnet(next_state_tf, training=False)\n",
    "                # max_next_q = tf.reduce_max(next_q_vals[0]).numpy()\n",
    "                # max_next_q = tf.keras.backend.get_value(tf.reduce_max(next_q_vals[0], axis=1))\n",
    "                max_next_q = tf.keras.backend.get_value(tf.reduce_max(next_q_vals[0]))\n",
    "                target_q_value = reward + gamma * max_next_q * (1.0 - float(done))      \n",
    "                target_q_tensor = tf.convert_to_tensor([target_q_value], dtype=tf.float32)                \n",
    "                # Entrenamiento usando método interno\n",
    "                loss = dqnet.train_step(states_tf, actions_onehot, target_q_tensor)\n",
    "                prefijo=\"DQN\"\n",
    "\n",
    "            # Actualizar estado\n",
    "            state = next_state\n",
    "            total_reward += reward\n",
    "            steps += 1\n",
    "\n",
    "            if steps % 100 == 0:\n",
    "                print(f\"  [INFO] - Ep {episode:3d} Step {steps:3d}: Training active\")\n",
    "            if done:\n",
    "                break\n",
    " \n",
    "        # Actualizar epsilon\n",
    "        if epsilon_start > epsilon_stop:\n",
    "            epsilon_start *= epsilon_decay\n",
    "        \n",
    "        scores.append(total_reward)\n",
    "        avg_score = np.mean(scores[-10:]) if len(scores) >= 10 else np.mean(scores)\n",
    "        \n",
    "        print(f\"\\n📊 Episodio {episode + 1}/{total_episodios}\")\n",
    "        print(f\"   Score: {total_reward:.1f} | Steps: {steps}\")\n",
    "        print(f\"   Epsilon: {epsilon_start:.3f} | Avg Score: {avg_score:.2f}\")\n",
    "        print(\"-\" * 40)\n",
    "\n",
    "        # Guardar cada 10 episodios\n",
    "        if (episode + 1) % 10 == 0:\n",
    "            try:\n",
    "                checkpoint_path = f'{prefijo}_checkpoint_ep{episode + 1}.h5'\n",
    "                dqnet.save_weights(checkpoint_path)\n",
    "                print(f\"💾 Guardado: {checkpoint_path}\")\n",
    "            except Exception as e:\n",
    "                print(f\"⚠️  Error guardando: {e}\")    \n",
    "\n",
    "        # Al final del bucle de episodios\n",
    "        gc.collect()\n",
    "\n",
    "    env.close()    \n",
    "    print(\"\\n🎯 Entrenamiento completado!\")\n",
    "    return dqnet"
   ]
  },
  {
   "cell_type": "code",
   "execution_count": 13,
   "metadata": {},
   "outputs": [],
   "source": [
    "def test_simple(trained_model, processor, episodes=3, render=False, max_steps=1000):\n",
    "    \"\"\"\n",
    "    Probar la red entrenada (DQN o DDQN) en el entorno SpaceInvaders-v0.\n",
    "\n",
    "    Args:\n",
    "        trained_model: tf.keras.Model - Modelo entrenado (DQNetwork o DDQNetwork).\n",
    "        processor: AtariProcessor -     Procesador para preprocesar observaciones.\n",
    "        episodes: int -                 Número de episodios de prueba.\n",
    "        max_steps: int -                Máximo de pasos por episodio.\n",
    "        render: bool -                  Si se debe renderizar el entorno.\n",
    "\n",
    "    Returns:\n",
    "        float: Promedio de recompensa en los episodios de prueba.\n",
    "    \"\"\"\n",
    "    env = gym.make('SpaceInvaders-v0')\n",
    "    frame_stack = FrameStack(WINDOW_LENGTH)\n",
    "    scores = []    \n",
    "    \n",
    "    # Imprimir información de depuración\n",
    "    model_type = 'DDQNetwork' if trained_model.__class__.__name__ == 'DDQNetwork' else 'DQNetwork'\n",
    "    print(f\"[DEBUG] - Probando modelo: {model_type}\")\n",
    "    print(f\"[DEBUG] - Episodios de prueba: {episodes}, Max pasos: {max_steps}, Render: {render}\\n\")    \n",
    "    \n",
    "    for episode in range(episodes):\n",
    "        observation = env.reset()\n",
    "        state = preprocess_state(observation, processor, frame_stack)\n",
    "        total_reward = 0\n",
    "        steps = 0\n",
    "        \n",
    "        while steps < max_steps:\n",
    "            if render:\n",
    "                env.render()\n",
    "            \n",
    "            # Sin exploración - solo usar la red\n",
    "            state_tensor = tf.convert_to_tensor(np.expand_dims(state, axis=0), dtype=tf.float32)\n",
    "            q_values = trained_model(state_tensor, training=False)\n",
    "            action = np.argmax(q_values[0])\n",
    "            \n",
    "            next_observation, reward, done, _ = env.step(action)\n",
    "            state = preprocess_state(next_observation, processor, frame_stack)\n",
    "            total_reward += reward\n",
    "            steps += 1\n",
    "            \n",
    "            if done:\n",
    "                break\n",
    "        \n",
    "        scores.append(total_reward)\n",
    "        print(f\"Episodio de prueba {episode + 1}: Score = {total_reward}, Steps = {steps}\")\n",
    "    \n",
    "    avg_test_score = np.mean(scores)\n",
    "    print(f\"\\nPromedio de recompensa en {episodes} episodios de prueba: {avg_test_score:.2f}\")\n",
    "    \n",
    "    env.close()\n",
    "    return avg_test_score"
   ]
  },
  {
   "cell_type": "markdown",
   "metadata": {},
   "source": [
    "    2.1 Ejecución de los modelos"
   ]
  },
  {
   "cell_type": "code",
   "execution_count": 14,
   "metadata": {},
   "outputs": [],
   "source": [
    "# Función de utilidad para crear y comparar los modelos que se vayan creando\n",
    "def crear_modelo(model_type, state_size, action_size, learning_rate=0.001, **kwargs):\n",
    "    \"\"\"\n",
    "    Factory function para crear modelos DQN o DDQN.\n",
    "    \n",
    "    Parámetros:\n",
    "    -----------\n",
    "    model_type :    str - Tipo de modelo: 'DQN' o 'DDQN'\n",
    "    state_size :    tupla - Dimensiones del estado\n",
    "    action_size :   int - Número de acciones\n",
    "    learning_rate : float - Tasa de aprendizaje\n",
    "    **kwargs : dict - Argumentos adicionales específicos del modelo\n",
    "    \n",
    "    Retorna:\n",
    "    --------\n",
    "    DQNetwork o DDQNetwork - Modelo creado según el tipo especificado\n",
    "    \"\"\"\n",
    "    # Crear el procesador Atari\n",
    "    processor = AtariProcessor()\n",
    "    \n",
    "    print(\"-\" * 60)  \n",
    "    if model_type.upper() == 'DQN':\n",
    "        print(\"Entrenando DQN simple para Space Invaders...\")\n",
    "        # Entrenar -------------------------------------\n",
    "        trained_dqn = simple_train(env,DQNetwork, processor, epsilon_start,total_episodios)\n",
    "    elif model_type.upper() == 'DDQN':\n",
    "        print(\"Entrenando DDQN simple para Space Invaders...\")    \n",
    "        trained_dqn = simple_train(env,DDQNetwork, processor, epsilon_start,total_episodios)        \n",
    "    else:\n",
    "        raise ValueError(\"model_type debe ser 'DQN' o 'DDQN'\")\n",
    "\n",
    "    print(\"-\" * 60)       \n",
    "\n",
    "    return trained_dqn\n"
   ]
  },
  {
   "cell_type": "code",
   "execution_count": null,
   "metadata": {
    "scrolled": false
   },
   "outputs": [
    {
     "name": "stdout",
     "output_type": "stream",
     "text": [
      "[INFO] - Eager execution habilitado\n",
      "------------------------------------------------------------\n",
      "Entrenando DQN simple para Space Invaders...\n",
      "[DEBUG] - Configuración:\n",
      "  - State size: [84, 84, 4]\n",
      "  - Action size: 6\n",
      "  - Learning rate: 0.00025\n",
      "  - Gamma: 0.95\n",
      "  - TensorFlow eager: False\n",
      "[DEBUG] - TensorFlow version: 2.8.4\n",
      "[DEBUG] - Keras version: 2.8.0\n",
      "[DEBUG] - Tamaño original del estado (state_size): [84, 84, 4]\n",
      "Model: \"DQNetwork\"\n",
      "_________________________________________________________________\n",
      " Layer (type)                Output Shape              Param #   \n",
      "=================================================================\n",
      " conv2d (Conv2D)             multiple                  8224      \n",
      "                                                                 \n",
      " conv2d_1 (Conv2D)           multiple                  32832     \n",
      "                                                                 \n",
      " conv2d_2 (Conv2D)           multiple                  36928     \n",
      "                                                                 \n",
      " flatten (Flatten)           multiple                  0         \n",
      "                                                                 \n",
      " dense (Dense)               multiple                  3965440   \n",
      "                                                                 \n",
      " dense_1 (Dense)             multiple                  3078      \n",
      "                                                                 \n",
      "=================================================================\n",
      "Total params: 4,046,502\n",
      "Trainable params: 4,046,502\n",
      "Non-trainable params: 0\n",
      "_________________________________________________________________\n",
      "None\n",
      "[DEBUG] - Información de la red:\n",
      "\n",
      "[DEBUG] - Red creada correctamente\n",
      "\n",
      "\n"
     ]
    },
    {
     "name": "stderr",
     "output_type": "stream",
     "text": [
      "Training:   0%|          | 0/50 [00:00<?, ?it/s]"
     ]
    },
    {
     "name": "stdout",
     "output_type": "stream",
     "text": [
      "  [INFO] - Ep   0 Step 100: Training active\n",
      "  [INFO] - Ep   0 Step 200: Training active\n",
      "  [INFO] - Ep   0 Step 300: Training active\n"
     ]
    },
    {
     "name": "stderr",
     "output_type": "stream",
     "text": [
      "Training:   2%|▏         | 1/50 [03:14<2:38:35, 194.20s/it]"
     ]
    },
    {
     "name": "stdout",
     "output_type": "stream",
     "text": [
      "\n",
      "📊 Episodio 1/50\n",
      "   Score: 3.0 | Steps: 302\n",
      "   Epsilon: 0.995 | Avg Score: 3.00\n",
      "----------------------------------------\n",
      "  [INFO] - Ep   1 Step 100: Training active\n",
      "  [INFO] - Ep   1 Step 200: Training active\n",
      "  [INFO] - Ep   1 Step 300: Training active\n",
      "  [INFO] - Ep   1 Step 400: Training active\n"
     ]
    },
    {
     "name": "stderr",
     "output_type": "stream",
     "text": [
      "Training:   4%|▍         | 2/50 [26:04<11:48:57, 886.19s/it]"
     ]
    },
    {
     "name": "stdout",
     "output_type": "stream",
     "text": [
      "\n",
      "📊 Episodio 2/50\n",
      "   Score: 12.0 | Steps: 496\n",
      "   Epsilon: 0.990 | Avg Score: 7.50\n",
      "----------------------------------------\n",
      "  [INFO] - Ep   2 Step 100: Training active\n",
      "  [INFO] - Ep   2 Step 200: Training active\n",
      "  [INFO] - Ep   2 Step 300: Training active\n",
      "  [INFO] - Ep   2 Step 400: Training active\n"
     ]
    },
    {
     "name": "stderr",
     "output_type": "stream",
     "text": [
      "Training:   6%|▌         | 3/50 [1:20:18<25:41:00, 1967.24s/it]"
     ]
    },
    {
     "name": "stdout",
     "output_type": "stream",
     "text": [
      "\n",
      "📊 Episodio 3/50\n",
      "   Score: 9.0 | Steps: 462\n",
      "   Epsilon: 0.985 | Avg Score: 8.00\n",
      "----------------------------------------\n",
      "  [INFO] - Ep   3 Step 100: Training active\n",
      "  [INFO] - Ep   3 Step 200: Training active\n",
      "  [INFO] - Ep   3 Step 300: Training active\n",
      "  [INFO] - Ep   3 Step 400: Training active\n"
     ]
    }
   ],
   "source": [
    "import random\n",
    "\n",
    "if __name__ == \"__main__\":   \n",
    "    # Limpiar cualquier grafo anterior\n",
    "    tf.keras.backend.clear_session()\n",
    "    # Enable NumPy behavior and force eager execution at the start\n",
    "    np_config.enable_numpy_behavior()\n",
    "    # Habilitar eager execution para poder usar .numpy()\n",
    "    tf.config.run_functions_eagerly(True)\n",
    "    print(\"[INFO] - Eager execution habilitado\")\n",
    "\n",
    "    with tf.device('/GPU:0'):\n",
    "        # Crear modelo DQN\n",
    "        trained_dqn_model = crear_modelo('DQN', state_size, action_size, learning_rate)\n",
    "        trained_dqn_model.save_weights('dqn_final.h5')\n",
    "        print(\"Modelo DQN creado\")\n",
    "        \n",
    "        # Crear modelo DDQN\n",
    "        trained_ddqn_model = crear_modelo('DDQN', state_size, action_size, learning_rate, tau=tau)\n",
    "        trained_ddqn_model.save_weights('ddqn_final.h5')\n",
    "        print(\"Modelo DDQN creado\")\n",
    "    \n",
    "        # Probar\n",
    "        print(\"\\nProbando DQN entrenada...\")\n",
    "        test_simple(trained_model=trained_dqn_model, processor=processor, episodes=5, render=episode_render)\n",
    "        \n",
    "        print(\"\\nProbando DDQN entrenada...\")\n",
    "        test_simple(trained_model=trained_ddqn_model, processor=processor, episodes=5, render=episode_render)    "
   ]
  },
  {
   "cell_type": "markdown",
   "metadata": {
    "id": "-NAlu8b1Gb2b"
   },
   "source": [
    "3. Justificación de los parámetros seleccionados y de los resultados obtenidos"
   ]
  },
  {
   "cell_type": "markdown",
   "metadata": {
    "id": "ANFQiicXK3sO"
   },
   "source": [
    "---"
   ]
  },
  {
   "cell_type": "code",
   "execution_count": null,
   "metadata": {},
   "outputs": [],
   "source": []
  }
 ],
 "metadata": {
  "colab": {
   "provenance": []
  },
  "kernelspec": {
   "display_name": "Python 3",
   "language": "python",
   "name": "python3"
  },
  "language_info": {
   "codemirror_mode": {
    "name": "ipython",
    "version": 3
   },
   "file_extension": ".py",
   "mimetype": "text/x-python",
   "name": "python",
   "nbconvert_exporter": "python",
   "pygments_lexer": "ipython3",
   "version": "3.8.20"
  }
 },
 "nbformat": 4,
 "nbformat_minor": 4
}
