{
 "cells": [
  {
   "cell_type": "markdown",
   "metadata": {
    "id": "jUehXgCyIRdq"
   },
   "source": [
    "# Actividad - Proyecto práctico\n",
    "\n",
    "> La actividad se desarrollará en grupos pre-definidos de 2-3 alumnos. Se debe indicar los nombres en orden alfabético (de apellidos). Recordad que esta actividad se corresponde con un 30% de la nota final de la asignatura. Se debe entregar entregar el trabajo en la presente notebook.\n",
    "* Alumno 1:\n",
    "* Alumno 2: Abdelilah BENALI\n",
    "* Alumno 3: Jair Cuesta Cifuentes\n",
    "* Alumno 4: Manel González Huete\n",
    "* Alumno 5: Francisco Manzanas Mogrovejo"
   ]
  },
  {
   "cell_type": "markdown",
   "metadata": {
    "id": "JwpYlnjWJhS9"
   },
   "source": [
    "---\n",
    "## **PARTE 1** - Instalación y requisitos previos\n",
    "\n",
    "> Las prácticas han sido preparadas para poder realizarse en el entorno de trabajo de Google Colab. Sin embargo, esta plataforma presenta ciertas incompatibilidades a la hora de visualizar la renderización en gym. Por ello, para obtener estas visualizaciones, se deberá trasladar el entorno de trabajo a local. Por ello, el presente dosier presenta instrucciones para poder trabajar en ambos entornos. Siga los siguientes pasos para un correcto funcionamiento:\n",
    "1.   **LOCAL:** Preparar el enviroment, siguiendo las intrucciones detalladas en la sección *1.1.Preparar enviroment*.\n",
    "2.  **AMBOS:** Modificar las variables \"mount\" y \"drive_mount\" a la carpeta de trabajo en drive en el caso de estar en Colab, y ejecturar la celda *1.2.Localizar entorno de trabajo*.\n",
    "3. **COLAB:** se deberá ejecutar las celdas correspondientes al montaje de la carpeta de trabajo en Drive. Esta corresponde a la sección *1.3.Montar carpeta de datos local*.\n",
    "4.  **AMBOS:** Instalar las librerías necesarias, siguiendo la sección *1.4.Instalar librerías necesarias*.\n"
   ]
  },
  {
   "cell_type": "markdown",
   "metadata": {
    "id": "RU2BPrK2JkP0"
   },
   "source": [
    "---\n",
    "### 1.1. Preparar enviroment (solo local)\n",
    "\n",
    "\n",
    "\n",
    "> Para preparar el entorno de trabajo en local, se han seguido los siguientes pasos:\n",
    "1. En Windows, puede ser necesario instalar las C++ Build Tools. Para ello, siga los siguientes pasos: https://towardsdatascience.com/how-to-install-openai-gym-in-a-windows-environment-338969e24d30.\n",
    "2. Instalar Anaconda\n",
    "3. Siguiendo el código que se presenta comentado en la próxima celda: Crear un enviroment, cambiar la ruta de trabajo, e instalar librerías básicas.\n",
    "\n",
    "\n",
    "```\n",
    "conda create --name miar_rl python=3.8\n",
    "conda activate miar_rl\n",
    "cd \"PATH_TO_FOLDER\"\n",
    "conda install git\n",
    "pip install jupyter\n",
    "```\n",
    "\n",
    "\n",
    "4. Abrir la notebook con *jupyter-notebook*.\n",
    "\n",
    "\n",
    "\n",
    "```\n",
    "jupyter-notebook\n",
    "```\n"
   ]
  },
  {
   "cell_type": "markdown",
   "metadata": {
    "id": "w-kixNPiJqTc"
   },
   "source": [
    "---\n",
    "### 1.2. Localizar entorno de trabajo: Google colab o local"
   ]
  },
  {
   "cell_type": "code",
   "execution_count": 1,
   "metadata": {
    "id": "S_YDFwZ-JscI"
   },
   "outputs": [],
   "source": [
    "# ATENCIÓN!! Modificar ruta relativa a la práctica si es distinta (drive_root)\n",
    "mount='/content/gdrive'\n",
    "drive_root = mount + \"/My Drive/08_MIAR/actividades/proyecto practico\"\n",
    "\n",
    "try:\n",
    "  from google.colab import drive\n",
    "  IN_COLAB=True\n",
    "except:\n",
    "  IN_COLAB=False"
   ]
  },
  {
   "cell_type": "markdown",
   "metadata": {
    "id": "8Dp_a1iBJ0tf"
   },
   "source": [
    "---\n",
    "### 1.3. Montar carpeta de datos local (solo Colab)"
   ]
  },
  {
   "cell_type": "code",
   "execution_count": 2,
   "metadata": {
    "id": "I6n7MIefJ21i"
   },
   "outputs": [
    {
     "name": "stdout",
     "output_type": "stream",
     "text": [
      "Archivos en el directorio: \n",
      "['.anaconda', '.cache', '.conda', '.condarc', '.config', '.continuum', '.dia', '.gitconfig', '.ipynb_checkpoints', '.ipython', '.jupyter', '.keras', '.Ld9VirtualBox', '.lesshst', '.matplotlib', '.virtual_documents', '.vscode', '01MAIR_ACT_Video.ipynb', '01MIAR_00_Intro.ipynb', '01MIAR_01_Python101.ipynb', '01MIAR_02_Python101_DataTypes.ipynb', '01MIAR_03_Python101_Control.ipynb', '01MIAR_04_Python101_Functions.ipynb', '01MIAR_05_Python101_Files.ipynb', '01MIAR_06_Python101_OOP.ipynb', '01MIAR_07_Python101_Advanced.ipynb', '01MIAR_08_NumPy.ipynb', '01MIAR_09_Pandas.ipynb', '01MIAR_10_+Pandas.ipynb', '01MIAR_11_Visualization.ipynb', '01MIAR_12_Data_Processing.ipynb', '01MIAR_13_Generators.ipynb', '01MIAR_14_Natural_Language.ipynb', '01MIAR_15_OCR.ipynb', '01MIAR_16_Image_Analysis.ipynb', '01MIAR_ACT_Actividad_Final.ipynb', '01MIAR_ACT_Final.ipynb', '01MIAR_ACT_Group.ipynb', '01MIAR_ACT_Group_Solved.ipynb', '01MIAR_ACT_WhitePapers_Canarias.ipynb', '01MIAR_ACT_WhitePapers_Canarias_extendido.ipynb', '01MIAR_Exam_01_B.ipynb', '01MIAR_Exam_Demo.ipynb', '08MIAR_a3c.ipynb', '08MIAR_intro_gym.ipynb', '100_Numpy_exercises.ipynb', '100_Numpy_exercises_with_hints.md', '100_Numpy_exercises_with_solutions.md', 'a3c_full.py', 'Actividad_C1_Manel_Gonzalez_Huete (1).ipynb', 'Actividad_C1_Manel_Gonzalez_Huete.ipynb', 'AG3_Algoritmos(Colonia_de_Hormigas).ipynb', 'AI-blog', 'Algoritmos_AG3 - copia.ipynb', 'Algoritmos_AG3.ipynb', 'Anaconda3-2024.10-1-Windows-x86_64.exe', 'AppData', 'breakout_a3c.pth', 'breakout_a3c_best.pth', 'Configuración local', 'Contacts', 'Cookies', 'dataset_exam.npy', 'Datos de programa', 'Desktop', 'Documents', 'Downloads', 'dwhelper', 'Ejercicios_evaluables_GrupoC_2.ipynb', 'Entorno de red', 'evaluacion_funciones_5.py', 'Examen_C1_Manel_Gonzalez_Huete.ipynb', 'Favorites', 'Impresoras', 'JoplinBackup', 'joplin_crash_dump_20240426T174304.json', 'limpiar.bat', 'Links', 'Menú Inicio', 'MIAR_23OCT_Exam01-1.ipynb', 'Mis documentos', 'Music', 'NTUSER.DAT', 'ntuser.dat.LOG1', 'ntuser.dat.LOG2', 'NTUSER.DAT{5b9746f1-f947-11ef-a78f-df08df9682fe}.TM.blf', 'NTUSER.DAT{5b9746f1-f947-11ef-a78f-df08df9682fe}.TMContainer00000000000000000001.regtrans-ms', 'NTUSER.DAT{5b9746f1-f947-11ef-a78f-df08df9682fe}.TMContainer00000000000000000002.regtrans-ms', 'ntuser.ini', 'OneDrive', 'Pictures', 'Plantillas', 'Programa15.Clasificacion.LOGR.ipynb', 'Programa16.Clasificacion.CART.ipynb', 'Programa17.Clasificacion.SVM.ipynb', 'Reciente', 'requirements.txt', 'requirements_sin_jupyter.txt', 'RL_Proyecto_práctico_Grupo1_C.ipynb', 'RL_Proyecto_práctico_Grupo1_C_ARREGLADO.ipynb', 'rule_extractor_robotrader.ipynb', 'Saved Games', 'scikit_learn_data', 'Searches', 'Seminario_Algoritmos_Manel Gonzalez Huete.ipynb', 'SendTo', 'swiss42.tsp', 'swiss42.tsp.gz', 'test.py', 'throttle_normal_mode.xml', 'throttle_silent_mode.xml', 'Untitled.ipynb', 'Untitled1 (1).ipynb', 'Untitled1.ipynb', 'Untitled221.ipynb', 'Videos', '__pycache__']\n"
     ]
    }
   ],
   "source": [
    "# Switch to the directory on the Google Drive that you want to use\n",
    "import os\n",
    "if IN_COLAB:\n",
    "  print(\"We're running Colab\")\n",
    "\n",
    "  if IN_COLAB:\n",
    "    # Mount the Google Drive at mount\n",
    "    print(\"Colab: mounting Google drive on \", mount)\n",
    "\n",
    "    drive.mount(mount)\n",
    "\n",
    "    # Create drive_root if it doesn't exist\n",
    "    create_drive_root = True\n",
    "    if create_drive_root:\n",
    "      print(\"\\nColab: making sure \", drive_root, \" exists.\")\n",
    "      os.makedirs(drive_root, exist_ok=True)\n",
    "\n",
    "    # Change to the directory\n",
    "    print(\"\\nColab: Changing directory to \", drive_root)\n",
    "    %cd $drive_root\n",
    "# Verify we're in the correct working directory\n",
    "%pwd\n",
    "print(\"Archivos en el directorio: \")\n",
    "print(os.listdir())"
   ]
  },
  {
   "cell_type": "markdown",
   "metadata": {
    "id": "i1ZSL5bpJ560"
   },
   "source": [
    "---\n",
    "### 1.4. Instalar librerías necesarias"
   ]
  },
  {
   "cell_type": "code",
   "execution_count": null,
   "metadata": {
    "id": "UbVRjvHCJ8UF",
    "scrolled": true
   },
   "outputs": [],
   "source": [
    "if IN_COLAB:\n",
    "  %pip install gym==0.17.3\n",
    "  %pip install git+https://github.com/Kojoley/atari-py.git\n",
    "  %pip install keras-rl2==1.0.5\n",
    "  %pip install tensorflow==2.8\n",
    "else:\n",
    "  %pip install numpy==1.23.5\n",
    "  %pip install gym==0.17\n",
    "  %pip install git+https://github.com/Kojoley/atari-py.git\n",
    "  %pip install pyglet==1.5.0\n",
    "  %pip install h5py==3.1.0\n",
    "  %pip install Pillow==9.5.0\n",
    "  %pip install keras-rl2==1.0.5\n",
    "  %pip install Keras==2.2.4\n",
    "  %pip install tensorflow==2.5.3\n",
    "  %pip install torch==2.0.1\n",
    "  %pip install agents==1.4.0\n",
    "  %pip install matplotlib==3.4.3\n",
    "  %pip install tqdm"
   ]
  },
  {
   "cell_type": "markdown",
   "metadata": {
    "id": "4hzP_5ZuGb2X"
   },
   "source": [
    "---\n",
    "## **PARTE 2**. Enunciado\n",
    "\n",
    "Consideraciones a tener en cuenta:\n",
    "\n",
    "- El entorno sobre el que trabajaremos será _SpaceInvaders-v0_ y el algoritmo que usaremos será _DQN_.\n",
    "\n",
    "- Para nuestro ejercicio, el requisito mínimo será alcanzado cuando el agente consiga una **media de recompensa por encima de 20 puntos en modo test**. Por ello, esta media de la recompensa se calculará a partir del código de test en la última celda del notebook.\n",
    "\n",
    "Este proyecto práctico consta de tres partes:\n",
    "\n",
    "1.   Implementar la red neuronal que se usará en la solución\n",
    "2.   Implementar las distintas piezas de la solución DQN\n",
    "3.   Justificar la respuesta en relación a los resultados obtenidos\n",
    "\n",
    "**Rúbrica**: Se valorará la originalidad en la solución aportada, así como la capacidad de discutir los resultados de forma detallada. El requisito mínimo servirá para aprobar la actividad, bajo premisa de que la discusión del resultado sera apropiada.\n",
    "\n",
    "IMPORTANTE:\n",
    "\n",
    "* Si no se consigue una puntuación óptima, responder sobre la mejor puntuación obtenida.\n",
    "* Para entrenamientos largos, recordad que podéis usar checkpoints de vuestros modelos para retomar los entrenamientos. En este caso, recordad cambiar los parámetros adecuadamente (sobre todo los relacionados con el proceso de exploración).\n",
    "* Se deberá entregar unicamente el notebook y los pesos del mejor modelo en un fichero .zip, de forma organizada.\n",
    "* Cada alumno deberá de subir la solución de forma individual."
   ]
  },
  {
   "cell_type": "markdown",
   "metadata": {
    "id": "6_b3mzw8IzJP"
   },
   "source": [
    "---\n",
    "## **PARTE 3**. Desarrollo y preguntas"
   ]
  },
  {
   "cell_type": "markdown",
   "metadata": {
    "id": "duPmUNOVGb2a"
   },
   "source": [
    "### Importar librerías"
   ]
  },
  {
   "cell_type": "code",
   "execution_count": 3,
   "metadata": {
    "id": "j3eRhgI-Gb2a",
    "scrolled": true
   },
   "outputs": [],
   "source": [
    "from __future__ import division\n",
    "\n",
    "from PIL import Image\n",
    "import numpy as np\n",
    "#import gymnasium as gym\n",
    "import gym\n",
    "import matplotlib.pyplot as plt\n",
    "import tensorflow as tf\n",
    "import gc\n",
    "\n",
    "from tensorflow.keras.models import Sequential\n",
    "from tensorflow.keras.layers import Dense, Activation, Flatten, Convolution2D, Permute\n",
    "from tensorflow.keras.optimizers import Adam\n",
    "from rl.agents.dqn import DQNAgent\n",
    "from rl.policy import LinearAnnealedPolicy, BoltzmannQPolicy, EpsGreedyQPolicy\n",
    "from rl.memory import SequentialMemory\n",
    "from rl.core import Processor\n",
    "from rl.callbacks import FileLogger, ModelIntervalCheckpoint\n",
    "from collections import deque\n",
    "from tqdm import trange\n",
    "import tensorflow.keras.backend as K"
   ]
  },
  {
   "cell_type": "markdown",
   "metadata": {
    "id": "f4jgQjzoGb2a"
   },
   "source": [
    "### Crear el entorno\n",
    "Nuestro entorno es el juego Space Invaders, de Atari"
   ]
  },
  {
   "cell_type": "code",
   "execution_count": 4,
   "metadata": {
    "id": "jwOE6I_KGb2a"
   },
   "outputs": [
    {
     "name": "stderr",
     "output_type": "stream",
     "text": [
      "c:\\Users\\User\\Desktop\\MASTER\\1_ASIGNATURAS\\08-Aprendizaje_por_Refuerzo\\04_Proyecto\\git\\RL_Project_Grupo1-C\\venv_apr\\lib\\site-packages\\gym\\envs\\registration.py:555: UserWarning: \u001b[33mWARN: The environment SpaceInvaders-v0 is out of date. You should consider upgrading to version `v4`.\u001b[0m\n",
      "  logger.warn(\n"
     ]
    }
   ],
   "source": [
    "# Create our environment\n",
    "env_name = 'SpaceInvaders-v0'\n",
    "env = gym.make(env_name)\n",
    "\n",
    "np.random.seed(123)\n",
    "env.seed(123)\n",
    "nb_actions = env.action_space.n"
   ]
  },
  {
   "cell_type": "code",
   "execution_count": 5,
   "metadata": {},
   "outputs": [
    {
     "name": "stdout",
     "output_type": "stream",
     "text": [
      "El tamaño de nuestro 'frame' es:  Box(0, 255, (210, 160, 3), uint8)\n",
      "El número de acciones posibles es :  6\n",
      "Las acciones posibles son :  ['NOOP', 'FIRE', 'RIGHT', 'LEFT', 'RIGHTFIRE', 'LEFTFIRE']\n",
      "\n",
      "OHE de las acciones posibles: \n",
      " [[1 0 0 0 0 0]\n",
      " [0 1 0 0 0 0]\n",
      " [0 0 1 0 0 0]\n",
      " [0 0 0 1 0 0]\n",
      " [0 0 0 0 1 0]\n",
      " [0 0 0 0 0 1]]\n"
     ]
    }
   ],
   "source": [
    "print(\"El tamaño de nuestro 'frame' es: \", env.observation_space)\n",
    "print(\"El número de acciones posibles es : \", nb_actions)\n",
    "print(\"Las acciones posibles son : \",env.env.get_action_meanings())\n",
    "\n",
    "# Here we create an hot encoded version of our actions\n",
    "# possible_actions = [[1, 0, 0, 0, 0, 0], [0, 1, 0, 0, 0, 0, 0]...]\n",
    "possible_actions = np.array(np.identity(env.action_space.n,dtype=int).tolist())\n",
    "print(\"\\nOHE de las acciones posibles: \\n\", possible_actions)"
   ]
  },
  {
   "cell_type": "markdown",
   "metadata": {},
   "source": [
    "### Definición Hiperparámetros"
   ]
  },
  {
   "cell_type": "code",
   "execution_count": 6,
   "metadata": {},
   "outputs": [],
   "source": [
    "### HIPERPARÁMETROS DEL MODELO\n",
    "INPUT_SHAPE = (84, 84)\n",
    "state_size = [84, 84, 4]          # Nuestra entrada es una pila de 4 fotogramas, por lo tanto 110x84x4 (ancho, alto, canales)\n",
    "action_size = env.action_space.n  # 6 acciones posibles\n",
    "learning_rate =  0.00025          # Alfa (también conocido como tasa de aprendizaje)\n",
    "\n",
    "### HIPERPARÁMETROS DE ENTRENAMIENTO\n",
    "total_episodios = 50           # Episodios totales para el entrenamiento\n",
    "max_steps = 50000              # Máximo de pasos posibles por episodio\n",
    "#total_episodios = 10           # Episodios totales para el entrenamiento\n",
    "#max_steps = 10000              # Máximo de pasos posibles por episodio\n",
    "batch_size = 32                # Tamaño del lote (batch)\n",
    "\n",
    "# Parámetros de exploración para la estrategia epsilon-greedy\n",
    "epsilon_start = 1.0            # Probabilidad de exploración al inicio\n",
    "epsilon_stop = 0.01            # Probabilidad mínima de exploración\n",
    "decay_rate = 0.00001           # Tasa de decaimiento exponencial para la probabilidad de exploración\n",
    "epsilon_decay = 0.995\n",
    "\n",
    "# Hiperparámetros del aprendizaje Q\n",
    "gamma = 0.95                   # Tasa de descuento\n",
    "\n",
    "### HIPERPARÁMETROS DE MEMORIA\n",
    "pretrain_length = batch_size   # Número de experiencias almacenadas en la memoria al inicializar por primera vez\n",
    "memory_size = 20000            # Número de experiencias que la memoria puede guardar\n",
    "\n",
    "### HIPERPARÁMETROS DE PREPROCESAMIENTO\n",
    "WINDOW_LENGTH = 4              # Número de fotogramas apilados\n",
    "\n",
    "### CAMBIA ESTO A FALSE SI SOLO QUIERES VER AL AGENTE ENTRENADO\n",
    "training = False\n",
    "\n",
    "## CAMBIA ESTO A TRUE SI QUIERES RENDERIZAR EL ENTORNO\n",
    "episode_render = False"
   ]
  },
  {
   "cell_type": "markdown",
   "metadata": {},
   "source": [
    "### Clase \"processor\" para Atari\n",
    "\n",
    "Ahora definimos un \"processor\" para las pantallas de entrada del juego, en el que recortamos el tamaño de la imagen (matriz de 210 x 160 píxeles) y la convertimos En una matriz bidimensional de 80 x 80 píxeles). También convertimos las imágenes de RGB a escala de grises normal, ya que no necesitamos usar los colores. Con este trabajo buscamos acelerar nuestro algoritmo, eliminando la información innecesaria y reduciendo la carga de la GPU."
   ]
  },
  {
   "cell_type": "code",
   "execution_count": 7,
   "metadata": {
    "id": "9jGEZUcpGb2a"
   },
   "outputs": [],
   "source": [
    "from rl.core import Processor\n",
    "\n",
    "class AtariProcessor(Processor):\n",
    "    def process_observation(self, observation):\n",
    "        \"\"\"\n",
    "        Preprocesamiento simple: convierte a escala de grises y normaliza\n",
    "        \"\"\"\n",
    "        assert observation.ndim == 3  # (height, width, channel)\n",
    "        img = Image.fromarray(observation)\n",
    "        img = img.resize(INPUT_SHAPE).convert('L')\n",
    "        processed_observation = np.array(img)\n",
    "        assert processed_observation.shape == INPUT_SHAPE\n",
    "        return processed_observation.astype('uint8')\n",
    "\n",
    "    def process_state_batch(self, batch):\n",
    "        processed_batch = batch.astype('float32') / 255.\n",
    "        return processed_batch\n",
    "\n",
    "    def process_reward(self, reward):\n",
    "        return np.clip(reward, -1., 1.)"
   ]
  },
  {
   "cell_type": "markdown",
   "metadata": {},
   "source": [
    "### Revisar el entorno de juego"
   ]
  },
  {
   "cell_type": "code",
   "execution_count": 8,
   "metadata": {},
   "outputs": [
    {
     "data": {
      "image/png": "[encoded data removed]",
      "text/plain": [
       "<Figure size 640x480 with 1 Axes>"
      ]
     },
     "metadata": {},
     "output_type": "display_data"
    }
   ],
   "source": [
    "observation, info = env.reset()  #Add commentMore actions\n",
    "for i in range(22):\n",
    "    if i > 20:\n",
    "        plt.imshow(observation)\n",
    "        plt.show()\n",
    "\n",
    "    observation, reward, terminated, truncated, info = env.step(1)\n",
    "    done = terminated or truncated\n",
    "    if done: \n",
    "        break"
   ]
  },
  {
   "cell_type": "code",
   "execution_count": null,
   "metadata": {},
   "outputs": [
    {
     "ename": "ValueError",
     "evalue": "too many values to unpack (expected 4)",
     "output_type": "error",
     "traceback": [
      "\u001b[1;31m---------------------------------------------------------------------------\u001b[0m",
      "\u001b[1;31mValueError\u001b[0m                                Traceback (most recent call last)",
      "Cell \u001b[1;32mIn[36], line 9\u001b[0m\n\u001b[0;32m      6\u001b[0m   plt\u001b[38;5;241m.\u001b[39mimshow(observation)\n\u001b[0;32m      7\u001b[0m   plt\u001b[38;5;241m.\u001b[39mshow()\n\u001b[1;32m----> 9\u001b[0m observation, reward, done, info \u001b[38;5;241m=\u001b[39m env\u001b[38;5;241m.\u001b[39mstep(\u001b[38;5;241m1\u001b[39m)\n",
      "\u001b[1;31mValueError\u001b[0m: too many values to unpack (expected 4)"
     ]
    }
   ],
   "source": [
    "#import matplotlib.pyplot as plt\n",
    "\n",
    "#observation = env.reset()\n",
    "#for i in range(22): \n",
    "#  if i > 20:\n",
    "#    plt.imshow(observation)\n",
    "#    plt.show()\n",
    "\n",
    "#  observation, reward, done, info = env.step(1)"
   ]
  },
  {
   "cell_type": "code",
   "execution_count": 9,
   "metadata": {},
   "outputs": [
    {
     "data": {
      "image/png": "[encoded data removed]",
      "text/plain": [
       "<Figure size 640x480 with 1 Axes>"
      ]
     },
     "metadata": {},
     "output_type": "display_data"
    },
    {
     "name": "stdout",
     "output_type": "stream",
     "text": [
      "(210, 160, 3)\n",
      "(84, 84)\n"
     ]
    }
   ],
   "source": [
    "# Mostrar las entradas preprocesadas en escala de grises y comparar originales y preprocesados.\n",
    "processor = AtariProcessor()\n",
    "obs_preprocessed = processor.process_observation(observation).reshape(INPUT_SHAPE)\n",
    "plt.imshow(processor.process_state_batch(obs_preprocessed))\n",
    "plt.show()\n",
    "print(observation.shape)\n",
    "print(obs_preprocessed.shape)"
   ]
  },
  {
   "cell_type": "markdown",
   "metadata": {
    "id": "7yitXTADGb2b"
   },
   "source": [
    "1. Implementación de la red neuronal"
   ]
  },
  {
   "cell_type": "markdown",
   "metadata": {},
   "source": [
    "Crearemos una clase para construir un red Q-profunda, con tres capas convolucionales, seguidas de una capa de aplanamiento y una capa completamente conectada."
   ]
  },
  {
   "cell_type": "code",
   "execution_count": 10,
   "metadata": {
    "id": "O4GKrfWSGb2b"
   },
   "outputs": [],
   "source": [
    "class DQNetwork(tf.keras.Model):\n",
    "    \"\"\"\n",
    "    Red neuronal Deep Q-Network (DQN) para aproximar la función Q en aprendizaje por refuerzo.\n",
    "\n",
    "    Esta clase implementa una red convolucional que recibe un estado (conjunto de frames)\n",
    "    y produce los valores Q para cada acción posible. Usa capas convolucionales seguidas\n",
    "    de capas totalmente conectadas, con activación ELU.\n",
    "\n",
    "    Parámetros:\n",
    "    -----------\n",
    "    state_size : tupla/lista - Dimensiones del estado de entrada (por ejemplo, [84, 84, 4]).\n",
    "    action_size : int        - Número de acciones posibles en el entorno.\n",
    "    learning_rate : float    - Tasa de aprendizaje para el optimizador Adam.\n",
    "    name : str, opcional     - Nombre del scope de TensorFlow para distinguir múltiples redes.\n",
    "    \"\"\"\n",
    "    def __init__(self, state_size, action_size, learning_rate, name='DQNetwork'):\n",
    "        super(DQNetwork, self).__init__(name=name)\n",
    "        \n",
    "        self.state_size = state_size\n",
    "        self.action_size = action_size\n",
    "        self.learning_rate = learning_rate\n",
    "\n",
    "        # Primera capa convolucional con activación ELU\n",
    "        self.conv1 = tf.keras.layers.Conv2D(filters=32, kernel_size=(8,8), strides=(4,4) ,\n",
    "                                            padding='same', activation='elu',\n",
    "                                            kernel_initializer='glorot_uniform')  # (84, 84, 4)\n",
    "        # Segunda capa convolucional con activación ELU\n",
    "        self.conv2 = tf.keras.layers.Conv2D(filters=64, kernel_size=(4,4), strides=(2,2),\n",
    "                                            padding='same', activation='elu',\n",
    "                                            kernel_initializer='glorot_uniform')\n",
    "        # Tercera capa convolucional con activación ELU\n",
    "        self.conv3 = tf.keras.layers.Conv2D(filters=64, kernel_size=(3,3), strides=(1,1),\n",
    "                                            padding='same', activation='elu',\n",
    "                                            kernel_initializer='glorot_uniform')\n",
    "        # Aplanar la salida de la última convolucional\n",
    "        self.flatten = tf.keras.layers.Flatten()\n",
    "        # Capa completamente conectada con activación ELU\n",
    "        self.fc = tf.keras.layers.Dense(units=512, activation='elu',\n",
    "                                        kernel_initializer='glorot_uniform')\n",
    "        # Capa de salida que devuelve valores Q para cada acción\n",
    "        self.output_layer = tf.keras.layers.Dense(units=self.action_size,\n",
    "                                                  activation=None,\n",
    "                                                  kernel_initializer='glorot_uniform')\n",
    "\n",
    "        # Definir el optimizador\n",
    "        self.optimizer = tf.keras.optimizers.Adam(learning_rate=self.learning_rate)\n",
    "        # Definir la función de pérdida (error cuadrático medio)\n",
    "        self.loss_fn = tf.keras.losses.MeanSquaredError()\n",
    "        self.compile(optimizer=self.optimizer, loss=self.loss_fn)\n",
    "\n",
    "    def call(self, inputs):\n",
    "        \"\"\"\n",
    "        Ejecuta la red neuronal para un batch de estados y define la lógica para hacer la propagación hacia adelante (forward pass). \n",
    "        Se llama automáticamente en una clase que hereda de tf.keras.Model o tf.keras.layers.Layer.\n",
    "\n",
    "        Parámetros:\n",
    "        -----------\n",
    "        inputs : tf.Tensor  - Tensor con los estados de entrada, shape = (batch_size, *state_size)\n",
    "\n",
    "        Retorna:\n",
    "        --------\n",
    "        tf.Tensor - Valores Q para cada acción, shape = (batch_size, action_size)\n",
    "        \"\"\"\n",
    "        x = self.conv1(inputs)\n",
    "        x = self.conv2(x)\n",
    "        x = self.conv3(x)\n",
    "        x = self.flatten(x)\n",
    "        x = self.fc(x)\n",
    "        q_values = self.output_layer(x)\n",
    "        return q_values\n",
    "\n",
    "    def train_step(self, states, actions, target_q):\n",
    "        \"\"\"\n",
    "        Realiza un paso de entrenamiento: calcula la pérdida y aplica gradientes.\n",
    "\n",
    "        Parámetros:\n",
    "        -----------\n",
    "        states : tf.Tensor -    Batch de estados de entrada, shape = (batch_size, *state_size)\n",
    "        actions : tf.Tensor -   Acciones tomadas, codificadas one-hot, shape = (batch_size, action_size)\n",
    "        target_q : tf.Tensor -  Valores objetivo Q, shape = (batch_size,)\n",
    "\n",
    "        Retorna:\n",
    "        --------\n",
    "        loss : tf.Tensor -      Valor de la pérdida calculada en este paso.\n",
    "        \"\"\"\n",
    "        with tf.GradientTape() as tape:\n",
    "            q_values = self.call(states)  # Salida con valores Q para todas las acciones\n",
    "            # Obtenemos Q para las acciones tomadas multiplicando por la máscara one-hot y sumando\n",
    "            q_action = tf.reduce_sum(q_values * actions, axis=1)\n",
    "            # Si target_q es (batch_size, num_actions), entonces:\n",
    "            target_q_action = tf.reduce_sum(tf.expand_dims(target_q, axis=1) * actions, axis=1)            \n",
    "            # Calculamos la pérdida MSE entre Q predicho y target_Q\n",
    "            loss = self.loss_fn(target_q_action, q_action)\n",
    "\n",
    "        # Calculamos los gradientes y actualizamos los pesos\n",
    "        gradients = tape.gradient(loss, self.trainable_variables)\n",
    "        self.optimizer.apply_gradients(zip(gradients, self.trainable_variables))\n",
    "\n",
    "        return loss"
   ]
  },
  {
   "cell_type": "markdown",
   "metadata": {
    "id": "OB9-_5HPGb2b"
   },
   "source": [
    "2. Implementación de la solución DQN"
   ]
  },
  {
   "cell_type": "code",
   "execution_count": 11,
   "metadata": {},
   "outputs": [],
   "source": [
    "class FrameStack:\n",
    "    \"\"\"\n",
    "    Clase para apilar frames consecutivos\n",
    "    \"\"\"\n",
    "    def __init__(self, num_frames=4):\n",
    "        self.num_frames = num_frames\n",
    "        self.frames = deque(maxlen=num_frames)\n",
    "    \n",
    "    def reset(self):\n",
    "        self.frames.clear()\n",
    "    \n",
    "    def add_frame(self, frame):\n",
    "        # Si es el primer frame, llenamos el deque\n",
    "        if len(self.frames) == 0:\n",
    "            for _ in range(self.num_frames):\n",
    "                self.frames.append(frame)\n",
    "        else:\n",
    "            self.frames.append(frame)\n",
    "    \n",
    "    def get_state(self):\n",
    "        # Convertir a array con shape (84, 84, 4)\n",
    "        return np.stack(self.frames, axis=-1)"
   ]
  },
  {
   "cell_type": "code",
   "execution_count": 12,
   "metadata": {},
   "outputs": [],
   "source": [
    "def preprocess_state(state, processor, frame_stack):\n",
    "    \"\"\"\n",
    "    Preprocess a single state using AtariProcessor and FrameStack\n",
    "    \"\"\"\n",
    "    processed_frame = processor.process_observation(state)\n",
    "    frame_stack.add_frame(processed_frame)\n",
    "    state = frame_stack.get_state()\n",
    "    return processor.process_state_batch(np.expand_dims(state, 0))[0]"
   ]
  },
  {
   "cell_type": "code",
   "execution_count": 13,
   "metadata": {},
   "outputs": [],
   "source": [
    "import tensorflow.python.ops.numpy_ops.np_config as np_config\n",
    "\n",
    "# Habilitar comportamiento NumPy para tensores de TensorFlow\n",
    "np_config.enable_numpy_behavior()\n",
    "\n",
    "# Asegurar que la ejecución eager esté habilitada desde el inicio\n",
    "tf.config.run_functions_eagerly(True)\n",
    "\n",
    "\n",
    "def simple_train(env,dqnet_class, processor, epsilon_start,total_episodios):\n",
    "    \"\"\"\n",
    "    Entrenamiento simple con tu red DQN\n",
    "    \"\"\"\n",
    "    # Limpiar cualquier grafo anterior\n",
    "    tf.keras.backend.clear_session()\n",
    "    \n",
    "    print(f\"[DEBUG] - Configuración:\")\n",
    "    print(f\"  - State size: {state_size}\")\n",
    "    print(f\"  - Action size: {action_size}\")\n",
    "    print(f\"  - Learning rate: {learning_rate}\")\n",
    "    print(f\"  - Gamma: {gamma}\")\n",
    "    print(f\"  - TensorFlow eager: {tf.executing_eagerly()}\")\n",
    "\n",
    "    # Debug TensorFlow and Keras versions\n",
    "    print(f\"[DEBUG] - TensorFlow version: {tf.__version__}\")\n",
    "    #import keras\n",
    "    from tensorflow import keras\n",
    "    print(f\"[DEBUG] - Keras version: {keras.__version__}\")\n",
    "    \n",
    "    # Crear la red - FORZAR state_size a 4 canales para frame stacking\n",
    "    print(f\"[DEBUG] - Tamaño original del estado (state_size): {state_size}\")  # DEBUG\n",
    "    dqnet = dqnet_class(state_size, action_size, learning_rate)\n",
    "    # Construir explícitamente el modelo con la forma de entrada esperada\n",
    "    # La forma de entrada al método 'call' del modelo es (batch_size, 84, 84, 4)\n",
    "    # Para build, usamos (None, 84, 84, 4) donde None representa el tamaño del lote.\n",
    "    dqnet.build((None, *state_size)) # Esto será (None, 84, 84, 4) asumiendo que state_size es (84, 84, 4)\n",
    "\n",
    "    print(\"[DEBUG] - Información de la red:\\n\")  # DEBUG\n",
    "    print(dqnet.summary())\n",
    "    # -----------------------\n",
    "    \n",
    "    optimizer = tf.keras.optimizers.Adam(learning_rate=learning_rate)\n",
    "    loss_fn = tf.keras.losses.MeanSquaredError()    \n",
    "    print(f\"[DEBUG] - Red creada correctamente\\n\\n\")  # DEBUG\n",
    " \n",
    "    scores = []\n",
    "\n",
    "    for episode in trange(total_episodios, desc=\"Training\"):\n",
    "        \n",
    "        print(f\"\\n  [INFO] - New Ep {episode:3d}\")\n",
    "\n",
    "        # observation = env.reset()\n",
    "        observation, info = env.reset()\n",
    "        frame_stack = FrameStack(WINDOW_LENGTH)\n",
    "        \n",
    "        state = preprocess_state(observation, processor, frame_stack)\n",
    "       \n",
    "        total_reward = 0\n",
    "        steps = 0\n",
    "        max_steps = 1000\n",
    "\n",
    "        while steps < max_steps:\n",
    "            # Selección epsilon-greedy\n",
    "            if np.random.random() <= epsilon_start:\n",
    "                action = env.action_space.sample()\n",
    "            else:\n",
    "                # Método más robusto para obtener acción\n",
    "                state_input = tf.convert_to_tensor(np.expand_dims(state, axis=0), dtype=tf.float32)\n",
    "                q_values = dqnet(state_input, training=False)\n",
    "                # action = tf.argmax(q_values[0]).numpy()        \n",
    "                # Evaluate tensor in graph mode\n",
    "                action = tf.keras.backend.get_value(tf.argmax(q_values[0]))\n",
    "                                \n",
    "            # Ejecutar acción\n",
    "            #next_observation, reward, done, _ = env.step(action)     \n",
    "            next_observation, reward, terminated, truncated, _ = env.step(action)\n",
    "            done = terminated or truncated\n",
    "       \n",
    "            # Procesar siguiente estado       \n",
    "            next_state = preprocess_state(next_observation, processor, frame_stack)\n",
    "            \n",
    "            # Procesar reward (clip entre -1 y 1)\n",
    "            reward = processor.process_reward(reward)     \n",
    "\n",
    "            # Calcular Q-value Objetivo\n",
    "            next_state_tf = tf.convert_to_tensor(np.expand_dims(next_state, axis=0), dtype=tf.float32)\n",
    "            next_q_vals = dqnet(next_state_tf, training=False)\n",
    "            # Evaluate max Q-value in graph mode\n",
    "            # max_next_q = tf.reduce_max(next_q_vals[0]).numpy()\n",
    "            max_next_q = tf.keras.backend.get_value(tf.reduce_max(next_q_vals[0]))\n",
    "            target_q_value = reward + gamma * max_next_q * (1.0 - float(done))         \n",
    "\n",
    "            # Preparar tensores para entrenamiento\n",
    "            states_tf = tf.convert_to_tensor(np.expand_dims(state, axis=0), dtype=tf.float32)\n",
    "            actions_onehot = tf.one_hot([action], action_size)\n",
    "            target_q_tensor = tf.convert_to_tensor([target_q_value], dtype=tf.float32)\n",
    "\n",
    "            # Entrenamiento usando método interno\n",
    "            loss = dqnet.train_step(states_tf, actions_onehot, target_q_tensor)\n",
    "\n",
    "            # Actualizar estado\n",
    "            state = next_state\n",
    "            total_reward += reward\n",
    "            steps += 1\n",
    "\n",
    "            if steps % 100 == 0:\n",
    "                print(f\"  [INFO] - Ep {episode:3d} Step {steps:3d}: Training active\")\n",
    "            if done:\n",
    "                break\n",
    " \n",
    "        # Actualizar epsilon\n",
    "        if epsilon_start > epsilon_stop:\n",
    "            epsilon_start *= epsilon_decay\n",
    "        \n",
    "        scores.append(total_reward)\n",
    "        avg_score = np.mean(scores[-10:]) if len(scores) >= 10 else np.mean(scores)\n",
    "        \n",
    "        print(f\"\\n📊 Episodio {episode + 1}/{total_episodios}\")\n",
    "        print(f\"   Score: {total_reward:.1f} | Steps: {steps}\")\n",
    "        print(f\"   Epsilon: {epsilon_start:.3f} | Avg Score: {avg_score:.2f}\")\n",
    "        print(\"-\" * 40)\n",
    "\n",
    "        # Guardar cada 10 episodios\n",
    "        if (episode + 1) % 10 == 0:\n",
    "            try:\n",
    "                checkpoint_path = f'dqn_checkpoint_ep{episode + 1}.h5'\n",
    "                dqnet.save_weights(checkpoint_path)\n",
    "                print(f\"💾 Guardado: {checkpoint_path}\")\n",
    "            except Exception as e:\n",
    "                print(f\"⚠️  Error guardando: {e}\")    \n",
    "\n",
    "        # Al final del bucle de episodios\n",
    "        print(f\"  [INFO] - Cleaning old object reference ...\")\n",
    "        gc.collect()\n",
    "\n",
    "    env.close()    \n",
    "    print(\"\\n🎯 Entrenamiento completado!\")\n",
    "    return dqnet"
   ]
  },
  {
   "cell_type": "code",
   "execution_count": 14,
   "metadata": {},
   "outputs": [],
   "source": [
    "def test_simple_dqn(dqn, processor, episodes=3):\n",
    "    \"\"\"\n",
    "    Probar la red entrenada\n",
    "    \"\"\"\n",
    "    env = gym.make('SpaceInvaders-v0')\n",
    "    frame_stack = FrameStack(WINDOW_LENGTH)\n",
    "    scores = []    \n",
    "    \n",
    "    for episode in range(episodes):\n",
    "        #observation = env.reset()\n",
    "        observation, info = env.reset()\n",
    "        state = preprocess_state(observation, processor, frame_stack)\n",
    "        total_reward = 0\n",
    "        steps = 0\n",
    "        \n",
    "        while steps < 1000:\n",
    "            if episode_render:\n",
    "                env.render()\n",
    "            \n",
    "            # Sin exploración - solo usar la red\n",
    "            state_tensor = tf.convert_to_tensor(np.expand_dims(state, axis=0), dtype=tf.float32)\n",
    "            q_values = dqn(state_tensor, training=False)\n",
    "            action = np.argmax(q_values[0])\n",
    "            \n",
    "            #next_observation, reward, done, _ = env.step(action)\n",
    "            next_observation, reward, terminated, truncated, _ = env.step(action)\n",
    "            done = terminated or truncated\n",
    "\n",
    "            state = preprocess_state(next_observation, processor, frame_stack)\n",
    "            total_reward += reward\n",
    "            steps += 1\n",
    "            \n",
    "            if done:\n",
    "                break\n",
    "        \n",
    "        scores.append(total_reward)\n",
    "        print(f\"Episodio de prueba {episode + 1}: Score = {total_reward}, Steps = {steps}\")\n",
    "    \n",
    "    avg_test_score = np.mean(scores)\n",
    "    print(f\"\\nPromedio de recompensa en {episodes} episodios de prueba: {avg_test_score:.2f}\")\n",
    "    \n",
    "    env.close()\n",
    "    return avg_test_score"
   ]
  },
  {
   "cell_type": "markdown",
   "metadata": {},
   "source": [
    "    2.1 Ejecución de los modelos"
   ]
  },
  {
   "cell_type": "code",
   "execution_count": 15,
   "metadata": {},
   "outputs": [],
   "source": [
    "# Función de utilidad para crear y comparar los modelos que se vayan creando\n",
    "def crear_modelo(model_type, state_size, action_size, learning_rate=0.001, **kwargs):\n",
    "    \"\"\"\n",
    "    Factory function para crear modelos DQN o DDQN.\n",
    "    \n",
    "    Parámetros:\n",
    "    -----------\n",
    "    model_type :    str - Tipo de modelo: 'DQN' o 'DDQN'\n",
    "    state_size :    tupla - Dimensiones del estado\n",
    "    action_size :   int - Número de acciones\n",
    "    learning_rate : float - Tasa de aprendizaje\n",
    "    **kwargs : dict - Argumentos adicionales específicos del modelo\n",
    "    \n",
    "    Retorna:\n",
    "    --------\n",
    "    DQNetwork o DDQNetwork - Modelo creado según el tipo especificado\n",
    "    \"\"\"\n",
    "    # Crear el procesador Atari\n",
    "    processor = AtariProcessor()\n",
    "    \n",
    "    print(\"-\" * 60)  \n",
    "    if model_type.upper() == 'DQN':\n",
    "        print(\"Entrenando DQN simple para Space Invaders...\")\n",
    "        # Entrenar -------------------------------------\n",
    "        trained_dqn = simple_train(env,DQNetwork, processor, epsilon_start,total_episodios)\n",
    "    elif model_type.upper() == 'DDQN':\n",
    "        print(\"Entrenando DDQN simple para Space Invaders...\")\n",
    "        print(\"---Pendiente...\")        \n",
    "     #    trained_dqn = simple_train(env,DDQNetwork, processor, epsilon_start,total_episodios)        \n",
    "    else:\n",
    "        raise ValueError(\"model_type debe ser 'DQN' o 'DDQN'\")\n",
    "\n",
    "    print(\"Esto es una versión simplificada para pruebas rápidas\")\n",
    "    print(\"-\" * 60)       \n",
    "\n",
    "    return trained_dqn\n"
   ]
  },
  {
   "cell_type": "code",
   "execution_count": 19,
   "metadata": {},
   "outputs": [
    {
     "data": {
      "text/plain": [
       "[PhysicalDevice(name='/physical_device:GPU:0', device_type='GPU')]"
      ]
     },
     "execution_count": 19,
     "metadata": {},
     "output_type": "execute_result"
    }
   ],
   "source": [
    "tf.config.list_physical_devices('GPU')"
   ]
  },
  {
   "cell_type": "code",
   "execution_count": null,
   "metadata": {
    "scrolled": true
   },
   "outputs": [],
   "source": [
    "import random\n",
    "\n",
    "if __name__ == \"__main__\":   \n",
    "    \n",
    "    # Limpiar cualquier grafo anterior\n",
    "    tf.keras.backend.clear_session()\n",
    "    # Enable NumPy behavior and force eager execution at the start\n",
    "    np_config.enable_numpy_behavior()\n",
    "    # Habilitar eager execution para poder usar .numpy()\n",
    "    tf.config.run_functions_eagerly(True)\n",
    "    print(\"[INFO] - Eager execution habilitado\")\n",
    "\n",
    "    # Ver si TensorFlow detecta GPU\n",
    "    gpus = tf.config.list_physical_devices('GPU')\n",
    "    if gpus:\n",
    "        print(\"[INFO] - Entrenando con GPU\")\n",
    "    else:\n",
    "        print(\"[INFO] - Entrenando con CPU\")\n",
    "        \n",
    "    with tf.device('/GPU:0'):\n",
    "        # Crear modelo DQN\n",
    "        trained_dqn_model = crear_modelo('DQN', state_size, action_size, learning_rate)\n",
    "        print(\"Modelo DQN creado\")\n",
    "        \n",
    "        # Crear modelo DDQN\n",
    "        # trained_ddqn_model = crear_modelo('DDQN', state_size, action_size, learning_rate, tau=0.001)\n",
    "        print(\"Modelo DDQN creado\")\n",
    "    \n",
    "        # Probar\n",
    "        print(\"\\nProbando DQN entrenada...\")\n",
    "        # test_simple_dqn(trained_dqn_model, processor, episodes=2)"
   ]
  },
  {
   "cell_type": "markdown",
   "metadata": {
    "id": "-NAlu8b1Gb2b"
   },
   "source": [
    "3. Justificación de los parámetros seleccionados y de los resultados obtenidos"
   ]
  },
  {
   "cell_type": "markdown",
   "metadata": {
    "id": "ANFQiicXK3sO"
   },
   "source": [
    "---"
   ]
  },
  {
   "cell_type": "code",
   "execution_count": null,
   "metadata": {},
   "outputs": [],
   "source": []
  }
 ],
 "metadata": {
  "colab": {
   "provenance": []
  },
  "kernelspec": {
   "display_name": "Python 3",
   "language": "python",
   "name": "python3"
  },
  "language_info": {
   "codemirror_mode": {
    "name": "ipython",
    "version": 3
   },
   "file_extension": ".py",
   "mimetype": "text/x-python",
   "name": "python",
   "nbconvert_exporter": "python",
   "pygments_lexer": "ipython3",
   "version": "3.8.20"
  }
 },
 "nbformat": 4,
 "nbformat_minor": 4
}
