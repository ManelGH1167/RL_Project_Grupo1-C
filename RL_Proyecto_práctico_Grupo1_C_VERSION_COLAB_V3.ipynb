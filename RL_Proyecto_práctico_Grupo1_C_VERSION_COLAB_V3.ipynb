{
  "cells": [
    {
      "cell_type": "markdown",
      "metadata": {
        "id": "jUehXgCyIRdq"
      },
      "source": [
        "# Actividad - Proyecto práctico\n",
        "\n",
        "> La actividad se desarrollará en grupos pre-definidos de 2-3 alumnos. Se debe indicar los nombres en orden alfabético (de apellidos). Recordad que esta actividad se corresponde con un 30% de la nota final de la asignatura. Se debe entregar entregar el trabajo en la presente notebook.\n",
        "* Alumno 1:\n",
        "* Alumno 2: Abdelilah BENALI\n",
        "* Alumno 3: Jair Cuesta Cifuentes\n",
        "* Alumno 4: Manel González Huete\n",
        "* Alumno 5: Francisco Manzanas Mogrovejo"
      ]
    },
    {
      "cell_type": "markdown",
      "metadata": {
        "id": "JwpYlnjWJhS9"
      },
      "source": [
        "---\n",
        "## **PARTE 1** - Instalación y requisitos previos\n",
        "\n",
        "> Las prácticas han sido preparadas para poder realizarse en el entorno de trabajo de Google Colab. Sin embargo, esta plataforma presenta ciertas incompatibilidades a la hora de visualizar la renderización en gym. Por ello, para obtener estas visualizaciones, se deberá trasladar el entorno de trabajo a local. Por ello, el presente dosier presenta instrucciones para poder trabajar en ambos entornos. Siga los siguientes pasos para un correcto funcionamiento:\n",
        "1.   **LOCAL:** Preparar el enviroment, siguiendo las intrucciones detalladas en la sección *1.1.Preparar enviroment*.\n",
        "2.  **AMBOS:** Modificar las variables \"mount\" y \"drive_mount\" a la carpeta de trabajo en drive en el caso de estar en Colab, y ejecturar la celda *1.2.Localizar entorno de trabajo*.\n",
        "3. **COLAB:** se deberá ejecutar las celdas correspondientes al montaje de la carpeta de trabajo en Drive. Esta corresponde a la sección *1.3.Montar carpeta de datos local*.\n",
        "4.  **AMBOS:** Instalar las librerías necesarias, siguiendo la sección *1.4.Instalar librerías necesarias*.\n"
      ]
    },
    {
      "cell_type": "markdown",
      "metadata": {
        "id": "RU2BPrK2JkP0"
      },
      "source": [
        "---\n",
        "### 1.1. Preparar enviroment (solo local)\n",
        "\n",
        "\n",
        "\n",
        "> Para preparar el entorno de trabajo en local, se han seguido los siguientes pasos:\n",
        "1. En Windows, puede ser necesario instalar las C++ Build Tools. Para ello, siga los siguientes pasos: https://towardsdatascience.com/how-to-install-openai-gym-in-a-windows-environment-338969e24d30.\n",
        "2. Instalar Anaconda\n",
        "3. Siguiendo el código que se presenta comentado en la próxima celda: Crear un enviroment, cambiar la ruta de trabajo, e instalar librerías básicas.\n",
        "\n",
        "\n",
        "```\n",
        "conda create --name miar_rl python=3.8\n",
        "conda activate miar_rl\n",
        "cd \"PATH_TO_FOLDER\"\n",
        "conda install git\n",
        "pip install jupyter\n",
        "```\n",
        "\n",
        "\n",
        "4. Abrir la notebook con *jupyter-notebook*.\n",
        "\n",
        "\n",
        "\n",
        "```\n",
        "jupyter-notebook\n",
        "```\n"
      ]
    },
    {
      "cell_type": "markdown",
      "metadata": {
        "id": "w-kixNPiJqTc"
      },
      "source": [
        "---\n",
        "### 1.2. Localizar entorno de trabajo: Google colab o local"
      ]
    },
    {
      "cell_type": "code",
      "execution_count": null,
      "metadata": {
        "id": "S_YDFwZ-JscI"
      },
      "outputs": [],
      "source": [
        "# # ATENCIÓN!! Modificar ruta relativa a la práctica si es distinta (drive_root)\n",
        "# mount='/content/gdrive'\n",
        "# drive_root = mount + \"/My Drive/08_MIAR/actividades/proyecto practico\"\n",
        "\n",
        "# try:\n",
        "#   from google.colab import drive\n",
        "#   IN_COLAB=True\n",
        "# except:\n",
        "#   IN_COLAB=False"
      ]
    },
    {
      "cell_type": "markdown",
      "metadata": {
        "id": "8Dp_a1iBJ0tf"
      },
      "source": [
        "---\n",
        "### 1.3. Montar carpeta de datos local (solo Colab)"
      ]
    },
    {
      "cell_type": "code",
      "execution_count": null,
      "metadata": {
        "id": "I6n7MIefJ21i"
      },
      "outputs": [],
      "source": [
        "# # Switch to the directory on the Google Drive that you want to use\n",
        "# import os\n",
        "# if IN_COLAB:\n",
        "#   print(\"We're running Colab\")\n",
        "\n",
        "#   if IN_COLAB:\n",
        "#     # Mount the Google Drive at mount\n",
        "#     print(\"Colab: mounting Google drive on \", mount)\n",
        "\n",
        "#     drive.mount(mount)\n",
        "\n",
        "#     # Create drive_root if it doesn't exist\n",
        "#     create_drive_root = True\n",
        "#     if create_drive_root:\n",
        "#       print(\"\\nColab: making sure \", drive_root, \" exists.\")\n",
        "#       os.makedirs(drive_root, exist_ok=True)\n",
        "\n",
        "#     # Change to the directory\n",
        "#     print(\"\\nColab: Changing directory to \", drive_root)\n",
        "#     %cd $drive_root\n",
        "# # Verify we're in the correct working directory\n",
        "# %pwd\n",
        "# print(\"Archivos en el directorio: \")\n",
        "# print(os.listdir())"
      ]
    },
    {
      "cell_type": "markdown",
      "metadata": {
        "id": "i1ZSL5bpJ560"
      },
      "source": [
        "---\n",
        "### 1.4. Instalar librerías necesarias"
      ]
    },
    {
      "cell_type": "markdown",
      "source": [
        "**‼️ Crear un entorno virtual para instalar las versiones correctas de los módulos.**\n",
        "\n"
      ],
      "metadata": {
        "id": "LZbBr9Bb3Yu5"
      }
    },
    {
      "cell_type": "code",
      "source": [
        "# 1. Instalar virtualenv\n",
        "!pip install virtualenv --quiet\n",
        "\n",
        "# 2. Crear el entorno virtual llamado \"miar_rl\"\n",
        "!virtualenv miar_rl\n",
        "\n",
        "# 3. Instala paquetes DENTRO del entorno virtual con versiones exactas\n",
        "!./miar_rl/bin/pip install numpy==1.23.5 --quiet\n",
        "!./miar_rl/bin/pip install gym==0.17.3 --quiet\n",
        "!./miar_rl/bin/pip install tensorflow==2.12.1 keras==2.12.0 --quiet\n",
        "!./miar_rl/bin/pip install git+https://github.com/Kojoley/atari-py.git@1.2.2 --quiet\n",
        "!./miar_rl/bin/pip install keras-rl2==1.0.5 --quiet\n",
        "\n",
        "# Librerías adicionales\n",
        "!./miar_rl/bin/pip install Pillow\n",
        "!./miar_rl/bin/pip install matplotlib\n",
        "!./miar_rl/bin/pip install tqdm"
      ],
      "metadata": {
        "id": "dLaINiX8q312",
        "colab": {
          "base_uri": "https://localhost:8080/"
        },
        "outputId": "addaeb61-900e-48fa-80e7-565368d1387e"
      },
      "execution_count": 1,
      "outputs": [
        {
          "output_type": "stream",
          "name": "stdout",
          "text": [
            "\u001b[?25l   \u001b[90m━━━━━━━━━━━━━━━━━━━━━━━━━━━━━━━━━━━━━━━━\u001b[0m \u001b[32m0.0/6.1 MB\u001b[0m \u001b[31m?\u001b[0m eta \u001b[36m-:--:--\u001b[0m\r\u001b[2K   \u001b[91m━\u001b[0m\u001b[90m╺\u001b[0m\u001b[90m━━━━━━━━━━━━━━━━━━━━━━━━━━━━━━━━━━━━━━\u001b[0m \u001b[32m0.2/6.1 MB\u001b[0m \u001b[31m6.0 MB/s\u001b[0m eta \u001b[36m0:00:01\u001b[0m\r\u001b[2K   \u001b[91m━━━━━━━━━━━━━━━\u001b[0m\u001b[91m╸\u001b[0m\u001b[90m━━━━━━━━━━━━━━━━━━━━━━━━\u001b[0m \u001b[32m2.4/6.1 MB\u001b[0m \u001b[31m33.9 MB/s\u001b[0m eta \u001b[36m0:00:01\u001b[0m\r\u001b[2K   \u001b[91m━━━━━━━━━━━━━━━━━━━━━━━━━━━━━━━━━━━━━━━\u001b[0m\u001b[91m╸\u001b[0m \u001b[32m6.1/6.1 MB\u001b[0m \u001b[31m68.1 MB/s\u001b[0m eta \u001b[36m0:00:01\u001b[0m\r\u001b[2K   \u001b[90m━━━━━━━━━━━━━━━━━━━━━━━━━━━━━━━━━━━━━━━━\u001b[0m \u001b[32m6.1/6.1 MB\u001b[0m \u001b[31m52.5 MB/s\u001b[0m eta \u001b[36m0:00:00\u001b[0m\n",
            "\u001b[?25h\u001b[?25l   \u001b[90m━━━━━━━━━━━━━━━━━━━━━━━━━━━━━━━━━━━━━━━━\u001b[0m \u001b[32m0.0/469.0 kB\u001b[0m \u001b[31m?\u001b[0m eta \u001b[36m-:--:--\u001b[0m\r\u001b[2K   \u001b[90m━━━━━━━━━━━━━━━━━━━━━━━━━━━━━━━━━━━━━━━━\u001b[0m \u001b[32m469.0/469.0 kB\u001b[0m \u001b[31m33.3 MB/s\u001b[0m eta \u001b[36m0:00:00\u001b[0m\n",
            "\u001b[?25hcreated virtual environment CPython3.11.13.final.0-64 in 412ms\n",
            "  creator CPython3Posix(dest=/content/miar_rl, clear=False, no_vcs_ignore=False, global=False)\n",
            "  seeder FromAppData(download=False, pip=bundle, setuptools=bundle, via=copy, app_data_dir=/root/.local/share/virtualenv)\n",
            "    added seed packages: pip==25.1.1, setuptools==80.3.1\n",
            "  activators BashActivator,CShellActivator,FishActivator,NushellActivator,PowerShellActivator,PythonActivator\n",
            "\u001b[2K   \u001b[90m━━━━━━━━━━━━━━━━━━━━━━━━━━━━━━━━━━━━━━━━\u001b[0m \u001b[32m17.1/17.1 MB\u001b[0m \u001b[31m125.8 MB/s\u001b[0m eta \u001b[36m0:00:00\u001b[0m\n",
            "\u001b[2K     \u001b[90m━━━━━━━━━━━━━━━━━━━━━━━━━━━━━━━━━━━━━━━━\u001b[0m \u001b[32m1.6/1.6 MB\u001b[0m \u001b[31m30.4 MB/s\u001b[0m eta \u001b[36m0:00:00\u001b[0m\n",
            "\u001b[?25h  Installing build dependencies ... \u001b[?25l\u001b[?25hdone\n",
            "  Getting requirements to build wheel ... \u001b[?25l\u001b[?25hdone\n",
            "  Preparing metadata (pyproject.toml) ... \u001b[?25l\u001b[?25hdone\n",
            "\u001b[2K   \u001b[90m━━━━━━━━━━━━━━━━━━━━━━━━━━━━━━━━━━━━━━━━\u001b[0m \u001b[32m1.0/1.0 MB\u001b[0m \u001b[31m55.6 MB/s\u001b[0m eta \u001b[36m0:00:00\u001b[0m\n",
            "\u001b[2K   \u001b[90m━━━━━━━━━━━━━━━━━━━━━━━━━━━━━━━━━━━━━━━━\u001b[0m \u001b[32m37.7/37.7 MB\u001b[0m \u001b[31m152.4 MB/s\u001b[0m eta \u001b[36m0:00:00\u001b[0m\n",
            "\u001b[?25h  Building wheel for gym (pyproject.toml) ... \u001b[?25l\u001b[?25hdone\n",
            "\u001b[2K   \u001b[90m━━━━━━━━━━━━━━━━━━━━━━━━━━━━━━━━━━━━━━━━\u001b[0m \u001b[32m5/5\u001b[0m [gym]\n",
            "\u001b[2K   \u001b[90m━━━━━━━━━━━━━━━━━━━━━━━━━━━━━━━━━━━━━━━━\u001b[0m \u001b[32m585.9/585.9 MB\u001b[0m \u001b[31m39.2 MB/s\u001b[0m eta \u001b[36m0:00:00\u001b[0m\n",
            "\u001b[2K   \u001b[90m━━━━━━━━━━━━━━━━━━━━━━━━━━━━━━━━━━━━━━━━\u001b[0m \u001b[32m1.7/1.7 MB\u001b[0m \u001b[31m80.3 MB/s\u001b[0m eta \u001b[36m0:00:00\u001b[0m\n",
            "\u001b[2K   \u001b[90m━━━━━━━━━━━━━━━━━━━━━━━━━━━━━━━━━━━━━━━━\u001b[0m \u001b[32m6.0/6.0 MB\u001b[0m \u001b[31m116.8 MB/s\u001b[0m eta \u001b[36m0:00:00\u001b[0m\n",
            "\u001b[2K   \u001b[90m━━━━━━━━━━━━━━━━━━━━━━━━━━━━━━━━━━━━━━━━\u001b[0m \u001b[32m5.6/5.6 MB\u001b[0m \u001b[31m143.1 MB/s\u001b[0m eta \u001b[36m0:00:00\u001b[0m\n",
            "\u001b[2K   \u001b[90m━━━━━━━━━━━━━━━━━━━━━━━━━━━━━━━━━━━━━━━━\u001b[0m \u001b[32m6.6/6.6 MB\u001b[0m \u001b[31m149.9 MB/s\u001b[0m eta \u001b[36m0:00:00\u001b[0m\n",
            "\u001b[2K   \u001b[90m━━━━━━━━━━━━━━━━━━━━━━━━━━━━━━━━━━━━━━━━\u001b[0m \u001b[32m4.5/4.5 MB\u001b[0m \u001b[31m113.9 MB/s\u001b[0m eta \u001b[36m0:00:00\u001b[0m\n",
            "\u001b[2K   \u001b[90m━━━━━━━━━━━━━━━━━━━━━━━━━━━━━━━━━━━━━━━━\u001b[0m \u001b[32m2.2/2.2 MB\u001b[0m \u001b[31m72.7 MB/s\u001b[0m eta \u001b[36m0:00:00\u001b[0m\n",
            "\u001b[2K   \u001b[90m━━━━━━━━━━━━━━━━━━━━━━━━━━━━━━━━━━━━━━━\u001b[0m \u001b[32m101.8/101.8 MB\u001b[0m \u001b[31m146.2 MB/s\u001b[0m eta \u001b[36m0:00:00\u001b[0m\n",
            "\u001b[2K   \u001b[90m━━━━━━━━━━━━━━━━━━━━━━━━━━━━━━━━━━━━━━━━\u001b[0m \u001b[32m17.3/17.3 MB\u001b[0m \u001b[31m171.8 MB/s\u001b[0m eta \u001b[36m0:00:00\u001b[0m\n",
            "\u001b[2K   \u001b[90m━━━━━━━━━━━━━━━━━━━━━━━━━━━━━━━━━━━━━━━━\u001b[0m \u001b[32m24.5/24.5 MB\u001b[0m \u001b[31m187.8 MB/s\u001b[0m eta \u001b[36m0:00:00\u001b[0m\n",
            "\u001b[2K   \u001b[90m━━━━━━━━━━━━━━━━━━━━━━━━━━━━━━━━━━━━━━━━\u001b[0m \u001b[32m4.7/4.7 MB\u001b[0m \u001b[31m123.8 MB/s\u001b[0m eta \u001b[36m0:00:00\u001b[0m\n",
            "\u001b[2K   \u001b[90m━━━━━━━━━━━━━━━━━━━━━━━━━━━━━━━━━━━━━━━━\u001b[0m \u001b[32m5.1/5.1 MB\u001b[0m \u001b[31m116.7 MB/s\u001b[0m eta \u001b[36m0:00:00\u001b[0m\n",
            "\u001b[2K   \u001b[90m━━━━━━━━━━━━━━━━━━━━━━━━━━━━━━━━━━━━━━━━\u001b[0m \u001b[32m42/42\u001b[0m [tensorflow]\n",
            "\u001b[1A\u001b[2K  Preparing metadata (setup.py) ... \u001b[?25l\u001b[?25hdone\n",
            "\u001b[33m  DEPRECATION: Building 'atari-py' using the legacy setup.py bdist_wheel mechanism, which will be removed in a future version. pip 25.3 will enforce this behaviour change. A possible replacement is to use the standardized build interface by setting the `--use-pep517` option, (possibly combined with `--no-build-isolation`), or adding a `pyproject.toml` file to the source tree of 'atari-py'. Discussion can be found at https://github.com/pypa/pip/issues/6334\u001b[0m\u001b[33m\n",
            "\u001b[0m  Building wheel for atari-py (setup.py) ... \u001b[?25l\u001b[?25hdone\n",
            "Collecting Pillow\n",
            "  Downloading pillow-11.2.1-cp311-cp311-manylinux_2_28_x86_64.whl.metadata (8.9 kB)\n",
            "Downloading pillow-11.2.1-cp311-cp311-manylinux_2_28_x86_64.whl (4.6 MB)\n",
            "\u001b[2K   \u001b[90m━━━━━━━━━━━━━━━━━━━━━━━━━━━━━━━━━━━━━━━━\u001b[0m \u001b[32m4.6/4.6 MB\u001b[0m \u001b[31m66.7 MB/s\u001b[0m eta \u001b[36m0:00:00\u001b[0m\n",
            "\u001b[?25hInstalling collected packages: Pillow\n",
            "Successfully installed Pillow-11.2.1\n",
            "Collecting matplotlib\n",
            "  Downloading matplotlib-3.10.3-cp311-cp311-manylinux_2_17_x86_64.manylinux2014_x86_64.whl.metadata (11 kB)\n",
            "Collecting contourpy>=1.0.1 (from matplotlib)\n",
            "  Downloading contourpy-1.3.2-cp311-cp311-manylinux_2_17_x86_64.manylinux2014_x86_64.whl.metadata (5.5 kB)\n",
            "Collecting cycler>=0.10 (from matplotlib)\n",
            "  Downloading cycler-0.12.1-py3-none-any.whl.metadata (3.8 kB)\n",
            "Collecting fonttools>=4.22.0 (from matplotlib)\n",
            "  Downloading fonttools-4.58.4-cp311-cp311-manylinux2014_x86_64.manylinux_2_17_x86_64.whl.metadata (106 kB)\n",
            "Collecting kiwisolver>=1.3.1 (from matplotlib)\n",
            "  Downloading kiwisolver-1.4.8-cp311-cp311-manylinux_2_17_x86_64.manylinux2014_x86_64.whl.metadata (6.2 kB)\n",
            "Requirement already satisfied: numpy>=1.23 in ./miar_rl/lib/python3.11/site-packages (from matplotlib) (1.24.3)\n",
            "Requirement already satisfied: packaging>=20.0 in ./miar_rl/lib/python3.11/site-packages (from matplotlib) (25.0)\n",
            "Requirement already satisfied: pillow>=8 in ./miar_rl/lib/python3.11/site-packages (from matplotlib) (11.2.1)\n",
            "Collecting pyparsing>=2.3.1 (from matplotlib)\n",
            "  Downloading pyparsing-3.2.3-py3-none-any.whl.metadata (5.0 kB)\n",
            "Collecting python-dateutil>=2.7 (from matplotlib)\n",
            "  Downloading python_dateutil-2.9.0.post0-py2.py3-none-any.whl.metadata (8.4 kB)\n",
            "Requirement already satisfied: six>=1.5 in ./miar_rl/lib/python3.11/site-packages (from python-dateutil>=2.7->matplotlib) (1.17.0)\n",
            "Downloading matplotlib-3.10.3-cp311-cp311-manylinux_2_17_x86_64.manylinux2014_x86_64.whl (8.6 MB)\n",
            "\u001b[2K   \u001b[90m━━━━━━━━━━━━━━━━━━━━━━━━━━━━━━━━━━━━━━━━\u001b[0m \u001b[32m8.6/8.6 MB\u001b[0m \u001b[31m105.3 MB/s\u001b[0m eta \u001b[36m0:00:00\u001b[0m\n",
            "\u001b[?25hDownloading contourpy-1.3.2-cp311-cp311-manylinux_2_17_x86_64.manylinux2014_x86_64.whl (326 kB)\n",
            "Downloading cycler-0.12.1-py3-none-any.whl (8.3 kB)\n",
            "Downloading fonttools-4.58.4-cp311-cp311-manylinux2014_x86_64.manylinux_2_17_x86_64.whl (5.0 MB)\n",
            "\u001b[2K   \u001b[90m━━━━━━━━━━━━━━━━━━━━━━━━━━━━━━━━━━━━━━━━\u001b[0m \u001b[32m5.0/5.0 MB\u001b[0m \u001b[31m105.3 MB/s\u001b[0m eta \u001b[36m0:00:00\u001b[0m\n",
            "\u001b[?25hDownloading kiwisolver-1.4.8-cp311-cp311-manylinux_2_17_x86_64.manylinux2014_x86_64.whl (1.4 MB)\n",
            "\u001b[2K   \u001b[90m━━━━━━━━━━━━━━━━━━━━━━━━━━━━━━━━━━━━━━━━\u001b[0m \u001b[32m1.4/1.4 MB\u001b[0m \u001b[31m80.2 MB/s\u001b[0m eta \u001b[36m0:00:00\u001b[0m\n",
            "\u001b[?25hDownloading pyparsing-3.2.3-py3-none-any.whl (111 kB)\n",
            "Downloading python_dateutil-2.9.0.post0-py2.py3-none-any.whl (229 kB)\n",
            "Installing collected packages: python-dateutil, pyparsing, kiwisolver, fonttools, cycler, contourpy, matplotlib\n",
            "\u001b[2K   \u001b[90m━━━━━━━━━━━━━━━━━━━━━━━━━━━━━━━━━━━━━━━━\u001b[0m \u001b[32m7/7\u001b[0m [matplotlib]\n",
            "\u001b[1A\u001b[2KSuccessfully installed contourpy-1.3.2 cycler-0.12.1 fonttools-4.58.4 kiwisolver-1.4.8 matplotlib-3.10.3 pyparsing-3.2.3 python-dateutil-2.9.0.post0\n",
            "Collecting tqdm\n",
            "  Downloading tqdm-4.67.1-py3-none-any.whl.metadata (57 kB)\n",
            "Downloading tqdm-4.67.1-py3-none-any.whl (78 kB)\n",
            "Installing collected packages: tqdm\n",
            "Successfully installed tqdm-4.67.1\n"
          ]
        }
      ]
    },
    {
      "cell_type": "code",
      "source": [
        "# IN_COLAB = True\n",
        "\n",
        "# if IN_COLAB:\n",
        "#   %pip uninstall -y tensorflow keras keras-rl2\n",
        "#   %pip install tensorflow==2.6.0\n",
        "#   %pip install keras-rl2==1.0.5\n",
        "#   %pip install gym==0.17.3\n",
        "#   %pip install git+https://github.com/Kojoley/atari-py.git\n",
        "\n",
        "\n",
        "#   %pip install tensorflow==2.8\n",
        "# if not IN_LOCAL:\n",
        "#   %pip install numpy==1.23.5\n",
        "#   %pip install gym==0.17\n",
        "#   %pip install git+https://github.com/Kojoley/atari-py.git\n",
        "#   %pip install pyglet==1.5.0\n",
        "#   %pip install h5py==3.1.0\n",
        "#   %pip install Pillow==9.5.0\n",
        "#   %pip install keras-rl2==1.0.5\n",
        "#   %pip install Keras==2.2.4\n",
        "#   %pip install tensorflow==2.5.3\n",
        "#   %pip install torch==2.0.1\n",
        "#   %pip install agents==1.4.0\n",
        "#   %pip install matplotlib==3.4.3\n",
        "#   %pip install tqdm\n",
        "\n"
      ],
      "metadata": {
        "id": "qw8CfOtrexpz"
      },
      "execution_count": null,
      "outputs": []
    },
    {
      "cell_type": "markdown",
      "metadata": {
        "id": "4hzP_5ZuGb2X"
      },
      "source": [
        "---\n",
        "## **PARTE 2**. Enunciado\n",
        "\n",
        "Consideraciones a tener en cuenta:\n",
        "\n",
        "- El entorno sobre el que trabajaremos será _SpaceInvaders-v0_ y el algoritmo que usaremos será _DQN_.\n",
        "\n",
        "- Para nuestro ejercicio, el requisito mínimo será alcanzado cuando el agente consiga una **media de recompensa por encima de 20 puntos en modo test**. Por ello, esta media de la recompensa se calculará a partir del código de test en la última celda del notebook.\n",
        "\n",
        "Este proyecto práctico consta de tres partes:\n",
        "\n",
        "1.   Implementar la red neuronal que se usará en la solución\n",
        "2.   Implementar las distintas piezas de la solución DQN\n",
        "3.   Justificar la respuesta en relación a los resultados obtenidos\n",
        "\n",
        "**Rúbrica**: Se valorará la originalidad en la solución aportada, así como la capacidad de discutir los resultados de forma detallada. El requisito mínimo servirá para aprobar la actividad, bajo premisa de que la discusión del resultado sera apropiada.\n",
        "\n",
        "IMPORTANTE:\n",
        "\n",
        "* Si no se consigue una puntuación óptima, responder sobre la mejor puntuación obtenida.\n",
        "* Para entrenamientos largos, recordad que podéis usar checkpoints de vuestros modelos para retomar los entrenamientos. En este caso, recordad cambiar los parámetros adecuadamente (sobre todo los relacionados con el proceso de exploración).\n",
        "* Se deberá entregar unicamente el notebook y los pesos del mejor modelo en un fichero .zip, de forma organizada.\n",
        "* Cada alumno deberá de subir la solución de forma individual."
      ]
    },
    {
      "cell_type": "markdown",
      "metadata": {
        "id": "6_b3mzw8IzJP"
      },
      "source": [
        "---\n",
        "## **PARTE 3**. Desarrollo y preguntas"
      ]
    },
    {
      "cell_type": "markdown",
      "metadata": {
        "id": "duPmUNOVGb2a"
      },
      "source": [
        "### Importar librerías"
      ]
    },
    {
      "cell_type": "markdown",
      "source": [
        "**‼️ No es posible ejecutar con el entorno en las celdas. Se debe crear un script y ejectutarlo directo en shell con Shell escape (!).**"
      ],
      "metadata": {
        "id": "9aUofv4q3hx6"
      }
    },
    {
      "cell_type": "code",
      "execution_count": null,
      "metadata": {
        "id": "j3eRhgI-Gb2a",
        "scrolled": true,
        "colab": {
          "base_uri": "https://localhost:8080/"
        },
        "outputId": "7a640a15-72db-4a64-d147-5a4ee75bbd8e"
      },
      "outputs": [
        {
          "output_type": "stream",
          "name": "stdout",
          "text": [
            "Writing cell1.py\n"
          ]
        }
      ],
      "source": [
        "%%writefile cell1.py\n",
        "from __future__ import division\n",
        "\n",
        "import os\n",
        "os.environ[\"MPLBACKEND\"] = \"Agg\"  # 👈 Asegura el backend antes de que matplotlib lo lea\n",
        "\n",
        "from PIL import Image\n",
        "import numpy as np\n",
        "import gym\n",
        "import matplotlib.pyplot as plt\n",
        "import tensorflow as tf\n",
        "import gc\n",
        "\n",
        "from tensorflow.keras.models import Sequential\n",
        "from tensorflow.keras.layers import Dense, Activation, Flatten, Convolution2D, Permute\n",
        "from tensorflow.keras.optimizers import Adam\n",
        "from rl.agents.dqn import DQNAgent\n",
        "from rl.policy import LinearAnnealedPolicy, BoltzmannQPolicy, EpsGreedyQPolicy\n",
        "from rl.memory import SequentialMemory\n",
        "from rl.core import Processor\n",
        "from rl.callbacks import FileLogger, ModelIntervalCheckpoint\n",
        "from collections import deque\n",
        "from tqdm import trange\n",
        "import tensorflow.keras.backend as K\n",
        "\n",
        "print(\"✅ Código cargado con éxito en entorno virtual\")\n",
        "print(\"TensorFlow version:\", tf.__version__)\n"
      ]
    },
    {
      "cell_type": "code",
      "source": [
        "!./miar_rl/bin/python cell1.py\n"
      ],
      "metadata": {
        "colab": {
          "base_uri": "https://localhost:8080/"
        },
        "id": "dis8x3Qcyncm",
        "outputId": "68d4dc61-3ed1-4b1d-a8bf-fe3e1df9d345"
      },
      "execution_count": null,
      "outputs": [
        {
          "output_type": "stream",
          "name": "stdout",
          "text": [
            "2025-06-21 17:06:21.970397: E external/local_xla/xla/stream_executor/cuda/cuda_fft.cc:477] Unable to register cuFFT factory: Attempting to register factory for plugin cuFFT when one has already been registered\n",
            "WARNING: All log messages before absl::InitializeLog() is called are written to STDERR\n",
            "E0000 00:00:1750525581.989901    2695 cuda_dnn.cc:8310] Unable to register cuDNN factory: Attempting to register factory for plugin cuDNN when one has already been registered\n",
            "E0000 00:00:1750525581.995907    2695 cuda_blas.cc:1418] Unable to register cuBLAS factory: Attempting to register factory for plugin cuBLAS when one has already been registered\n",
            "2025-06-21 17:06:22.015664: I tensorflow/core/platform/cpu_feature_guard.cc:210] This TensorFlow binary is optimized to use available CPU instructions in performance-critical operations.\n",
            "To enable the following instructions: AVX2 AVX512F FMA, in other operations, rebuild TensorFlow with the appropriate compiler flags.\n",
            "Traceback (most recent call last):\n",
            "  File \"/content/cell1.py\", line 16, in <module>\n",
            "    from rl.agents.dqn import DQNAgent\n",
            "  File \"/content/miar_rl/lib/python3.11/site-packages/rl/agents/__init__.py\", line 1, in <module>\n",
            "    from .dqn import DQNAgent, NAFAgent, ContinuousDQNAgent\n",
            "  File \"/content/miar_rl/lib/python3.11/site-packages/rl/agents/dqn.py\", line 8, in <module>\n",
            "    from rl.policy import EpsGreedyQPolicy, GreedyQPolicy\n",
            "  File \"/content/miar_rl/lib/python3.11/site-packages/rl/policy.py\", line 3, in <module>\n",
            "    from rl.util import *\n",
            "  File \"/content/miar_rl/lib/python3.11/site-packages/rl/util.py\", line 3, in <module>\n",
            "    from tensorflow.keras.models import model_from_config, Sequential, Model, model_from_config\n",
            "ImportError: cannot import name 'model_from_config' from 'tensorflow.keras.models' (/content/miar_rl/lib/python3.11/site-packages/keras/_tf_keras/keras/models/__init__.py)\n"
          ]
        }
      ]
    },
    {
      "cell_type": "markdown",
      "metadata": {
        "id": "f4jgQjzoGb2a"
      },
      "source": [
        "### Crear el entorno\n",
        "Nuestro entorno es el juego Space Invaders, de Atari"
      ]
    },
    {
      "cell_type": "markdown",
      "source": [
        "**‼️ Puesto que se debe trabajar en un solo script, para \"dividir\" en celdas, se podría importar el script de la celda anterior, aunque se ejecutaría nuevamente.**"
      ],
      "metadata": {
        "id": "MupkI2D64q8T"
      }
    },
    {
      "cell_type": "code",
      "source": [
        "%%writefile cell2.py\n",
        "# Importar TODO lo de cell1.py\n",
        "from cell1 import *\n",
        "\n",
        "INPUT_SHAPE = (84, 84)\n",
        "WINDOW_LENGTH = 4\n",
        "\n",
        "env_name = 'SpaceInvaders-v0'\n",
        "env = gym.make(env_name)\n",
        "\n",
        "np.random.seed(123)\n",
        "env.seed(123)\n",
        "nb_actions = env.action_space.n\n",
        "\n",
        "print(f\"Entorno {env_name} creado con nb_actions = {nb_actions}\")\n"
      ],
      "metadata": {
        "colab": {
          "base_uri": "https://localhost:8080/"
        },
        "id": "T6ewgfkA04_k",
        "outputId": "a2dd016c-cd18-44fa-86d3-96f310e04bb0"
      },
      "execution_count": null,
      "outputs": [
        {
          "output_type": "stream",
          "name": "stdout",
          "text": [
            "Writing cell2.py\n"
          ]
        }
      ]
    },
    {
      "cell_type": "code",
      "source": [
        "!./miar_rl/bin/python cell2.py\n"
      ],
      "metadata": {
        "colab": {
          "base_uri": "https://localhost:8080/"
        },
        "id": "pa5MtHWm048d",
        "outputId": "4286d2c4-1eba-436a-b177-be64ad4890cc"
      },
      "execution_count": null,
      "outputs": [
        {
          "output_type": "stream",
          "name": "stdout",
          "text": [
            "2025-06-21 16:02:11.437199: I tensorflow/tsl/cuda/cudart_stub.cc:28] Could not find cuda drivers on your machine, GPU will not be used.\n",
            "2025-06-21 16:02:11.524974: I tensorflow/tsl/cuda/cudart_stub.cc:28] Could not find cuda drivers on your machine, GPU will not be used.\n",
            "2025-06-21 16:02:11.525591: I tensorflow/core/platform/cpu_feature_guard.cc:182] This TensorFlow binary is optimized to use available CPU instructions in performance-critical operations.\n",
            "To enable the following instructions: AVX2 AVX512F FMA, in other operations, rebuild TensorFlow with the appropriate compiler flags.\n",
            "2025-06-21 16:02:13.663758: W tensorflow/compiler/tf2tensorrt/utils/py_utils.cc:38] TF-TRT Warning: Could not find TensorRT\n",
            "✅ Código cargado con éxito en entorno virtual\n",
            "TensorFlow version: 2.12.1\n",
            "Entorno SpaceInvaders-v0 creado con nb_actions = 6\n"
          ]
        }
      ]
    },
    {
      "cell_type": "code",
      "source": [
        "%%writefile cell3.py\n",
        "from cell2 import *\n",
        "\n",
        "print(\"El tamaño de nuestro 'frame' es: \", env.observation_space)\n",
        "print(\"El número de acciones posibles es : \", nb_actions)\n",
        "print(\"Las acciones posibles son : \", env.env.get_action_meanings())\n",
        "\n",
        "# Creamos la versión one-hot encoded de nuestras acciones\n",
        "possible_actions = np.array(np.identity(env.action_space.n, dtype=int).tolist())\n",
        "print(\"\\nOHE de las acciones posibles: \\n\", possible_actions)\n"
      ],
      "metadata": {
        "colab": {
          "base_uri": "https://localhost:8080/"
        },
        "id": "RzjuXAiS5WSH",
        "outputId": "9f6d784e-7569-417f-b8fa-126854235474"
      },
      "execution_count": null,
      "outputs": [
        {
          "output_type": "stream",
          "name": "stdout",
          "text": [
            "Writing cell3.py\n"
          ]
        }
      ]
    },
    {
      "cell_type": "code",
      "source": [
        "!./miar_rl/bin/python cell3.py\n"
      ],
      "metadata": {
        "colab": {
          "base_uri": "https://localhost:8080/"
        },
        "id": "xYj0v22j5Yt3",
        "outputId": "5fc630ba-515a-4edc-ae33-1c97753de1de"
      },
      "execution_count": null,
      "outputs": [
        {
          "output_type": "stream",
          "name": "stdout",
          "text": [
            "2025-06-21 16:02:19.424009: I tensorflow/tsl/cuda/cudart_stub.cc:28] Could not find cuda drivers on your machine, GPU will not be used.\n",
            "2025-06-21 16:02:19.511292: I tensorflow/tsl/cuda/cudart_stub.cc:28] Could not find cuda drivers on your machine, GPU will not be used.\n",
            "2025-06-21 16:02:19.518434: I tensorflow/core/platform/cpu_feature_guard.cc:182] This TensorFlow binary is optimized to use available CPU instructions in performance-critical operations.\n",
            "To enable the following instructions: AVX2 AVX512F FMA, in other operations, rebuild TensorFlow with the appropriate compiler flags.\n",
            "2025-06-21 16:02:21.081989: W tensorflow/compiler/tf2tensorrt/utils/py_utils.cc:38] TF-TRT Warning: Could not find TensorRT\n",
            "✅ Código cargado con éxito en entorno virtual\n",
            "TensorFlow version: 2.12.1\n",
            "Entorno SpaceInvaders-v0 creado con nb_actions = 6\n",
            "El tamaño de nuestro 'frame' es:  Box(0, 255, (210, 160, 3), uint8)\n",
            "El número de acciones posibles es :  6\n",
            "Las acciones posibles son :  ['NOOP', 'FIRE', 'RIGHT', 'LEFT', 'RIGHTFIRE', 'LEFTFIRE']\n",
            "\n",
            "OHE de las acciones posibles: \n",
            " [[1 0 0 0 0 0]\n",
            " [0 1 0 0 0 0]\n",
            " [0 0 1 0 0 0]\n",
            " [0 0 0 1 0 0]\n",
            " [0 0 0 0 1 0]\n",
            " [0 0 0 0 0 1]]\n"
          ]
        }
      ]
    },
    {
      "cell_type": "code",
      "source": [],
      "metadata": {
        "id": "ZspU28hA6VKk"
      },
      "execution_count": null,
      "outputs": []
    },
    {
      "cell_type": "markdown",
      "metadata": {
        "id": "aBgaaL8o02bK"
      },
      "source": [
        "### Clase \"processor\" para Atari\n",
        "\n",
        "Ahora definimos un \"processor\" para las pantallas de entrada del juego, en el que recortamos el tamaño de la imagen (matriz de 210 x 160 píxeles) y la convertimos En una matriz bidimensional de 80 x 80 píxeles). También convertimos las imágenes de RGB a escala de grises normal, ya que no necesitamos usar los colores. Con este trabajo buscamos acelerar nuestro algoritmo, eliminando la información innecesaria y reduciendo la carga de la GPU."
      ]
    },
    {
      "cell_type": "code",
      "execution_count": null,
      "metadata": {
        "id": "9jGEZUcpGb2a",
        "colab": {
          "base_uri": "https://localhost:8080/"
        },
        "outputId": "bdddcbd4-5268-411e-c507-849093e8aa4b"
      },
      "outputs": [
        {
          "output_type": "stream",
          "name": "stdout",
          "text": [
            "Writing cell4.py\n"
          ]
        }
      ],
      "source": [
        "%%writefile cell4.py\n",
        "from cell3 import *\n",
        "from rl.core import Processor\n",
        "\n",
        "class AtariProcessor(Processor):\n",
        "    def process_observation(self, observation):\n",
        "        \"\"\"\n",
        "        Preprocesamiento simple: convierte a escala de grises y normaliza\n",
        "        \"\"\"\n",
        "        assert observation.ndim == 3  # (height, width, channel)\n",
        "        img = Image.fromarray(observation)\n",
        "        img = img.resize(INPUT_SHAPE).convert('L')\n",
        "        processed_observation = np.array(img)\n",
        "        assert processed_observation.shape == INPUT_SHAPE\n",
        "        return processed_observation.astype('uint8')\n",
        "\n",
        "    def process_state_batch(self, batch):\n",
        "        processed_batch = batch.astype('float32') / 255.\n",
        "        return processed_batch\n",
        "\n",
        "    def process_reward(self, reward):\n",
        "        return np.clip(reward, -1., 1.)"
      ]
    },
    {
      "cell_type": "code",
      "source": [
        "!./miar_rl/bin/python cell4.py\n"
      ],
      "metadata": {
        "colab": {
          "base_uri": "https://localhost:8080/"
        },
        "id": "2ISBd7nOP1MH",
        "outputId": "a8d833e4-2b45-4cbe-fbb9-469efcbb62bb"
      },
      "execution_count": null,
      "outputs": [
        {
          "output_type": "stream",
          "name": "stdout",
          "text": [
            "2025-06-21 16:02:26.111212: I tensorflow/tsl/cuda/cudart_stub.cc:28] Could not find cuda drivers on your machine, GPU will not be used.\n",
            "2025-06-21 16:02:26.193029: I tensorflow/tsl/cuda/cudart_stub.cc:28] Could not find cuda drivers on your machine, GPU will not be used.\n",
            "2025-06-21 16:02:26.193592: I tensorflow/core/platform/cpu_feature_guard.cc:182] This TensorFlow binary is optimized to use available CPU instructions in performance-critical operations.\n",
            "To enable the following instructions: AVX2 AVX512F FMA, in other operations, rebuild TensorFlow with the appropriate compiler flags.\n",
            "2025-06-21 16:02:27.257723: W tensorflow/compiler/tf2tensorrt/utils/py_utils.cc:38] TF-TRT Warning: Could not find TensorRT\n",
            "✅ Código cargado con éxito en entorno virtual\n",
            "TensorFlow version: 2.12.1\n",
            "Entorno SpaceInvaders-v0 creado con nb_actions = 6\n",
            "El tamaño de nuestro 'frame' es:  Box(0, 255, (210, 160, 3), uint8)\n",
            "El número de acciones posibles es :  6\n",
            "Las acciones posibles son :  ['NOOP', 'FIRE', 'RIGHT', 'LEFT', 'RIGHTFIRE', 'LEFTFIRE']\n",
            "\n",
            "OHE de las acciones posibles: \n",
            " [[1 0 0 0 0 0]\n",
            " [0 1 0 0 0 0]\n",
            " [0 0 1 0 0 0]\n",
            " [0 0 0 1 0 0]\n",
            " [0 0 0 0 1 0]\n",
            " [0 0 0 0 0 1]]\n"
          ]
        }
      ]
    },
    {
      "cell_type": "markdown",
      "metadata": {
        "id": "0QkJzYEa02bK"
      },
      "source": [
        "### Revisar el entorno de juego"
      ]
    },
    {
      "cell_type": "markdown",
      "source": [
        "**‼️ Como estamos trabajando en un entorno \"fuera\" de colab plt.show() no es factible. Se guardan las imágenes y después se muestran**"
      ],
      "metadata": {
        "id": "5YwqRAoURI-i"
      }
    },
    {
      "cell_type": "code",
      "execution_count": null,
      "metadata": {
        "id": "IfJX0AyY02bK",
        "outputId": "9cf0f52d-90ab-46fa-ff2d-9b31ec913652",
        "colab": {
          "base_uri": "https://localhost:8080/"
        }
      },
      "outputs": [
        {
          "output_type": "stream",
          "name": "stdout",
          "text": [
            "Writing cell5.py\n"
          ]
        }
      ],
      "source": [
        "%%writefile cell5.py\n",
        "from cell4 import *\n",
        "import matplotlib.pyplot as plt\n",
        "import os\n",
        "\n",
        "# Crear carpeta para guardar imágenes si no existe\n",
        "save_dir = \"/content/imagenes_guardadas\"\n",
        "os.makedirs(save_dir, exist_ok=True)\n",
        "\n",
        "observation = env.reset()\n",
        "for i in range(22):\n",
        "    if i > 20:\n",
        "        filename = os.path.join(save_dir, f\"frame_{i}.png\")\n",
        "        plt.imsave(filename, observation)\n",
        "\n",
        "    observation, reward, done, info = env.step(1)\n"
      ]
    },
    {
      "cell_type": "code",
      "source": [
        "!./miar_rl/bin/python cell5.py"
      ],
      "metadata": {
        "colab": {
          "base_uri": "https://localhost:8080/"
        },
        "id": "sHrL9bENQAgJ",
        "outputId": "2b7db255-f672-4f2f-d175-7859cbf66bb2"
      },
      "execution_count": null,
      "outputs": [
        {
          "output_type": "stream",
          "name": "stdout",
          "text": [
            "2025-06-21 16:02:30.212065: I tensorflow/tsl/cuda/cudart_stub.cc:28] Could not find cuda drivers on your machine, GPU will not be used.\n",
            "2025-06-21 16:02:30.259337: I tensorflow/tsl/cuda/cudart_stub.cc:28] Could not find cuda drivers on your machine, GPU will not be used.\n",
            "2025-06-21 16:02:30.259838: I tensorflow/core/platform/cpu_feature_guard.cc:182] This TensorFlow binary is optimized to use available CPU instructions in performance-critical operations.\n",
            "To enable the following instructions: AVX2 AVX512F FMA, in other operations, rebuild TensorFlow with the appropriate compiler flags.\n",
            "2025-06-21 16:02:30.999353: W tensorflow/compiler/tf2tensorrt/utils/py_utils.cc:38] TF-TRT Warning: Could not find TensorRT\n",
            "✅ Código cargado con éxito en entorno virtual\n",
            "TensorFlow version: 2.12.1\n",
            "Entorno SpaceInvaders-v0 creado con nb_actions = 6\n",
            "El tamaño de nuestro 'frame' es:  Box(0, 255, (210, 160, 3), uint8)\n",
            "El número de acciones posibles es :  6\n",
            "Las acciones posibles son :  ['NOOP', 'FIRE', 'RIGHT', 'LEFT', 'RIGHTFIRE', 'LEFTFIRE']\n",
            "\n",
            "OHE de las acciones posibles: \n",
            " [[1 0 0 0 0 0]\n",
            " [0 1 0 0 0 0]\n",
            " [0 0 1 0 0 0]\n",
            " [0 0 0 1 0 0]\n",
            " [0 0 0 0 1 0]\n",
            " [0 0 0 0 0 1]]\n"
          ]
        }
      ]
    },
    {
      "cell_type": "code",
      "source": [
        "import matplotlib.pyplot as plt\n",
        "import os\n",
        "from PIL import Image\n",
        "\n",
        "# Ruta de la carpeta donde guardaste las imágenes\n",
        "image_dir = \"/content/imagenes_guardadas\"\n",
        "\n",
        "# Obtener la lista de archivos y ordenarlos (por si acaso)\n",
        "image_files = sorted([f for f in os.listdir(image_dir) if f.endswith('.png')])\n",
        "\n",
        "# Mostrar una a una\n",
        "for filename in image_files:\n",
        "    image_path = os.path.join(image_dir, filename)\n",
        "    img = Image.open(image_path)\n",
        "    plt.imshow(img)\n",
        "    plt.title(filename)\n",
        "    plt.axis('off')\n",
        "    plt.show()\n"
      ],
      "metadata": {
        "colab": {
          "base_uri": "https://localhost:8080/",
          "height": 428
        },
        "id": "nqSV0mAbQ27h",
        "outputId": "cd21bf5a-e30e-482d-927e-cd552b414e55"
      },
      "execution_count": null,
      "outputs": [
        {
          "output_type": "display_data",
          "data": {
            "text/plain": [
              "<Figure size 640x480 with 1 Axes>"
            ],
            "image/png": "[encoded data removed]"
          },
          "metadata": {}
        }
      ]
    },
    {
      "cell_type": "code",
      "source": [],
      "metadata": {
        "id": "vOOxIehJQ2rx"
      },
      "execution_count": null,
      "outputs": []
    },
    {
      "cell_type": "code",
      "execution_count": null,
      "metadata": {
        "id": "t0YdDO0402bK",
        "outputId": "ab542bbe-abb0-475a-f37e-7526646e8f04",
        "colab": {
          "base_uri": "https://localhost:8080/"
        }
      },
      "outputs": [
        {
          "output_type": "stream",
          "name": "stdout",
          "text": [
            "Writing cell6.py\n"
          ]
        }
      ],
      "source": [
        "%%writefile cell6.py\n",
        "from cell5 import *\n",
        "import matplotlib.pyplot as plt\n",
        "import os\n",
        "\n",
        "processor = AtariProcessor()\n",
        "obs_preprocessed = processor.process_observation(observation).reshape(INPUT_SHAPE)\n",
        "\n",
        "save_dir = \"/content/imagenes_preprocesadas\"\n",
        "os.makedirs(save_dir, exist_ok=True)\n",
        "\n",
        "filename = os.path.join(save_dir, \"preprocesada.png\")\n",
        "plt.imsave(filename, processor.process_state_batch(obs_preprocessed), cmap='gray')\n",
        "\n",
        "print(observation.shape)\n",
        "print(obs_preprocessed.shape)\n",
        "print(f\"Imagen guardada en: {filename}\")\n"
      ]
    },
    {
      "cell_type": "code",
      "source": [
        "!./miar_rl/bin/python cell6.py"
      ],
      "metadata": {
        "colab": {
          "base_uri": "https://localhost:8080/"
        },
        "id": "zF9C6P_WQCmI",
        "outputId": "4813a17e-c8e3-4588-db9c-b2d0ef57cbb6"
      },
      "execution_count": null,
      "outputs": [
        {
          "output_type": "stream",
          "name": "stdout",
          "text": [
            "2025-06-21 16:02:33.933948: I tensorflow/tsl/cuda/cudart_stub.cc:28] Could not find cuda drivers on your machine, GPU will not be used.\n",
            "2025-06-21 16:02:33.981252: I tensorflow/tsl/cuda/cudart_stub.cc:28] Could not find cuda drivers on your machine, GPU will not be used.\n",
            "2025-06-21 16:02:33.981746: I tensorflow/core/platform/cpu_feature_guard.cc:182] This TensorFlow binary is optimized to use available CPU instructions in performance-critical operations.\n",
            "To enable the following instructions: AVX2 AVX512F FMA, in other operations, rebuild TensorFlow with the appropriate compiler flags.\n",
            "2025-06-21 16:02:34.747591: W tensorflow/compiler/tf2tensorrt/utils/py_utils.cc:38] TF-TRT Warning: Could not find TensorRT\n",
            "✅ Código cargado con éxito en entorno virtual\n",
            "TensorFlow version: 2.12.1\n",
            "Entorno SpaceInvaders-v0 creado con nb_actions = 6\n",
            "El tamaño de nuestro 'frame' es:  Box(0, 255, (210, 160, 3), uint8)\n",
            "El número de acciones posibles es :  6\n",
            "Las acciones posibles son :  ['NOOP', 'FIRE', 'RIGHT', 'LEFT', 'RIGHTFIRE', 'LEFTFIRE']\n",
            "\n",
            "OHE de las acciones posibles: \n",
            " [[1 0 0 0 0 0]\n",
            " [0 1 0 0 0 0]\n",
            " [0 0 1 0 0 0]\n",
            " [0 0 0 1 0 0]\n",
            " [0 0 0 0 1 0]\n",
            " [0 0 0 0 0 1]]\n",
            "(210, 160, 3)\n",
            "(84, 84)\n",
            "Imagen guardada en: /content/imagenes_preprocesadas/preprocesada.png\n"
          ]
        }
      ]
    },
    {
      "cell_type": "code",
      "source": [
        "import matplotlib.pyplot as plt\n",
        "import os\n",
        "from PIL import Image\n",
        "\n",
        "image_path = \"/content/imagenes_preprocesadas/preprocesada.png\"\n",
        "img = Image.open(image_path)\n",
        "plt.imshow(img, cmap='gray')\n",
        "plt.axis('off')\n",
        "plt.show()\n"
      ],
      "metadata": {
        "colab": {
          "base_uri": "https://localhost:8080/",
          "height": 406
        },
        "id": "f80Rtu4cRT1h",
        "outputId": "db87c347-4a21-4d97-81bc-3974f52a0878"
      },
      "execution_count": null,
      "outputs": [
        {
          "output_type": "display_data",
          "data": {
            "text/plain": [
              "<Figure size 640x480 with 1 Axes>"
            ],
            "image/png": "[encoded data removed]"
          },
          "metadata": {}
        }
      ]
    },
    {
      "cell_type": "markdown",
      "metadata": {
        "id": "7yitXTADGb2b"
      },
      "source": [
        "1. Implementación de la red neuronal"
      ]
    },
    {
      "cell_type": "markdown",
      "metadata": {
        "id": "Kgdy4D2D02bK"
      },
      "source": [
        "Crearemos una clase para construir un red Q-profunda, con tres capas convolucionales, seguidas de una capa de aplanamiento y una capa completamente conectada."
      ]
    },
    {
      "cell_type": "markdown",
      "source": [
        "### Main - TEST I - DQN - Inicial"
      ],
      "metadata": {
        "id": "f22D0jV192U7"
      }
    },
    {
      "cell_type": "markdown",
      "source": [
        "**‼️ Para evitar ejecutar _todo_ cada vez, se integra lo necesario en un solo script.**"
      ],
      "metadata": {
        "id": "tlz7KNZr5zNV"
      }
    },
    {
      "cell_type": "markdown",
      "source": [
        "Punto de partida"
      ],
      "metadata": {
        "id": "nHWqilKpp7Rx"
      }
    },
    {
      "cell_type": "code",
      "source": [
        "%%writefile main.py\n",
        "import numpy as np\n",
        "import gym\n",
        "from PIL import Image\n",
        "import tensorflow as tf\n",
        "from tensorflow.keras.models import Sequential\n",
        "from tensorflow.keras.layers import Conv2D, Flatten, Dense, Permute\n",
        "from tensorflow.keras.optimizers import Adam\n",
        "from rl.agents.dqn import DQNAgent\n",
        "from rl.policy import LinearAnnealedPolicy, EpsGreedyQPolicy\n",
        "from rl.memory import SequentialMemory\n",
        "from rl.core import Processor\n",
        "\n",
        "# Definir dimensiones\n",
        "INPUT_SHAPE = (84, 84)\n",
        "WINDOW_LENGTH = 4\n",
        "ENV_NAME = 'SpaceInvaders-v0'\n",
        "\n",
        "# ------------------------------------------------------------\n",
        "# Procesador de observaciones\n",
        "# ------------------------------------------------------------\n",
        "class AtariProcessor(Processor):\n",
        "    def process_observation(self, observation):\n",
        "        assert observation.ndim == 3\n",
        "        img = Image.fromarray(observation)\n",
        "        img = img.resize(INPUT_SHAPE).convert('L')\n",
        "        processed_observation = np.array(img)\n",
        "        assert processed_observation.shape == INPUT_SHAPE\n",
        "        return processed_observation.astype('uint8')\n",
        "\n",
        "    def process_state_batch(self, batch):\n",
        "        return batch.astype('float32') / 255.\n",
        "\n",
        "    def process_reward(self, reward):\n",
        "        return np.clip(reward, -1., 1.)\n",
        "\n",
        "# ------------------------------------------------------------\n",
        "# Crear entorno y procesador\n",
        "# ------------------------------------------------------------\n",
        "env = gym.make(ENV_NAME)\n",
        "np.random.seed(123)\n",
        "env.seed(123)\n",
        "nb_actions = env.action_space.n\n",
        "\n",
        "processor = AtariProcessor()\n",
        "\n",
        "# ------------------------------------------------------------\n",
        "# Definir el modelo DQN en TensorFlow\n",
        "# ------------------------------------------------------------\n",
        "model = Sequential()\n",
        "model.add(Permute((2, 3, 1), input_shape=(WINDOW_LENGTH,) + INPUT_SHAPE))\n",
        "model.add(Conv2D(32, (8, 8), strides=(4, 4), activation='relu'))\n",
        "model.add(Conv2D(64, (4, 4), strides=(2, 2), activation='relu'))\n",
        "model.add(Conv2D(64, (3, 3), strides=(1, 1), activation='relu'))\n",
        "model.add(Flatten())\n",
        "model.add(Dense(512, activation='relu'))\n",
        "model.add(Dense(nb_actions, activation='linear'))\n",
        "\n",
        "print(model.summary())\n",
        "\n",
        "# ------------------------------------------------------------\n",
        "# Configurar DQN Agent\n",
        "# ------------------------------------------------------------\n",
        "memory = SequentialMemory(limit=1000000, window_length=WINDOW_LENGTH)\n",
        "\n",
        "policy = LinearAnnealedPolicy(EpsGreedyQPolicy(), attr='eps',\n",
        "                              value_max=1.0, value_min=0.1,\n",
        "                              value_test=0.05, nb_steps=1000000)\n",
        "\n",
        "dqn = DQNAgent(model=model,\n",
        "               nb_actions=nb_actions,\n",
        "               policy=policy,\n",
        "               memory=memory,\n",
        "               processor=processor,\n",
        "               nb_steps_warmup=50000,\n",
        "               gamma=0.99,\n",
        "               target_model_update=10000,\n",
        "               train_interval=4,\n",
        "               delta_clip=1.0)\n",
        "\n",
        "dqn.compile(Adam(learning_rate=0.00025), metrics=['mae'])\n",
        "\n",
        "# ------------------------------------------------------------\n",
        "# Entrenamiento\n",
        "# ------------------------------------------------------------\n",
        "dqn.fit(env, nb_steps=50000, visualize=False, verbose=2)\n",
        "\n",
        "# Guardar pesos entrenados\n",
        "dqn.save_weights('dqn_{}_weights.h5f'.format(ENV_NAME), overwrite=True)\n",
        "\n",
        "# Evaluar el agente\n",
        "history = dqn.test(env, nb_episodes=10, visualize=False)\n",
        "\n",
        "# Extraer recompensas por episodio\n",
        "episode_rewards = history.history['episode_reward']\n",
        "\n",
        "# Calcular estadísticas\n",
        "mean_reward = np.mean(episode_rewards)\n",
        "std_reward = np.std(episode_rewards)\n",
        "\n",
        "print(f\"Recompensa promedio en test: {mean_reward:.2f}\")\n",
        "print(f\"Desviación estándar: {std_reward:.2f}\")\n"
      ],
      "metadata": {
        "colab": {
          "base_uri": "https://localhost:8080/"
        },
        "id": "jGvzxp_Xdhix",
        "outputId": "ee30cbed-6658-4db2-ea01-618a1938836b"
      },
      "execution_count": 2,
      "outputs": [
        {
          "output_type": "stream",
          "name": "stdout",
          "text": [
            "Writing main.py\n"
          ]
        }
      ]
    },
    {
      "cell_type": "code",
      "source": [
        "!./miar_rl/bin/python main.py\n"
      ],
      "metadata": {
        "colab": {
          "base_uri": "https://localhost:8080/"
        },
        "id": "Fw_a40j26VPx",
        "outputId": "1f43507d-8bf3-4896-e71b-f9a148171289"
      },
      "execution_count": 3,
      "outputs": [
        {
          "output_type": "stream",
          "name": "stdout",
          "text": [
            "2025-06-21 18:20:19.775104: I tensorflow/core/util/port.cc:110] oneDNN custom operations are on. You may see slightly different numerical results due to floating-point round-off errors from different computation orders. To turn them off, set the environment variable `TF_ENABLE_ONEDNN_OPTS=0`.\n",
            "2025-06-21 18:20:19.777934: I tensorflow/tsl/cuda/cudart_stub.cc:28] Could not find cuda drivers on your machine, GPU will not be used.\n",
            "2025-06-21 18:20:19.829366: I tensorflow/tsl/cuda/cudart_stub.cc:28] Could not find cuda drivers on your machine, GPU will not be used.\n",
            "2025-06-21 18:20:19.829851: I tensorflow/core/platform/cpu_feature_guard.cc:182] This TensorFlow binary is optimized to use available CPU instructions in performance-critical operations.\n",
            "To enable the following instructions: AVX2 AVX512F AVX512_VNNI FMA, in other operations, rebuild TensorFlow with the appropriate compiler flags.\n",
            "2025-06-21 18:20:20.577403: W tensorflow/compiler/tf2tensorrt/utils/py_utils.cc:38] TF-TRT Warning: Could not find TensorRT\n",
            "Model: \"sequential\"\n",
            "_________________________________________________________________\n",
            " Layer (type)                Output Shape              Param #   \n",
            "=================================================================\n",
            " permute (Permute)           (None, 84, 84, 4)         0         \n",
            "                                                                 \n",
            " conv2d (Conv2D)             (None, 20, 20, 32)        8224      \n",
            "                                                                 \n",
            " conv2d_1 (Conv2D)           (None, 9, 9, 64)          32832     \n",
            "                                                                 \n",
            " conv2d_2 (Conv2D)           (None, 7, 7, 64)          36928     \n",
            "                                                                 \n",
            " flatten (Flatten)           (None, 3136)              0         \n",
            "                                                                 \n",
            " dense (Dense)               (None, 512)               1606144   \n",
            "                                                                 \n",
            " dense_1 (Dense)             (None, 6)                 3078      \n",
            "                                                                 \n",
            "=================================================================\n",
            "Total params: 1,687,206\n",
            "Trainable params: 1,687,206\n",
            "Non-trainable params: 0\n",
            "_________________________________________________________________\n",
            "None\n",
            "2025-06-21 18:20:23.117662: W tensorflow/core/common_runtime/gpu/gpu_device.cc:1956] Cannot dlopen some GPU libraries. Please make sure the missing libraries mentioned above are installed properly if you would like to use GPU. Follow the guide at https://www.tensorflow.org/install/gpu for how to download and setup the required libraries for your platform.\n",
            "Skipping registering GPU devices...\n",
            "2025-06-21 18:20:23.207320: I tensorflow/compiler/mlir/mlir_graph_optimization_pass.cc:353] MLIR V1 optimization pass is not enabled\n",
            "2025-06-21 18:20:23.235000: W tensorflow/c/c_api.cc:300] Operation '{name:'conv2d_2_1/bias/Assign' id:204 op device:{requested: '', assigned: ''} def:{{{node conv2d_2_1/bias/Assign}} = AssignVariableOp[_has_manual_control_dependencies=true, dtype=DT_FLOAT, validate_shape=false](conv2d_2_1/bias, conv2d_2_1/bias/Initializer/zeros)}}' was changed by setting attribute after it was run by a session. This mutation will have no effect, and will trigger an error in the future. Either don't modify nodes after running them or create a new session.\n",
            "Training for 50000 steps ...\n",
            "/content/miar_rl/lib/python3.11/site-packages/keras/engine/training_v1.py:2359: UserWarning: `Model.state_updates` will be removed in a future version. This property should not be used in TensorFlow 2.0, as `updates` are applied automatically.\n",
            "  updates=self.state_updates,\n",
            "2025-06-21 18:20:23.624673: W tensorflow/c/c_api.cc:300] Operation '{name:'dense_1/BiasAdd' id:125 op device:{requested: '', assigned: ''} def:{{{node dense_1/BiasAdd}} = BiasAdd[T=DT_FLOAT, _has_manual_control_dependencies=true, data_format=\"NHWC\"](dense_1/MatMul, dense_1/BiasAdd/ReadVariableOp)}}' was changed by setting attribute after it was run by a session. This mutation will have no effect, and will trigger an error in the future. Either don't modify nodes after running them or create a new session.\n",
            "2025-06-21 18:20:23.641464: W tensorflow/c/c_api.cc:300] Operation '{name:'count_3/Assign' id:405 op device:{requested: '', assigned: ''} def:{{{node count_3/Assign}} = AssignVariableOp[_has_manual_control_dependencies=true, dtype=DT_FLOAT, validate_shape=false](count_3, count_3/Initializer/zeros)}}' was changed by setting attribute after it was run by a session. This mutation will have no effect, and will trigger an error in the future. Either don't modify nodes after running them or create a new session.\n",
            "   420/50000: episode: 1, duration: 1.741s, episode steps: 420, steps per second: 241, episode reward:  6.000, mean reward:  0.014 [ 0.000,  1.000], mean action: 2.479 [0.000, 5.000],  loss: --, mae: --, mean_q: --, mean_eps: --\n",
            "  1131/50000: episode: 2, duration: 2.798s, episode steps: 711, steps per second: 254, episode reward:  7.000, mean reward:  0.010 [ 0.000,  1.000], mean action: 2.416 [0.000, 5.000],  loss: --, mae: --, mean_q: --, mean_eps: --\n",
            "  1941/50000: episode: 3, duration: 3.174s, episode steps: 810, steps per second: 255, episode reward: 10.000, mean reward:  0.012 [ 0.000,  1.000], mean action: 2.410 [0.000, 5.000],  loss: --, mae: --, mean_q: --, mean_eps: --\n",
            "  2831/50000: episode: 4, duration: 3.518s, episode steps: 890, steps per second: 253, episode reward: 12.000, mean reward:  0.013 [ 0.000,  1.000], mean action: 2.394 [0.000, 5.000],  loss: --, mae: --, mean_q: --, mean_eps: --\n",
            "  3206/50000: episode: 5, duration: 1.478s, episode steps: 375, steps per second: 254, episode reward:  6.000, mean reward:  0.016 [ 0.000,  1.000], mean action: 2.579 [0.000, 5.000],  loss: --, mae: --, mean_q: --, mean_eps: --\n",
            "  3703/50000: episode: 6, duration: 1.980s, episode steps: 497, steps per second: 251, episode reward:  6.000, mean reward:  0.012 [ 0.000,  1.000], mean action: 2.477 [0.000, 5.000],  loss: --, mae: --, mean_q: --, mean_eps: --\n",
            "  4638/50000: episode: 7, duration: 3.674s, episode steps: 935, steps per second: 254, episode reward: 18.000, mean reward:  0.019 [ 0.000,  1.000], mean action: 2.512 [0.000, 5.000],  loss: --, mae: --, mean_q: --, mean_eps: --\n",
            "  6179/50000: episode: 8, duration: 6.110s, episode steps: 1541, steps per second: 252, episode reward: 17.000, mean reward:  0.011 [ 0.000,  1.000], mean action: 2.464 [0.000, 5.000],  loss: --, mae: --, mean_q: --, mean_eps: --\n",
            "  7378/50000: episode: 9, duration: 4.700s, episode steps: 1199, steps per second: 255, episode reward: 13.000, mean reward:  0.011 [ 0.000,  1.000], mean action: 2.449 [0.000, 5.000],  loss: --, mae: --, mean_q: --, mean_eps: --\n",
            "  7968/50000: episode: 10, duration: 2.346s, episode steps: 590, steps per second: 251, episode reward:  7.000, mean reward:  0.012 [ 0.000,  1.000], mean action: 2.508 [0.000, 5.000],  loss: --, mae: --, mean_q: --, mean_eps: --\n",
            "  8699/50000: episode: 11, duration: 2.906s, episode steps: 731, steps per second: 252, episode reward:  7.000, mean reward:  0.010 [ 0.000,  1.000], mean action: 2.590 [0.000, 5.000],  loss: --, mae: --, mean_q: --, mean_eps: --\n",
            "  9125/50000: episode: 12, duration: 1.686s, episode steps: 426, steps per second: 253, episode reward:  8.000, mean reward:  0.019 [ 0.000,  1.000], mean action: 2.533 [0.000, 5.000],  loss: --, mae: --, mean_q: --, mean_eps: --\n",
            "  9553/50000: episode: 13, duration: 1.705s, episode steps: 428, steps per second: 251, episode reward:  6.000, mean reward:  0.014 [ 0.000,  1.000], mean action: 2.474 [0.000, 5.000],  loss: --, mae: --, mean_q: --, mean_eps: --\n",
            " 10429/50000: episode: 14, duration: 3.467s, episode steps: 876, steps per second: 253, episode reward: 12.000, mean reward:  0.014 [ 0.000,  1.000], mean action: 2.439 [0.000, 5.000],  loss: --, mae: --, mean_q: --, mean_eps: --\n",
            " 10919/50000: episode: 15, duration: 1.942s, episode steps: 490, steps per second: 252, episode reward:  9.000, mean reward:  0.018 [ 0.000,  1.000], mean action: 2.471 [0.000, 5.000],  loss: --, mae: --, mean_q: --, mean_eps: --\n",
            " 11445/50000: episode: 16, duration: 2.096s, episode steps: 526, steps per second: 251, episode reward:  5.000, mean reward:  0.010 [ 0.000,  1.000], mean action: 2.432 [0.000, 5.000],  loss: --, mae: --, mean_q: --, mean_eps: --\n",
            " 11924/50000: episode: 17, duration: 1.905s, episode steps: 479, steps per second: 252, episode reward:  6.000, mean reward:  0.013 [ 0.000,  1.000], mean action: 2.411 [0.000, 5.000],  loss: --, mae: --, mean_q: --, mean_eps: --\n",
            " 12899/50000: episode: 18, duration: 3.829s, episode steps: 975, steps per second: 255, episode reward: 12.000, mean reward:  0.012 [ 0.000,  1.000], mean action: 2.564 [0.000, 5.000],  loss: --, mae: --, mean_q: --, mean_eps: --\n",
            " 13684/50000: episode: 19, duration: 3.110s, episode steps: 785, steps per second: 252, episode reward: 11.000, mean reward:  0.014 [ 0.000,  1.000], mean action: 2.578 [0.000, 5.000],  loss: --, mae: --, mean_q: --, mean_eps: --\n",
            " 14286/50000: episode: 20, duration: 2.390s, episode steps: 602, steps per second: 252, episode reward:  7.000, mean reward:  0.012 [ 0.000,  1.000], mean action: 2.558 [0.000, 5.000],  loss: --, mae: --, mean_q: --, mean_eps: --\n",
            " 14903/50000: episode: 21, duration: 2.441s, episode steps: 617, steps per second: 253, episode reward:  6.000, mean reward:  0.010 [ 0.000,  1.000], mean action: 2.494 [0.000, 5.000],  loss: --, mae: --, mean_q: --, mean_eps: --\n",
            " 15358/50000: episode: 22, duration: 1.799s, episode steps: 455, steps per second: 253, episode reward:  3.000, mean reward:  0.007 [ 0.000,  1.000], mean action: 2.508 [0.000, 5.000],  loss: --, mae: --, mean_q: --, mean_eps: --\n",
            " 16212/50000: episode: 23, duration: 3.360s, episode steps: 854, steps per second: 254, episode reward: 13.000, mean reward:  0.015 [ 0.000,  1.000], mean action: 2.504 [0.000, 5.000],  loss: --, mae: --, mean_q: --, mean_eps: --\n",
            " 16893/50000: episode: 24, duration: 2.721s, episode steps: 681, steps per second: 250, episode reward: 13.000, mean reward:  0.019 [ 0.000,  1.000], mean action: 2.524 [0.000, 5.000],  loss: --, mae: --, mean_q: --, mean_eps: --\n",
            " 17420/50000: episode: 25, duration: 2.077s, episode steps: 527, steps per second: 254, episode reward:  8.000, mean reward:  0.015 [ 0.000,  1.000], mean action: 2.560 [0.000, 5.000],  loss: --, mae: --, mean_q: --, mean_eps: --\n",
            " 18157/50000: episode: 26, duration: 2.901s, episode steps: 737, steps per second: 254, episode reward: 11.000, mean reward:  0.015 [ 0.000,  1.000], mean action: 2.597 [0.000, 5.000],  loss: --, mae: --, mean_q: --, mean_eps: --\n",
            " 18807/50000: episode: 27, duration: 2.570s, episode steps: 650, steps per second: 253, episode reward:  7.000, mean reward:  0.011 [ 0.000,  1.000], mean action: 2.449 [0.000, 5.000],  loss: --, mae: --, mean_q: --, mean_eps: --\n",
            " 19578/50000: episode: 28, duration: 3.068s, episode steps: 771, steps per second: 251, episode reward:  9.000, mean reward:  0.012 [ 0.000,  1.000], mean action: 2.471 [0.000, 5.000],  loss: --, mae: --, mean_q: --, mean_eps: --\n",
            " 20211/50000: episode: 29, duration: 2.513s, episode steps: 633, steps per second: 252, episode reward: 12.000, mean reward:  0.019 [ 0.000,  1.000], mean action: 2.480 [0.000, 5.000],  loss: --, mae: --, mean_q: --, mean_eps: --\n",
            " 21056/50000: episode: 30, duration: 3.318s, episode steps: 845, steps per second: 255, episode reward: 16.000, mean reward:  0.019 [ 0.000,  1.000], mean action: 2.475 [0.000, 5.000],  loss: --, mae: --, mean_q: --, mean_eps: --\n",
            " 21650/50000: episode: 31, duration: 2.337s, episode steps: 594, steps per second: 254, episode reward:  7.000, mean reward:  0.012 [ 0.000,  1.000], mean action: 2.412 [0.000, 5.000],  loss: --, mae: --, mean_q: --, mean_eps: --\n",
            " 22683/50000: episode: 32, duration: 4.088s, episode steps: 1033, steps per second: 253, episode reward: 17.000, mean reward:  0.016 [ 0.000,  1.000], mean action: 2.498 [0.000, 5.000],  loss: --, mae: --, mean_q: --, mean_eps: --\n",
            " 23373/50000: episode: 33, duration: 2.722s, episode steps: 690, steps per second: 253, episode reward: 10.000, mean reward:  0.014 [ 0.000,  1.000], mean action: 2.497 [0.000, 5.000],  loss: --, mae: --, mean_q: --, mean_eps: --\n",
            " 23976/50000: episode: 34, duration: 2.378s, episode steps: 603, steps per second: 254, episode reward:  7.000, mean reward:  0.012 [ 0.000,  1.000], mean action: 2.439 [0.000, 5.000],  loss: --, mae: --, mean_q: --, mean_eps: --\n",
            " 24664/50000: episode: 35, duration: 2.712s, episode steps: 688, steps per second: 254, episode reward:  9.000, mean reward:  0.013 [ 0.000,  1.000], mean action: 2.584 [0.000, 5.000],  loss: --, mae: --, mean_q: --, mean_eps: --\n",
            " 25392/50000: episode: 36, duration: 2.903s, episode steps: 728, steps per second: 251, episode reward:  9.000, mean reward:  0.012 [ 0.000,  1.000], mean action: 2.541 [0.000, 5.000],  loss: --, mae: --, mean_q: --, mean_eps: --\n",
            " 25891/50000: episode: 37, duration: 1.996s, episode steps: 499, steps per second: 250, episode reward:  6.000, mean reward:  0.012 [ 0.000,  1.000], mean action: 2.473 [0.000, 5.000],  loss: --, mae: --, mean_q: --, mean_eps: --\n",
            " 26460/50000: episode: 38, duration: 2.257s, episode steps: 569, steps per second: 252, episode reward:  7.000, mean reward:  0.012 [ 0.000,  1.000], mean action: 2.561 [0.000, 5.000],  loss: --, mae: --, mean_q: --, mean_eps: --\n",
            " 26866/50000: episode: 39, duration: 1.605s, episode steps: 406, steps per second: 253, episode reward:  4.000, mean reward:  0.010 [ 0.000,  1.000], mean action: 2.512 [0.000, 5.000],  loss: --, mae: --, mean_q: --, mean_eps: --\n",
            " 27529/50000: episode: 40, duration: 2.604s, episode steps: 663, steps per second: 255, episode reward:  8.000, mean reward:  0.012 [ 0.000,  1.000], mean action: 2.504 [0.000, 5.000],  loss: --, mae: --, mean_q: --, mean_eps: --\n",
            " 28342/50000: episode: 41, duration: 3.210s, episode steps: 813, steps per second: 253, episode reward:  9.000, mean reward:  0.011 [ 0.000,  1.000], mean action: 2.526 [0.000, 5.000],  loss: --, mae: --, mean_q: --, mean_eps: --\n",
            " 29419/50000: episode: 42, duration: 4.240s, episode steps: 1077, steps per second: 254, episode reward: 17.000, mean reward:  0.016 [ 0.000,  1.000], mean action: 2.530 [0.000, 5.000],  loss: --, mae: --, mean_q: --, mean_eps: --\n",
            " 30031/50000: episode: 43, duration: 2.425s, episode steps: 612, steps per second: 252, episode reward:  9.000, mean reward:  0.015 [ 0.000,  1.000], mean action: 2.456 [0.000, 5.000],  loss: --, mae: --, mean_q: --, mean_eps: --\n",
            " 30558/50000: episode: 44, duration: 2.067s, episode steps: 527, steps per second: 255, episode reward:  9.000, mean reward:  0.017 [ 0.000,  1.000], mean action: 2.539 [0.000, 5.000],  loss: --, mae: --, mean_q: --, mean_eps: --\n",
            " 31647/50000: episode: 45, duration: 4.318s, episode steps: 1089, steps per second: 252, episode reward: 12.000, mean reward:  0.011 [ 0.000,  1.000], mean action: 2.561 [0.000, 5.000],  loss: --, mae: --, mean_q: --, mean_eps: --\n",
            " 32377/50000: episode: 46, duration: 2.877s, episode steps: 730, steps per second: 254, episode reward: 13.000, mean reward:  0.018 [ 0.000,  1.000], mean action: 2.455 [0.000, 5.000],  loss: --, mae: --, mean_q: --, mean_eps: --\n",
            " 32975/50000: episode: 47, duration: 2.356s, episode steps: 598, steps per second: 254, episode reward: 10.000, mean reward:  0.017 [ 0.000,  1.000], mean action: 2.540 [0.000, 5.000],  loss: --, mae: --, mean_q: --, mean_eps: --\n",
            " 33580/50000: episode: 48, duration: 2.383s, episode steps: 605, steps per second: 254, episode reward: 12.000, mean reward:  0.020 [ 0.000,  1.000], mean action: 2.458 [0.000, 5.000],  loss: --, mae: --, mean_q: --, mean_eps: --\n",
            " 34148/50000: episode: 49, duration: 2.290s, episode steps: 568, steps per second: 248, episode reward:  7.000, mean reward:  0.012 [ 0.000,  1.000], mean action: 2.449 [0.000, 5.000],  loss: --, mae: --, mean_q: --, mean_eps: --\n",
            " 34804/50000: episode: 50, duration: 2.593s, episode steps: 656, steps per second: 253, episode reward:  9.000, mean reward:  0.014 [ 0.000,  1.000], mean action: 2.520 [0.000, 5.000],  loss: --, mae: --, mean_q: --, mean_eps: --\n",
            " 35459/50000: episode: 51, duration: 2.583s, episode steps: 655, steps per second: 254, episode reward: 11.000, mean reward:  0.017 [ 0.000,  1.000], mean action: 2.435 [0.000, 5.000],  loss: --, mae: --, mean_q: --, mean_eps: --\n",
            " 35966/50000: episode: 52, duration: 2.000s, episode steps: 507, steps per second: 254, episode reward:  8.000, mean reward:  0.016 [ 0.000,  1.000], mean action: 2.517 [0.000, 5.000],  loss: --, mae: --, mean_q: --, mean_eps: --\n",
            " 36582/50000: episode: 53, duration: 2.434s, episode steps: 616, steps per second: 253, episode reward:  7.000, mean reward:  0.011 [ 0.000,  1.000], mean action: 2.472 [0.000, 5.000],  loss: --, mae: --, mean_q: --, mean_eps: --\n",
            " 37335/50000: episode: 54, duration: 3.003s, episode steps: 753, steps per second: 251, episode reward:  8.000, mean reward:  0.011 [ 0.000,  1.000], mean action: 2.503 [0.000, 5.000],  loss: --, mae: --, mean_q: --, mean_eps: --\n",
            " 38448/50000: episode: 55, duration: 4.369s, episode steps: 1113, steps per second: 255, episode reward: 18.000, mean reward:  0.016 [ 0.000,  1.000], mean action: 2.649 [0.000, 5.000],  loss: --, mae: --, mean_q: --, mean_eps: --\n",
            " 38846/50000: episode: 56, duration: 1.573s, episode steps: 398, steps per second: 253, episode reward:  4.000, mean reward:  0.010 [ 0.000,  1.000], mean action: 2.543 [0.000, 5.000],  loss: --, mae: --, mean_q: --, mean_eps: --\n",
            " 39409/50000: episode: 57, duration: 2.225s, episode steps: 563, steps per second: 253, episode reward:  3.000, mean reward:  0.005 [ 0.000,  1.000], mean action: 2.622 [0.000, 5.000],  loss: --, mae: --, mean_q: --, mean_eps: --\n",
            " 40075/50000: episode: 58, duration: 2.666s, episode steps: 666, steps per second: 250, episode reward:  6.000, mean reward:  0.009 [ 0.000,  1.000], mean action: 2.553 [0.000, 5.000],  loss: --, mae: --, mean_q: --, mean_eps: --\n",
            " 40785/50000: episode: 59, duration: 2.823s, episode steps: 710, steps per second: 251, episode reward:  8.000, mean reward:  0.011 [ 0.000,  1.000], mean action: 2.600 [0.000, 5.000],  loss: --, mae: --, mean_q: --, mean_eps: --\n",
            " 41826/50000: episode: 60, duration: 4.091s, episode steps: 1041, steps per second: 254, episode reward: 18.000, mean reward:  0.017 [ 0.000,  1.000], mean action: 2.536 [0.000, 5.000],  loss: --, mae: --, mean_q: --, mean_eps: --\n",
            " 42659/50000: episode: 61, duration: 3.276s, episode steps: 833, steps per second: 254, episode reward: 16.000, mean reward:  0.019 [ 0.000,  1.000], mean action: 2.589 [0.000, 5.000],  loss: --, mae: --, mean_q: --, mean_eps: --\n",
            " 43331/50000: episode: 62, duration: 2.689s, episode steps: 672, steps per second: 250, episode reward:  8.000, mean reward:  0.012 [ 0.000,  1.000], mean action: 2.427 [0.000, 5.000],  loss: --, mae: --, mean_q: --, mean_eps: --\n",
            " 43777/50000: episode: 63, duration: 1.755s, episode steps: 446, steps per second: 254, episode reward:  2.000, mean reward:  0.004 [ 0.000,  1.000], mean action: 2.509 [0.000, 5.000],  loss: --, mae: --, mean_q: --, mean_eps: --\n",
            " 44457/50000: episode: 64, duration: 2.674s, episode steps: 680, steps per second: 254, episode reward:  6.000, mean reward:  0.009 [ 0.000,  1.000], mean action: 2.554 [0.000, 5.000],  loss: --, mae: --, mean_q: --, mean_eps: --\n",
            " 44913/50000: episode: 65, duration: 1.814s, episode steps: 456, steps per second: 251, episode reward:  6.000, mean reward:  0.013 [ 0.000,  1.000], mean action: 2.555 [0.000, 5.000],  loss: --, mae: --, mean_q: --, mean_eps: --\n",
            " 45937/50000: episode: 66, duration: 4.085s, episode steps: 1024, steps per second: 251, episode reward: 21.000, mean reward:  0.021 [ 0.000,  1.000], mean action: 2.515 [0.000, 5.000],  loss: --, mae: --, mean_q: --, mean_eps: --\n",
            " 46548/50000: episode: 67, duration: 2.476s, episode steps: 611, steps per second: 247, episode reward:  5.000, mean reward:  0.008 [ 0.000,  1.000], mean action: 2.381 [0.000, 5.000],  loss: --, mae: --, mean_q: --, mean_eps: --\n",
            " 47658/50000: episode: 68, duration: 4.426s, episode steps: 1110, steps per second: 251, episode reward: 23.000, mean reward:  0.021 [ 0.000,  1.000], mean action: 2.464 [0.000, 5.000],  loss: --, mae: --, mean_q: --, mean_eps: --\n",
            " 48224/50000: episode: 69, duration: 2.267s, episode steps: 566, steps per second: 250, episode reward:  7.000, mean reward:  0.012 [ 0.000,  1.000], mean action: 2.521 [0.000, 5.000],  loss: --, mae: --, mean_q: --, mean_eps: --\n",
            " 48767/50000: episode: 70, duration: 2.179s, episode steps: 543, steps per second: 249, episode reward:  7.000, mean reward:  0.013 [ 0.000,  1.000], mean action: 2.632 [0.000, 5.000],  loss: --, mae: --, mean_q: --, mean_eps: --\n",
            " 49452/50000: episode: 71, duration: 2.724s, episode steps: 685, steps per second: 251, episode reward:  6.000, mean reward:  0.009 [ 0.000,  1.000], mean action: 2.527 [0.000, 5.000],  loss: --, mae: --, mean_q: --, mean_eps: --\n",
            "done, took 198.076 seconds\n",
            "Testing for 10 episodes ...\n",
            "Episode 1: reward: 5.000, steps: 680\n",
            "Episode 2: reward: 5.000, steps: 649\n",
            "Episode 3: reward: 9.000, steps: 683\n",
            "Episode 4: reward: 1.000, steps: 386\n",
            "Episode 5: reward: 8.000, steps: 932\n",
            "Episode 6: reward: 7.000, steps: 718\n",
            "Episode 7: reward: 10.000, steps: 697\n",
            "Episode 8: reward: 2.000, steps: 637\n",
            "Episode 9: reward: 2.000, steps: 349\n",
            "Episode 10: reward: 12.000, steps: 939\n",
            "Recompensa promedio en test: 6.10\n",
            "Desviación estándar: 3.53\n"
          ]
        }
      ]
    },
    {
      "cell_type": "markdown",
      "source": [
        "### Main - TEST I - DQN - V2"
      ],
      "metadata": {
        "id": "yETDh5rn-xA4"
      }
    },
    {
      "cell_type": "markdown",
      "source": [
        "Sólo mejora la organización"
      ],
      "metadata": {
        "id": "wyk-mPGEpx6j"
      }
    },
    {
      "cell_type": "code",
      "source": [
        "%%writefile main2.py\n",
        "import numpy as np\n",
        "import gym\n",
        "from PIL import Image\n",
        "import tensorflow as tf\n",
        "from tensorflow.keras.models import Sequential\n",
        "from tensorflow.keras.layers import Conv2D, Dense, Flatten, Permute\n",
        "from tensorflow.keras.optimizers import legacy as keras_legacy_optimizers\n",
        "from rl.agents.dqn import DQNAgent\n",
        "from rl.memory import SequentialMemory\n",
        "from rl.policy import LinearAnnealedPolicy, EpsGreedyQPolicy\n",
        "from rl.core import Processor\n",
        "\n",
        "# Parámetros\n",
        "ENV_NAME = 'SpaceInvaders-v0'\n",
        "INPUT_SHAPE = (84, 84)\n",
        "WINDOW_LENGTH = 4\n",
        "SEED = 123\n",
        "\n",
        "# ------------------------------------------------------------\n",
        "# Procesador personalizado\n",
        "# ------------------------------------------------------------\n",
        "class AtariProcessor(Processor):\n",
        "    def process_observation(self, observation):\n",
        "        assert observation.ndim == 3\n",
        "        img = Image.fromarray(observation).resize(INPUT_SHAPE).convert('L')\n",
        "        return np.array(img).astype('uint8')\n",
        "\n",
        "    def process_state_batch(self, batch):\n",
        "        return batch.astype('float32') / 255.0\n",
        "\n",
        "    def process_reward(self, reward):\n",
        "        return np.clip(reward, -1., 1.)\n",
        "\n",
        "# ------------------------------------------------------------\n",
        "# Clase contenedora del agente\n",
        "# ------------------------------------------------------------\n",
        "class DQNAgentWrapper:\n",
        "    def __init__(self, env_name):\n",
        "        self.env_name = env_name\n",
        "        self.env = gym.make(env_name)\n",
        "        self.env.seed(SEED)\n",
        "        np.random.seed(SEED)\n",
        "        tf.random.set_seed(SEED)\n",
        "\n",
        "        self.nb_actions = self.env.action_space.n\n",
        "        self.processor = AtariProcessor()\n",
        "        self.model = self.build_model()\n",
        "        self.memory = SequentialMemory(limit=100000, window_length=WINDOW_LENGTH)\n",
        "        self.policy = LinearAnnealedPolicy(\n",
        "            EpsGreedyQPolicy(),\n",
        "            attr='eps',\n",
        "            value_max=1.0,\n",
        "            value_min=0.1,\n",
        "            value_test=0.05,\n",
        "            nb_steps=50000\n",
        "        )\n",
        "        self.agent = self.build_agent()\n",
        "\n",
        "    def build_model(self):\n",
        "        model = Sequential()\n",
        "        model.add(Permute((2, 3, 1), input_shape=(WINDOW_LENGTH,) + INPUT_SHAPE))\n",
        "        model.add(Conv2D(32, (8, 8), strides=(4, 4), activation='relu'))\n",
        "        model.add(Conv2D(64, (4, 4), strides=(2, 2), activation='relu'))\n",
        "        model.add(Conv2D(64, (3, 3), activation='relu'))\n",
        "        model.add(Flatten())\n",
        "        model.add(Dense(512, activation='relu'))\n",
        "        model.add(Dense(self.nb_actions, activation='linear'))\n",
        "        return model\n",
        "\n",
        "    def build_agent(self):\n",
        "        # Usa Adam legacy para compatibilidad total con keras-rl2\n",
        "        adam_legacy = keras_legacy_optimizers.Adam(learning_rate=0.00025)\n",
        "        dqn = DQNAgent(\n",
        "            model=self.model,\n",
        "            nb_actions=self.nb_actions,\n",
        "            memory=self.memory,\n",
        "            processor=self.processor,\n",
        "            policy=self.policy,\n",
        "            nb_steps_warmup=10000,\n",
        "            gamma=0.99,\n",
        "            target_model_update=1000,\n",
        "            train_interval=4,\n",
        "            delta_clip=1.0\n",
        "        )\n",
        "        dqn.compile(adam_legacy, metrics=['mae'])\n",
        "        return dqn\n",
        "\n",
        "    def train(self, steps=50000):\n",
        "        self.agent.fit(self.env, nb_steps=steps, visualize=False, verbose=2)\n",
        "\n",
        "    def test(self, episodes=3, render=False):\n",
        "        self.agent.test(self.env, nb_episodes=episodes, visualize=render)\n",
        "\n",
        "    def save(self, path='dqn_weights.h5f'):\n",
        "        self.agent.save_weights(path, overwrite=True)\n",
        "\n",
        "    def load(self, path='dqn_weights.h5f'):\n",
        "        self.agent.load_weights(path)\n",
        "\n",
        "# ------------------------------------------------------------\n",
        "# Entrenamiento\n",
        "# ------------------------------------------------------------\n",
        "if __name__ == '__main__':\n",
        "    dqn_wrapper = DQNAgentWrapper(ENV_NAME)\n",
        "\n",
        "    print(\"Entrenando el agente...\")\n",
        "    dqn_wrapper.train()\n",
        "\n",
        "    print(\"Evaluando el agente...\")\n",
        "    dqn_wrapper.test()\n",
        "\n",
        "    print(\"Guardando pesos...\")\n",
        "    dqn_wrapper.save(f'dqn_{ENV_NAME}_weights.h5f')"
      ],
      "metadata": {
        "id": "Rlr8_LNl-woB",
        "colab": {
          "base_uri": "https://localhost:8080/"
        },
        "outputId": "f1070078-9564-4cfc-80cb-fb03d3bf909f"
      },
      "execution_count": 6,
      "outputs": [
        {
          "output_type": "stream",
          "name": "stdout",
          "text": [
            "Overwriting main2.py\n"
          ]
        }
      ]
    },
    {
      "cell_type": "code",
      "source": [
        "!./miar_rl/bin/python main2.py\n"
      ],
      "metadata": {
        "id": "Lt-XFdAt-wdy",
        "colab": {
          "base_uri": "https://localhost:8080/"
        },
        "outputId": "a3063812-e11c-4e79-d3b5-dd2b2f11d3f9"
      },
      "execution_count": 5,
      "outputs": [
        {
          "output_type": "stream",
          "name": "stdout",
          "text": [
            "2025-06-21 18:24:49.849606: I tensorflow/core/util/port.cc:110] oneDNN custom operations are on. You may see slightly different numerical results due to floating-point round-off errors from different computation orders. To turn them off, set the environment variable `TF_ENABLE_ONEDNN_OPTS=0`.\n",
            "2025-06-21 18:24:49.852354: I tensorflow/tsl/cuda/cudart_stub.cc:28] Could not find cuda drivers on your machine, GPU will not be used.\n",
            "2025-06-21 18:24:49.904276: I tensorflow/tsl/cuda/cudart_stub.cc:28] Could not find cuda drivers on your machine, GPU will not be used.\n",
            "2025-06-21 18:24:49.904780: I tensorflow/core/platform/cpu_feature_guard.cc:182] This TensorFlow binary is optimized to use available CPU instructions in performance-critical operations.\n",
            "To enable the following instructions: AVX2 AVX512F AVX512_VNNI FMA, in other operations, rebuild TensorFlow with the appropriate compiler flags.\n",
            "2025-06-21 18:24:50.651771: W tensorflow/compiler/tf2tensorrt/utils/py_utils.cc:38] TF-TRT Warning: Could not find TensorRT\n",
            "2025-06-21 18:24:52.433747: W tensorflow/core/common_runtime/gpu/gpu_device.cc:1956] Cannot dlopen some GPU libraries. Please make sure the missing libraries mentioned above are installed properly if you would like to use GPU. Follow the guide at https://www.tensorflow.org/install/gpu for how to download and setup the required libraries for your platform.\n",
            "Skipping registering GPU devices...\n",
            "2025-06-21 18:24:52.444609: I tensorflow/compiler/mlir/mlir_graph_optimization_pass.cc:353] MLIR V1 optimization pass is not enabled\n",
            "2025-06-21 18:24:52.472376: W tensorflow/c/c_api.cc:300] Operation '{name:'dense_1_1/bias/Assign' id:244 op device:{requested: '', assigned: ''} def:{{{node dense_1_1/bias/Assign}} = AssignVariableOp[_has_manual_control_dependencies=true, dtype=DT_FLOAT, validate_shape=false](dense_1_1/bias, dense_1_1/bias/Initializer/zeros)}}' was changed by setting attribute after it was run by a session. This mutation will have no effect, and will trigger an error in the future. Either don't modify nodes after running them or create a new session.\n",
            "Entrenando el agente...\n",
            "Training for 50000 steps ...\n",
            "/content/miar_rl/lib/python3.11/site-packages/keras/engine/training_v1.py:2359: UserWarning: `Model.state_updates` will be removed in a future version. This property should not be used in TensorFlow 2.0, as `updates` are applied automatically.\n",
            "  updates=self.state_updates,\n",
            "2025-06-21 18:24:52.863082: W tensorflow/c/c_api.cc:300] Operation '{name:'dense_1/BiasAdd' id:125 op device:{requested: '', assigned: ''} def:{{{node dense_1/BiasAdd}} = BiasAdd[T=DT_FLOAT, _has_manual_control_dependencies=true, data_format=\"NHWC\"](dense_1/MatMul, dense_1/BiasAdd/ReadVariableOp)}}' was changed by setting attribute after it was run by a session. This mutation will have no effect, and will trigger an error in the future. Either don't modify nodes after running them or create a new session.\n",
            "2025-06-21 18:24:52.879171: W tensorflow/c/c_api.cc:300] Operation '{name:'count_3/Assign' id:395 op device:{requested: '', assigned: ''} def:{{{node count_3/Assign}} = AssignVariableOp[_has_manual_control_dependencies=true, dtype=DT_FLOAT, validate_shape=false](count_3, count_3/Initializer/zeros)}}' was changed by setting attribute after it was run by a session. This mutation will have no effect, and will trigger an error in the future. Either don't modify nodes after running them or create a new session.\n",
            "   420/50000: episode: 1, duration: 1.737s, episode steps: 420, steps per second: 242, episode reward:  6.000, mean reward:  0.014 [ 0.000,  1.000], mean action: 2.490 [0.000, 5.000],  loss: --, mae: --, mean_q: --, mean_eps: --\n",
            "   991/50000: episode: 2, duration: 2.267s, episode steps: 571, steps per second: 252, episode reward:  5.000, mean reward:  0.009 [ 0.000,  1.000], mean action: 2.401 [0.000, 5.000],  loss: --, mae: --, mean_q: --, mean_eps: --\n",
            "  1707/50000: episode: 3, duration: 2.840s, episode steps: 716, steps per second: 252, episode reward:  9.000, mean reward:  0.013 [ 0.000,  1.000], mean action: 2.489 [0.000, 5.000],  loss: --, mae: --, mean_q: --, mean_eps: --\n",
            "  2445/50000: episode: 4, duration: 2.968s, episode steps: 738, steps per second: 249, episode reward:  7.000, mean reward:  0.009 [ 0.000,  1.000], mean action: 2.449 [0.000, 5.000],  loss: --, mae: --, mean_q: --, mean_eps: --\n",
            "  3204/50000: episode: 5, duration: 3.021s, episode steps: 759, steps per second: 251, episode reward: 10.000, mean reward:  0.013 [ 0.000,  1.000], mean action: 2.606 [0.000, 5.000],  loss: --, mae: --, mean_q: --, mean_eps: --\n",
            "  3846/50000: episode: 6, duration: 2.567s, episode steps: 642, steps per second: 250, episode reward:  6.000, mean reward:  0.009 [ 0.000,  1.000], mean action: 2.489 [0.000, 5.000],  loss: --, mae: --, mean_q: --, mean_eps: --\n",
            "  5247/50000: episode: 7, duration: 5.542s, episode steps: 1401, steps per second: 253, episode reward: 13.000, mean reward:  0.009 [ 0.000,  1.000], mean action: 2.546 [0.000, 5.000],  loss: --, mae: --, mean_q: --, mean_eps: --\n",
            "  5739/50000: episode: 8, duration: 1.950s, episode steps: 492, steps per second: 252, episode reward:  7.000, mean reward:  0.014 [ 0.000,  1.000], mean action: 2.547 [0.000, 5.000],  loss: --, mae: --, mean_q: --, mean_eps: --\n",
            "  6342/50000: episode: 9, duration: 2.388s, episode steps: 603, steps per second: 253, episode reward:  7.000, mean reward:  0.012 [ 0.000,  1.000], mean action: 2.524 [0.000, 5.000],  loss: --, mae: --, mean_q: --, mean_eps: --\n",
            "  7161/50000: episode: 10, duration: 3.279s, episode steps: 819, steps per second: 250, episode reward:  9.000, mean reward:  0.011 [ 0.000,  1.000], mean action: 2.656 [0.000, 5.000],  loss: --, mae: --, mean_q: --, mean_eps: --\n",
            "  7938/50000: episode: 11, duration: 3.046s, episode steps: 777, steps per second: 255, episode reward: 10.000, mean reward:  0.013 [ 0.000,  1.000], mean action: 2.645 [0.000, 5.000],  loss: --, mae: --, mean_q: --, mean_eps: --\n",
            "  8880/50000: episode: 12, duration: 3.729s, episode steps: 942, steps per second: 253, episode reward: 16.000, mean reward:  0.017 [ 0.000,  1.000], mean action: 2.608 [0.000, 5.000],  loss: --, mae: --, mean_q: --, mean_eps: --\n",
            "  9407/50000: episode: 13, duration: 2.089s, episode steps: 527, steps per second: 252, episode reward:  5.000, mean reward:  0.009 [ 0.000,  1.000], mean action: 2.736 [0.000, 5.000],  loss: --, mae: --, mean_q: --, mean_eps: --\n",
            "/content/miar_rl/lib/python3.11/site-packages/keras/engine/training_v1.py:2359: UserWarning: `Model.state_updates` will be removed in a future version. This property should not be used in TensorFlow 2.0, as `updates` are applied automatically.\n",
            "  updates=self.state_updates,\n",
            "2025-06-21 18:25:32.774311: W tensorflow/c/c_api.cc:300] Operation '{name:'dense_1_1/BiasAdd' id:249 op device:{requested: '', assigned: ''} def:{{{node dense_1_1/BiasAdd}} = BiasAdd[T=DT_FLOAT, _has_manual_control_dependencies=true, data_format=\"NHWC\"](dense_1_1/MatMul, dense_1_1/BiasAdd/ReadVariableOp)}}' was changed by setting attribute after it was run by a session. This mutation will have no effect, and will trigger an error in the future. Either don't modify nodes after running them or create a new session.\n",
            "2025-06-21 18:25:33.032402: W tensorflow/c/c_api.cc:300] Operation '{name:'loss_3/AddN' id:491 op device:{requested: '', assigned: ''} def:{{{node loss_3/AddN}} = AddN[N=2, T=DT_FLOAT, _has_manual_control_dependencies=true](loss_3/mul, loss_3/mul_1)}}' was changed by setting attribute after it was run by a session. This mutation will have no effect, and will trigger an error in the future. Either don't modify nodes after running them or create a new session.\n",
            "2025-06-21 18:25:33.065424: W tensorflow/c/c_api.cc:300] Operation '{name:'training/Adam/conv2d_2/bias/v/Assign' id:789 op device:{requested: '', assigned: ''} def:{{{node training/Adam/conv2d_2/bias/v/Assign}} = AssignVariableOp[_has_manual_control_dependencies=true, dtype=DT_FLOAT, validate_shape=false](training/Adam/conv2d_2/bias/v, training/Adam/conv2d_2/bias/v/Initializer/zeros)}}' was changed by setting attribute after it was run by a session. This mutation will have no effect, and will trigger an error in the future. Either don't modify nodes after running them or create a new session.\n",
            " 10225/50000: episode: 14, duration: 9.265s, episode steps: 818, steps per second:  88, episode reward: 11.000, mean reward:  0.013 [ 0.000,  1.000], mean action: 2.732 [0.000, 5.000],  loss: 0.004909, mae: 0.033626, mean_q: 0.056478, mean_eps: 0.817948\n",
            " 10844/50000: episode: 15, duration: 19.132s, episode steps: 619, steps per second:  32, episode reward:  8.000, mean reward:  0.013 [ 0.000,  1.000], mean action: 2.662 [0.000, 5.000],  loss: 0.006680, mae: 0.037112, mean_q: 0.059689, mean_eps: 0.810388\n",
            " 11564/50000: episode: 16, duration: 21.044s, episode steps: 720, steps per second:  34, episode reward: 17.000, mean reward:  0.024 [ 0.000,  1.000], mean action: 2.381 [0.000, 5.000],  loss: 0.007328, mae: 0.052056, mean_q: 0.076062, mean_eps: 0.798364\n",
            " 12110/50000: episode: 17, duration: 16.647s, episode steps: 546, steps per second:  33, episode reward:  6.000, mean reward:  0.011 [ 0.000,  1.000], mean action: 2.588 [0.000, 5.000],  loss: 0.007263, mae: 0.060881, mean_q: 0.083807, mean_eps: 0.786952\n",
            " 12912/50000: episode: 18, duration: 23.839s, episode steps: 802, steps per second:  34, episode reward:  9.000, mean reward:  0.011 [ 0.000,  1.000], mean action: 2.378 [0.000, 5.000],  loss: 0.006478, mae: 0.079386, mean_q: 0.112451, mean_eps: 0.774820\n",
            " 13295/50000: episode: 19, duration: 11.904s, episode steps: 383, steps per second:  32, episode reward:  8.000, mean reward:  0.021 [ 0.000,  1.000], mean action: 2.394 [0.000, 5.000],  loss: 0.005210, mae: 0.084006, mean_q: 0.113239, mean_eps: 0.764164\n",
            " 14105/50000: episode: 20, duration: 24.944s, episode steps: 810, steps per second:  32, episode reward: 13.000, mean reward:  0.016 [ 0.000,  1.000], mean action: 2.705 [0.000, 5.000],  loss: 0.007151, mae: 0.093487, mean_q: 0.127644, mean_eps: 0.753400\n",
            " 14804/50000: episode: 21, duration: 19.745s, episode steps: 699, steps per second:  35, episode reward: 11.000, mean reward:  0.016 [ 0.000,  1.000], mean action: 2.639 [0.000, 5.000],  loss: 0.007295, mae: 0.121252, mean_q: 0.167980, mean_eps: 0.739828\n",
            " 15476/50000: episode: 22, duration: 18.958s, episode steps: 672, steps per second:  35, episode reward:  8.000, mean reward:  0.012 [ 0.000,  1.000], mean action: 2.594 [0.000, 5.000],  loss: 0.007871, mae: 0.135120, mean_q: 0.184039, mean_eps: 0.727516\n",
            " 16222/50000: episode: 23, duration: 20.970s, episode steps: 746, steps per second:  36, episode reward:  6.000, mean reward:  0.008 [ 0.000,  1.000], mean action: 2.625 [0.000, 5.000],  loss: 0.006509, mae: 0.141510, mean_q: 0.189813, mean_eps: 0.714736\n",
            " 17160/50000: episode: 24, duration: 26.374s, episode steps: 938, steps per second:  36, episode reward: 13.000, mean reward:  0.014 [ 0.000,  1.000], mean action: 2.348 [0.000, 5.000],  loss: 0.006128, mae: 0.164807, mean_q: 0.216855, mean_eps: 0.699580\n",
            " 17850/50000: episode: 25, duration: 19.227s, episode steps: 690, steps per second:  36, episode reward:  7.000, mean reward:  0.010 [ 0.000,  1.000], mean action: 2.377 [0.000, 5.000],  loss: 0.007091, mae: 0.201982, mean_q: 0.262386, mean_eps: 0.684928\n",
            " 18789/50000: episode: 26, duration: 26.342s, episode steps: 939, steps per second:  36, episode reward: 15.000, mean reward:  0.016 [ 0.000,  1.000], mean action: 2.344 [0.000, 5.000],  loss: 0.005773, mae: 0.212849, mean_q: 0.274872, mean_eps: 0.670240\n",
            " 20140/50000: episode: 27, duration: 37.836s, episode steps: 1351, steps per second:  36, episode reward: 28.000, mean reward:  0.021 [ 0.000,  1.000], mean action: 2.454 [0.000, 5.000],  loss: 0.007255, mae: 0.225662, mean_q: 0.294662, mean_eps: 0.649648\n",
            " 20842/50000: episode: 28, duration: 21.789s, episode steps: 702, steps per second:  32, episode reward:  9.000, mean reward:  0.013 [ 0.000,  1.000], mean action: 2.440 [0.000, 5.000],  loss: 0.006885, mae: 0.263147, mean_q: 0.341704, mean_eps: 0.631180\n",
            " 21634/50000: episode: 29, duration: 23.136s, episode steps: 792, steps per second:  34, episode reward: 16.000, mean reward:  0.020 [ 0.000,  1.000], mean action: 2.587 [0.000, 5.000],  loss: 0.007132, mae: 0.308955, mean_q: 0.397083, mean_eps: 0.617716\n",
            " 22283/50000: episode: 30, duration: 20.089s, episode steps: 649, steps per second:  32, episode reward: 16.000, mean reward:  0.025 [ 0.000,  1.000], mean action: 2.733 [0.000, 5.000],  loss: 0.007449, mae: 0.339952, mean_q: 0.431034, mean_eps: 0.604756\n",
            " 23048/50000: episode: 31, duration: 23.799s, episode steps: 765, steps per second:  32, episode reward:  9.000, mean reward:  0.012 [ 0.000,  1.000], mean action: 2.548 [0.000, 5.000],  loss: 0.008587, mae: 0.371793, mean_q: 0.470162, mean_eps: 0.592048\n",
            " 24137/50000: episode: 32, duration: 30.650s, episode steps: 1089, steps per second:  36, episode reward: 23.000, mean reward:  0.021 [ 0.000,  1.000], mean action: 2.588 [0.000, 5.000],  loss: 0.008080, mae: 0.401831, mean_q: 0.509725, mean_eps: 0.575344\n",
            " 24499/50000: episode: 33, duration: 10.024s, episode steps: 362, steps per second:  36, episode reward:  4.000, mean reward:  0.011 [ 0.000,  1.000], mean action: 2.566 [0.000, 5.000],  loss: 0.008214, mae: 0.440474, mean_q: 0.555659, mean_eps: 0.562276\n",
            " 25154/50000: episode: 34, duration: 18.361s, episode steps: 655, steps per second:  36, episode reward:  9.000, mean reward:  0.014 [ 0.000,  1.000], mean action: 2.385 [0.000, 5.000],  loss: 0.007788, mae: 0.441487, mean_q: 0.557294, mean_eps: 0.553132\n",
            " 25579/50000: episode: 35, duration: 11.968s, episode steps: 425, steps per second:  36, episode reward:  4.000, mean reward:  0.009 [ 0.000,  1.000], mean action: 2.652 [0.000, 5.000],  loss: 0.010434, mae: 0.474376, mean_q: 0.595743, mean_eps: 0.543412\n",
            " 26102/50000: episode: 36, duration: 14.731s, episode steps: 523, steps per second:  36, episode reward:  9.000, mean reward:  0.017 [ 0.000,  1.000], mean action: 2.673 [0.000, 5.000],  loss: 0.008344, mae: 0.480956, mean_q: 0.604530, mean_eps: 0.534880\n",
            " 26562/50000: episode: 37, duration: 12.820s, episode steps: 460, steps per second:  36, episode reward:  6.000, mean reward:  0.013 [ 0.000,  1.000], mean action: 2.250 [0.000, 5.000],  loss: 0.007896, mae: 0.502455, mean_q: 0.627787, mean_eps: 0.526024\n",
            " 26915/50000: episode: 38, duration: 9.823s, episode steps: 353, steps per second:  36, episode reward:  5.000, mean reward:  0.014 [ 0.000,  1.000], mean action: 2.567 [0.000, 5.000],  loss: 0.009125, mae: 0.503554, mean_q: 0.629391, mean_eps: 0.518716\n",
            " 28017/50000: episode: 39, duration: 31.116s, episode steps: 1102, steps per second:  35, episode reward: 27.000, mean reward:  0.025 [ 0.000,  1.000], mean action: 2.776 [0.000, 5.000],  loss: 0.008890, mae: 0.539557, mean_q: 0.672700, mean_eps: 0.505612\n",
            " 28557/50000: episode: 40, duration: 16.482s, episode steps: 540, steps per second:  33, episode reward:  8.000, mean reward:  0.015 [ 0.000,  1.000], mean action: 2.367 [0.000, 5.000],  loss: 0.009945, mae: 0.600719, mean_q: 0.746023, mean_eps: 0.490816\n",
            " 29442/50000: episode: 41, duration: 26.261s, episode steps: 885, steps per second:  34, episode reward: 19.000, mean reward:  0.021 [ 0.000,  1.000], mean action: 2.181 [0.000, 5.000],  loss: 0.009904, mae: 0.633030, mean_q: 0.783670, mean_eps: 0.478000\n",
            " 30442/50000: episode: 42, duration: 30.943s, episode steps: 1000, steps per second:  32, episode reward: 18.000, mean reward:  0.018 [ 0.000,  1.000], mean action: 2.703 [0.000, 5.000],  loss: 0.011389, mae: 0.697810, mean_q: 0.864093, mean_eps: 0.461044\n",
            " 31291/50000: episode: 43, duration: 25.493s, episode steps: 849, steps per second:  33, episode reward: 15.000, mean reward:  0.018 [ 0.000,  1.000], mean action: 2.537 [0.000, 5.000],  loss: 0.012048, mae: 0.734215, mean_q: 0.907944, mean_eps: 0.444412\n",
            " 31940/50000: episode: 44, duration: 18.244s, episode steps: 649, steps per second:  36, episode reward: 10.000, mean reward:  0.015 [ 0.000,  1.000], mean action: 2.624 [0.000, 5.000],  loss: 0.011538, mae: 0.737269, mean_q: 0.910152, mean_eps: 0.430948\n",
            " 33108/50000: episode: 45, duration: 32.865s, episode steps: 1168, steps per second:  36, episode reward: 26.000, mean reward:  0.022 [ 0.000,  1.000], mean action: 2.456 [0.000, 5.000],  loss: 0.013330, mae: 0.760690, mean_q: 0.935986, mean_eps: 0.414604\n",
            " 33591/50000: episode: 46, duration: 13.471s, episode steps: 483, steps per second:  36, episode reward:  8.000, mean reward:  0.017 [ 0.000,  1.000], mean action: 2.213 [0.000, 5.000],  loss: 0.010059, mae: 0.775374, mean_q: 0.953099, mean_eps: 0.399736\n",
            " 34098/50000: episode: 47, duration: 14.200s, episode steps: 507, steps per second:  36, episode reward:  4.000, mean reward:  0.008 [ 0.000,  1.000], mean action: 2.150 [0.000, 5.000],  loss: 0.009889, mae: 0.783278, mean_q: 0.964560, mean_eps: 0.390808\n",
            " 34767/50000: episode: 48, duration: 18.803s, episode steps: 669, steps per second:  36, episode reward: 14.000, mean reward:  0.021 [ 0.000,  1.000], mean action: 2.330 [0.000, 5.000],  loss: 0.012638, mae: 0.772237, mean_q: 0.950784, mean_eps: 0.380224\n",
            " 35154/50000: episode: 49, duration: 11.003s, episode steps: 387, steps per second:  35, episode reward:  6.000, mean reward:  0.016 [ 0.000,  1.000], mean action: 2.685 [0.000, 5.000],  loss: 0.010071, mae: 0.770907, mean_q: 0.950908, mean_eps: 0.370720\n",
            " 36445/50000: episode: 50, duration: 37.287s, episode steps: 1291, steps per second:  35, episode reward: 19.000, mean reward:  0.015 [ 0.000,  1.000], mean action: 2.360 [0.000, 5.000],  loss: 0.012891, mae: 0.825569, mean_q: 1.017573, mean_eps: 0.355600\n",
            " 37087/50000: episode: 51, duration: 19.681s, episode steps: 642, steps per second:  33, episode reward:  9.000, mean reward:  0.014 [ 0.000,  1.000], mean action: 2.355 [0.000, 5.000],  loss: 0.011748, mae: 0.834581, mean_q: 1.026043, mean_eps: 0.338212\n",
            " 37443/50000: episode: 52, duration: 10.086s, episode steps: 356, steps per second:  35, episode reward:  6.000, mean reward:  0.017 [ 0.000,  1.000], mean action: 3.104 [0.000, 5.000],  loss: 0.012049, mae: 0.832861, mean_q: 1.020851, mean_eps: 0.329248\n",
            " 38108/50000: episode: 53, duration: 20.475s, episode steps: 665, steps per second:  32, episode reward: 15.000, mean reward:  0.023 [ 0.000,  1.000], mean action: 2.926 [0.000, 5.000],  loss: 0.011685, mae: 0.812272, mean_q: 1.000054, mean_eps: 0.320068\n",
            " 38797/50000: episode: 54, duration: 20.505s, episode steps: 689, steps per second:  34, episode reward: 10.000, mean reward:  0.015 [ 0.000,  1.000], mean action: 2.199 [0.000, 5.000],  loss: 0.013125, mae: 0.868953, mean_q: 1.067867, mean_eps: 0.307864\n",
            " 39480/50000: episode: 55, duration: 21.294s, episode steps: 683, steps per second:  32, episode reward:  8.000, mean reward:  0.012 [ 0.000,  1.000], mean action: 2.381 [0.000, 5.000],  loss: 0.013645, mae: 0.870089, mean_q: 1.068290, mean_eps: 0.295516\n",
            " 40588/50000: episode: 56, duration: 32.814s, episode steps: 1108, steps per second:  34, episode reward: 21.000, mean reward:  0.019 [ 0.000,  1.000], mean action: 2.370 [0.000, 5.000],  loss: 0.013128, mae: 0.907153, mean_q: 1.115805, mean_eps: 0.279424\n",
            " 41233/50000: episode: 57, duration: 18.281s, episode steps: 645, steps per second:  35, episode reward: 12.000, mean reward:  0.019 [ 0.000,  1.000], mean action: 2.722 [0.000, 5.000],  loss: 0.012366, mae: 0.934056, mean_q: 1.146000, mean_eps: 0.263620\n",
            " 41865/50000: episode: 58, duration: 17.723s, episode steps: 632, steps per second:  36, episode reward: 11.000, mean reward:  0.017 [ 0.000,  1.000], mean action: 3.248 [0.000, 5.000],  loss: 0.013057, mae: 0.972323, mean_q: 1.191837, mean_eps: 0.252100\n",
            " 42864/50000: episode: 59, duration: 28.040s, episode steps: 999, steps per second:  36, episode reward: 19.000, mean reward:  0.019 [ 0.000,  1.000], mean action: 2.356 [0.000, 5.000],  loss: 0.013869, mae: 0.986334, mean_q: 1.209821, mean_eps: 0.237448\n",
            " 43775/50000: episode: 60, duration: 25.453s, episode steps: 911, steps per second:  36, episode reward: 15.000, mean reward:  0.016 [ 0.000,  1.000], mean action: 1.760 [0.000, 5.000],  loss: 0.014863, mae: 1.009386, mean_q: 1.242522, mean_eps: 0.220276\n",
            " 44413/50000: episode: 61, duration: 18.020s, episode steps: 638, steps per second:  35, episode reward: 10.000, mean reward:  0.016 [ 0.000,  1.000], mean action: 2.665 [0.000, 5.000],  loss: 0.012203, mae: 1.054846, mean_q: 1.296390, mean_eps: 0.206308\n",
            " 45324/50000: episode: 62, duration: 26.535s, episode steps: 911, steps per second:  34, episode reward: 17.000, mean reward:  0.019 [ 0.000,  1.000], mean action: 2.395 [0.000, 5.000],  loss: 0.013627, mae: 1.103604, mean_q: 1.353204, mean_eps: 0.192376\n",
            " 45984/50000: episode: 63, duration: 20.693s, episode steps: 660, steps per second:  32, episode reward: 14.000, mean reward:  0.021 [ 0.000,  1.000], mean action: 2.129 [0.000, 5.000],  loss: 0.015609, mae: 1.148229, mean_q: 1.405882, mean_eps: 0.178264\n",
            " 46327/50000: episode: 64, duration: 9.803s, episode steps: 343, steps per second:  35, episode reward:  4.000, mean reward:  0.012 [ 0.000,  1.000], mean action: 2.536 [0.000, 5.000],  loss: 0.014005, mae: 1.178562, mean_q: 1.439549, mean_eps: 0.169228\n",
            " 47462/50000: episode: 65, duration: 33.647s, episode steps: 1135, steps per second:  34, episode reward: 18.000, mean reward:  0.016 [ 0.000,  1.000], mean action: 2.512 [0.000, 5.000],  loss: 0.015112, mae: 1.169938, mean_q: 1.429863, mean_eps: 0.155908\n",
            " 48605/50000: episode: 66, duration: 35.723s, episode steps: 1143, steps per second:  32, episode reward: 18.000, mean reward:  0.016 [ 0.000,  1.000], mean action: 2.040 [0.000, 5.000],  loss: 0.015175, mae: 1.207741, mean_q: 1.479617, mean_eps: 0.135388\n",
            " 49011/50000: episode: 67, duration: 12.600s, episode steps: 406, steps per second:  32, episode reward:  3.000, mean reward:  0.007 [ 0.000,  1.000], mean action: 2.633 [0.000, 5.000],  loss: 0.016169, mae: 1.263039, mean_q: 1.540152, mean_eps: 0.121456\n",
            " 49996/50000: episode: 68, duration: 27.790s, episode steps: 985, steps per second:  35, episode reward: 13.000, mean reward:  0.013 [ 0.000,  1.000], mean action: 2.421 [0.000, 5.000],  loss: 0.017169, mae: 1.282320, mean_q: 1.568468, mean_eps: 0.108964\n",
            "done, took 1206.384 seconds\n",
            "Evaluando el agente...\n",
            "Testing for 3 episodes ...\n",
            "Episode 1: reward: 0.000, steps: 505\n",
            "Episode 2: reward: 0.000, steps: 508\n",
            "Episode 3: reward: 4.000, steps: 520\n",
            "Guardando pesos...\n"
          ]
        }
      ]
    },
    {
      "cell_type": "code",
      "source": [],
      "metadata": {
        "id": "h_6zjH3r-wbI"
      },
      "execution_count": null,
      "outputs": []
    },
    {
      "cell_type": "markdown",
      "source": [
        "### Main - TEST III\n",
        "\n",
        "- Aumentar nb_steps_warmup\n",
        "Para que el agente explore más antes de comenzar a entrenar.\n",
        "Antes: 10000 o 50000\n",
        "Propuesto: 20000 o 30000\n",
        "\n",
        "- Reducir train_interval\n",
        "Para que la red se actualice con mayor frecuencia durante el entrenamiento.\n",
        "Antes: 4\n",
        "Propuesto: 1 o 2\n",
        "\n",
        "- Ajustar target_model_update\n",
        "Sincronizar la red objetivo más seguido para mejorar la estabilidad.\n",
        "Antes: 1000\n",
        "Propuesto: 500\n",
        "\n",
        "- Hacer la política epsilon decay más lenta\n",
        "Para una exploración más gradual y estable.\n",
        "En LinearAnnealedPolicy, subir nb_steps de 50000 a 100000 o más.\n",
        "\n",
        "- Disminuir tasa de aprendizaje (learning_rate)\n",
        "Para que el modelo aprenda de forma más suave y estable.\n",
        "Antes: 0.00025\n",
        "Propuesto: 0.0001"
      ],
      "metadata": {
        "id": "aPxsojLF-oWU"
      }
    },
    {
      "cell_type": "code",
      "source": [
        "%%writefile main3.py\n",
        "import numpy as np\n",
        "import gym\n",
        "from PIL import Image\n",
        "import tensorflow as tf\n",
        "from tensorflow.keras.models import Sequential\n",
        "from tensorflow.keras.layers import Conv2D, Dense, Flatten, Permute\n",
        "from tensorflow.keras.optimizers import legacy as keras_legacy_optimizers\n",
        "from rl.agents.dqn import DQNAgent\n",
        "from rl.memory import SequentialMemory\n",
        "from rl.policy import LinearAnnealedPolicy, EpsGreedyQPolicy\n",
        "from rl.core import Processor\n",
        "\n",
        "# Parámetros\n",
        "ENV_NAME = 'SpaceInvaders-v0'\n",
        "INPUT_SHAPE = (84, 84)\n",
        "WINDOW_LENGTH = 4\n",
        "SEED = 123\n",
        "\n",
        "# ------------------------------------------------------------\n",
        "# Procesador personalizado\n",
        "# ------------------------------------------------------------\n",
        "class AtariProcessor(Processor):\n",
        "    def process_observation(self, observation):\n",
        "        assert observation.ndim == 3\n",
        "        img = Image.fromarray(observation).resize(INPUT_SHAPE).convert('L')\n",
        "        return np.array(img).astype('uint8')\n",
        "\n",
        "    def process_state_batch(self, batch):\n",
        "        return batch.astype('float32') / 255.0\n",
        "\n",
        "    def process_reward(self, reward):\n",
        "        return np.clip(reward, -1., 1.)\n",
        "\n",
        "# ------------------------------------------------------------\n",
        "# Clase contenedora del agente\n",
        "# ------------------------------------------------------------\n",
        "class DQNAgentWrapper:\n",
        "    def __init__(self, env_name):\n",
        "        self.env_name = env_name\n",
        "        self.env = gym.make(env_name)\n",
        "        self.env.seed(SEED)\n",
        "        np.random.seed(SEED)\n",
        "        tf.random.set_seed(SEED)\n",
        "\n",
        "        self.nb_actions = self.env.action_space.n\n",
        "        self.processor = AtariProcessor()\n",
        "        self.model = self.build_model()\n",
        "        self.memory = SequentialMemory(limit=100000, window_length=WINDOW_LENGTH)\n",
        "        self.policy = LinearAnnealedPolicy(\n",
        "            EpsGreedyQPolicy(),\n",
        "            attr='eps',\n",
        "            value_max=1.0,\n",
        "            value_min=0.1,\n",
        "            value_test=0.05,\n",
        "            nb_steps=100000  # más lento para explorar mejor\n",
        "        )\n",
        "        self.agent = self.build_agent()\n",
        "\n",
        "    def build_model(self):\n",
        "        model = Sequential()\n",
        "        model.add(Permute((2, 3, 1), input_shape=(WINDOW_LENGTH,) + INPUT_SHAPE))\n",
        "        model.add(Conv2D(32, (8, 8), strides=(4, 4), activation='relu'))\n",
        "        model.add(Conv2D(64, (4, 4), strides=(2, 2), activation='relu'))\n",
        "        model.add(Conv2D(64, (3, 3), activation='relu'))\n",
        "        model.add(Flatten())\n",
        "        model.add(Dense(512, activation='relu'))\n",
        "        model.add(Dense(self.nb_actions, activation='linear'))\n",
        "        return model\n",
        "\n",
        "    def build_agent(self):\n",
        "        # Adam legacy con lr menor\n",
        "        adam_legacy = keras_legacy_optimizers.Adam(learning_rate=0.0001)\n",
        "        dqn = DQNAgent(\n",
        "            model=self.model,\n",
        "            nb_actions=self.nb_actions,\n",
        "            memory=self.memory,\n",
        "            processor=self.processor,\n",
        "            policy=self.policy,\n",
        "            nb_steps_warmup=20000,      # warmup más largo\n",
        "            gamma=0.99,\n",
        "            target_model_update=500,    # sincronización más frecuente\n",
        "            train_interval=2,           # entrenamiento cada 2 pasos\n",
        "            delta_clip=1.0\n",
        "        )\n",
        "        dqn.compile(adam_legacy, metrics=['mae'])\n",
        "        return dqn\n",
        "\n",
        "    def train(self, steps=50000):\n",
        "        self.agent.fit(self.env, nb_steps=steps, visualize=False, verbose=2)\n",
        "\n",
        "    def test(self, episodes=3, render=False):\n",
        "        self.agent.test(self.env, nb_episodes=episodes, visualize=render)\n",
        "\n",
        "    def save(self, path='dqn_weights.h5f'):\n",
        "        self.agent.save_weights(path, overwrite=True)\n",
        "\n",
        "    def load(self, path='dqn_weights.h5f'):\n",
        "        self.agent.load_weights(path)\n",
        "\n",
        "# ------------------------------------------------------------\n",
        "# Entrenamiento\n",
        "# ------------------------------------------------------------\n",
        "if __name__ == '__main__':\n",
        "    dqn_wrapper = DQNAgentWrapper(ENV_NAME)\n",
        "\n",
        "    print(\"Entrenando el agente...\")\n",
        "    dqn_wrapper.train()\n",
        "\n",
        "    print(\"Evaluando el agente...\")\n",
        "    dqn_wrapper.test()\n",
        "\n",
        "    print(\"Guardando pesos...\")\n",
        "    dqn_wrapper.save(f'dqn_{ENV_NAME}_weights.h5f')\n",
        "\n"
      ],
      "metadata": {
        "colab": {
          "base_uri": "https://localhost:8080/"
        },
        "id": "ZQN7A8eccO5y",
        "outputId": "f89fe3c8-597d-4560-ab7a-e412bb744e03"
      },
      "execution_count": 7,
      "outputs": [
        {
          "output_type": "stream",
          "name": "stdout",
          "text": [
            "Writing main3.py\n"
          ]
        }
      ]
    },
    {
      "cell_type": "code",
      "source": [
        "!./miar_rl/bin/python main3.py\n"
      ],
      "metadata": {
        "colab": {
          "base_uri": "https://localhost:8080/"
        },
        "id": "oG2MyaCTqj7-",
        "outputId": "fe322cb1-85d3-4de8-e73e-9098e399b451"
      },
      "execution_count": 8,
      "outputs": [
        {
          "output_type": "stream",
          "name": "stdout",
          "text": [
            "2025-06-21 18:45:56.135279: I tensorflow/core/util/port.cc:110] oneDNN custom operations are on. You may see slightly different numerical results due to floating-point round-off errors from different computation orders. To turn them off, set the environment variable `TF_ENABLE_ONEDNN_OPTS=0`.\n",
            "2025-06-21 18:45:56.137970: I tensorflow/tsl/cuda/cudart_stub.cc:28] Could not find cuda drivers on your machine, GPU will not be used.\n",
            "2025-06-21 18:45:56.189953: I tensorflow/tsl/cuda/cudart_stub.cc:28] Could not find cuda drivers on your machine, GPU will not be used.\n",
            "2025-06-21 18:45:56.190439: I tensorflow/core/platform/cpu_feature_guard.cc:182] This TensorFlow binary is optimized to use available CPU instructions in performance-critical operations.\n",
            "To enable the following instructions: AVX2 AVX512F AVX512_VNNI FMA, in other operations, rebuild TensorFlow with the appropriate compiler flags.\n",
            "2025-06-21 18:45:56.946017: W tensorflow/compiler/tf2tensorrt/utils/py_utils.cc:38] TF-TRT Warning: Could not find TensorRT\n",
            "2025-06-21 18:45:58.735377: W tensorflow/core/common_runtime/gpu/gpu_device.cc:1956] Cannot dlopen some GPU libraries. Please make sure the missing libraries mentioned above are installed properly if you would like to use GPU. Follow the guide at https://www.tensorflow.org/install/gpu for how to download and setup the required libraries for your platform.\n",
            "Skipping registering GPU devices...\n",
            "2025-06-21 18:45:58.746279: I tensorflow/compiler/mlir/mlir_graph_optimization_pass.cc:353] MLIR V1 optimization pass is not enabled\n",
            "2025-06-21 18:45:58.773751: W tensorflow/c/c_api.cc:300] Operation '{name:'conv2d_2_1/kernel/Assign' id:189 op device:{requested: '', assigned: ''} def:{{{node conv2d_2_1/kernel/Assign}} = AssignVariableOp[_has_manual_control_dependencies=true, dtype=DT_FLOAT, validate_shape=false](conv2d_2_1/kernel, conv2d_2_1/kernel/Initializer/stateless_random_uniform)}}' was changed by setting attribute after it was run by a session. This mutation will have no effect, and will trigger an error in the future. Either don't modify nodes after running them or create a new session.\n",
            "Entrenando el agente...\n",
            "Training for 50000 steps ...\n",
            "/content/miar_rl/lib/python3.11/site-packages/keras/engine/training_v1.py:2359: UserWarning: `Model.state_updates` will be removed in a future version. This property should not be used in TensorFlow 2.0, as `updates` are applied automatically.\n",
            "  updates=self.state_updates,\n",
            "2025-06-21 18:45:59.171418: W tensorflow/c/c_api.cc:300] Operation '{name:'dense_1/BiasAdd' id:125 op device:{requested: '', assigned: ''} def:{{{node dense_1/BiasAdd}} = BiasAdd[T=DT_FLOAT, _has_manual_control_dependencies=true, data_format=\"NHWC\"](dense_1/MatMul, dense_1/BiasAdd/ReadVariableOp)}}' was changed by setting attribute after it was run by a session. This mutation will have no effect, and will trigger an error in the future. Either don't modify nodes after running them or create a new session.\n",
            "2025-06-21 18:45:59.187439: W tensorflow/c/c_api.cc:300] Operation '{name:'count_1/Assign' id:375 op device:{requested: '', assigned: ''} def:{{{node count_1/Assign}} = AssignVariableOp[_has_manual_control_dependencies=true, dtype=DT_FLOAT, validate_shape=false](count_1, count_1/Initializer/zeros)}}' was changed by setting attribute after it was run by a session. This mutation will have no effect, and will trigger an error in the future. Either don't modify nodes after running them or create a new session.\n",
            "   420/50000: episode: 1, duration: 1.735s, episode steps: 420, steps per second: 242, episode reward:  6.000, mean reward:  0.014 [ 0.000,  1.000], mean action: 2.474 [0.000, 5.000],  loss: --, mae: --, mean_q: --, mean_eps: --\n",
            "  1257/50000: episode: 2, duration: 3.389s, episode steps: 837, steps per second: 247, episode reward: 11.000, mean reward:  0.013 [ 0.000,  1.000], mean action: 2.419 [0.000, 5.000],  loss: --, mae: --, mean_q: --, mean_eps: --\n",
            "  2012/50000: episode: 3, duration: 3.006s, episode steps: 755, steps per second: 251, episode reward: 10.000, mean reward:  0.013 [ 0.000,  1.000], mean action: 2.392 [0.000, 5.000],  loss: --, mae: --, mean_q: --, mean_eps: --\n",
            "  2625/50000: episode: 4, duration: 2.450s, episode steps: 613, steps per second: 250, episode reward:  9.000, mean reward:  0.015 [ 0.000,  1.000], mean action: 2.380 [0.000, 5.000],  loss: --, mae: --, mean_q: --, mean_eps: --\n",
            "  3521/50000: episode: 5, duration: 3.588s, episode steps: 896, steps per second: 250, episode reward: 17.000, mean reward:  0.019 [ 0.000,  1.000], mean action: 2.529 [0.000, 5.000],  loss: --, mae: --, mean_q: --, mean_eps: --\n",
            "  4030/50000: episode: 6, duration: 2.056s, episode steps: 509, steps per second: 248, episode reward:  5.000, mean reward:  0.010 [ 0.000,  1.000], mean action: 2.460 [0.000, 5.000],  loss: --, mae: --, mean_q: --, mean_eps: --\n",
            "  4436/50000: episode: 7, duration: 1.619s, episode steps: 406, steps per second: 251, episode reward:  5.000, mean reward:  0.012 [ 0.000,  1.000], mean action: 2.498 [0.000, 5.000],  loss: --, mae: --, mean_q: --, mean_eps: --\n",
            "  5229/50000: episode: 8, duration: 3.158s, episode steps: 793, steps per second: 251, episode reward:  9.000, mean reward:  0.011 [ 0.000,  1.000], mean action: 2.485 [0.000, 5.000],  loss: --, mae: --, mean_q: --, mean_eps: --\n",
            "  6298/50000: episode: 9, duration: 4.241s, episode steps: 1069, steps per second: 252, episode reward: 17.000, mean reward:  0.016 [ 0.000,  1.000], mean action: 2.553 [0.000, 5.000],  loss: --, mae: --, mean_q: --, mean_eps: --\n",
            "  7138/50000: episode: 10, duration: 3.369s, episode steps: 840, steps per second: 249, episode reward: 11.000, mean reward:  0.013 [ 0.000,  1.000], mean action: 2.486 [0.000, 5.000],  loss: --, mae: --, mean_q: --, mean_eps: --\n",
            "  8102/50000: episode: 11, duration: 3.819s, episode steps: 964, steps per second: 252, episode reward: 14.000, mean reward:  0.015 [ 0.000,  1.000], mean action: 2.498 [0.000, 5.000],  loss: --, mae: --, mean_q: --, mean_eps: --\n",
            "  8703/50000: episode: 12, duration: 2.407s, episode steps: 601, steps per second: 250, episode reward:  6.000, mean reward:  0.010 [ 0.000,  1.000], mean action: 2.519 [0.000, 5.000],  loss: --, mae: --, mean_q: --, mean_eps: --\n",
            "  9327/50000: episode: 13, duration: 2.508s, episode steps: 624, steps per second: 249, episode reward:  6.000, mean reward:  0.010 [ 0.000,  1.000], mean action: 2.587 [0.000, 5.000],  loss: --, mae: --, mean_q: --, mean_eps: --\n",
            " 10095/50000: episode: 14, duration: 3.082s, episode steps: 768, steps per second: 249, episode reward: 11.000, mean reward:  0.014 [ 0.000,  1.000], mean action: 2.527 [0.000, 5.000],  loss: --, mae: --, mean_q: --, mean_eps: --\n",
            " 10787/50000: episode: 15, duration: 2.750s, episode steps: 692, steps per second: 252, episode reward:  9.000, mean reward:  0.013 [ 0.000,  1.000], mean action: 2.671 [0.000, 5.000],  loss: --, mae: --, mean_q: --, mean_eps: --\n",
            " 11765/50000: episode: 16, duration: 3.899s, episode steps: 978, steps per second: 251, episode reward: 15.000, mean reward:  0.015 [ 0.000,  1.000], mean action: 2.532 [0.000, 5.000],  loss: --, mae: --, mean_q: --, mean_eps: --\n",
            " 12405/50000: episode: 17, duration: 2.572s, episode steps: 640, steps per second: 249, episode reward:  7.000, mean reward:  0.011 [ 0.000,  1.000], mean action: 2.544 [0.000, 5.000],  loss: --, mae: --, mean_q: --, mean_eps: --\n",
            " 13237/50000: episode: 18, duration: 3.347s, episode steps: 832, steps per second: 249, episode reward:  9.000, mean reward:  0.011 [ 0.000,  1.000], mean action: 2.602 [0.000, 5.000],  loss: --, mae: --, mean_q: --, mean_eps: --\n",
            " 13679/50000: episode: 19, duration: 1.758s, episode steps: 442, steps per second: 251, episode reward:  4.000, mean reward:  0.009 [ 0.000,  1.000], mean action: 2.563 [0.000, 5.000],  loss: --, mae: --, mean_q: --, mean_eps: --\n",
            " 14211/50000: episode: 20, duration: 2.117s, episode steps: 532, steps per second: 251, episode reward:  4.000, mean reward:  0.008 [ 0.000,  1.000], mean action: 2.677 [0.000, 5.000],  loss: --, mae: --, mean_q: --, mean_eps: --\n",
            " 15064/50000: episode: 21, duration: 3.404s, episode steps: 853, steps per second: 251, episode reward: 13.000, mean reward:  0.015 [ 0.000,  1.000], mean action: 2.538 [0.000, 5.000],  loss: --, mae: --, mean_q: --, mean_eps: --\n",
            " 15565/50000: episode: 22, duration: 2.034s, episode steps: 501, steps per second: 246, episode reward:  4.000, mean reward:  0.008 [ 0.000,  1.000], mean action: 2.613 [0.000, 5.000],  loss: --, mae: --, mean_q: --, mean_eps: --\n",
            " 16430/50000: episode: 23, duration: 3.442s, episode steps: 865, steps per second: 251, episode reward:  8.000, mean reward:  0.009 [ 0.000,  1.000], mean action: 2.582 [0.000, 5.000],  loss: --, mae: --, mean_q: --, mean_eps: --\n",
            " 17324/50000: episode: 24, duration: 3.550s, episode steps: 894, steps per second: 252, episode reward:  9.000, mean reward:  0.010 [ 0.000,  1.000], mean action: 2.579 [0.000, 5.000],  loss: --, mae: --, mean_q: --, mean_eps: --\n",
            " 17726/50000: episode: 25, duration: 1.613s, episode steps: 402, steps per second: 249, episode reward:  5.000, mean reward:  0.012 [ 0.000,  1.000], mean action: 2.726 [0.000, 5.000],  loss: --, mae: --, mean_q: --, mean_eps: --\n",
            " 18105/50000: episode: 26, duration: 1.530s, episode steps: 379, steps per second: 248, episode reward:  5.000, mean reward:  0.013 [ 0.000,  1.000], mean action: 2.567 [0.000, 5.000],  loss: --, mae: --, mean_q: --, mean_eps: --\n",
            " 18946/50000: episode: 27, duration: 3.355s, episode steps: 841, steps per second: 251, episode reward: 12.000, mean reward:  0.014 [ 0.000,  1.000], mean action: 2.554 [0.000, 5.000],  loss: --, mae: --, mean_q: --, mean_eps: --\n",
            " 19770/50000: episode: 28, duration: 3.278s, episode steps: 824, steps per second: 251, episode reward: 10.000, mean reward:  0.012 [ 0.000,  1.000], mean action: 2.581 [0.000, 5.000],  loss: --, mae: --, mean_q: --, mean_eps: --\n",
            "/content/miar_rl/lib/python3.11/site-packages/keras/engine/training_v1.py:2359: UserWarning: `Model.state_updates` will be removed in a future version. This property should not be used in TensorFlow 2.0, as `updates` are applied automatically.\n",
            "  updates=self.state_updates,\n",
            "2025-06-21 18:47:19.292987: W tensorflow/c/c_api.cc:300] Operation '{name:'dense_1_1/BiasAdd' id:249 op device:{requested: '', assigned: ''} def:{{{node dense_1_1/BiasAdd}} = BiasAdd[T=DT_FLOAT, _has_manual_control_dependencies=true, data_format=\"NHWC\"](dense_1_1/MatMul, dense_1_1/BiasAdd/ReadVariableOp)}}' was changed by setting attribute after it was run by a session. This mutation will have no effect, and will trigger an error in the future. Either don't modify nodes after running them or create a new session.\n",
            "2025-06-21 18:47:19.557625: W tensorflow/c/c_api.cc:300] Operation '{name:'loss_3/AddN' id:491 op device:{requested: '', assigned: ''} def:{{{node loss_3/AddN}} = AddN[N=2, T=DT_FLOAT, _has_manual_control_dependencies=true](loss_3/mul, loss_3/mul_1)}}' was changed by setting attribute after it was run by a session. This mutation will have no effect, and will trigger an error in the future. Either don't modify nodes after running them or create a new session.\n",
            "2025-06-21 18:47:19.591289: W tensorflow/c/c_api.cc:300] Operation '{name:'training/Adam/conv2d_2/bias/v/Assign' id:789 op device:{requested: '', assigned: ''} def:{{{node training/Adam/conv2d_2/bias/v/Assign}} = AssignVariableOp[_has_manual_control_dependencies=true, dtype=DT_FLOAT, validate_shape=false](training/Adam/conv2d_2/bias/v, training/Adam/conv2d_2/bias/v/Initializer/zeros)}}' was changed by setting attribute after it was run by a session. This mutation will have no effect, and will trigger an error in the future. Either don't modify nodes after running them or create a new session.\n",
            " 20949/50000: episode: 29, duration: 52.373s, episode steps: 1179, steps per second:  23, episode reward: 22.000, mean reward:  0.019 [ 0.000,  1.000], mean action: 2.539 [0.000, 5.000],  loss: 0.006376, mae: 0.031629, mean_q: 0.051385, mean_eps: 0.815725\n",
            " 22038/50000: episode: 30, duration: 58.832s, episode steps: 1089, steps per second:  19, episode reward: 17.000, mean reward:  0.016 [ 0.000,  1.000], mean action: 2.528 [0.000, 5.000],  loss: 0.005783, mae: 0.074555, mean_q: 0.104827, mean_eps: 0.806563\n",
            " 22571/50000: episode: 31, duration: 30.803s, episode steps: 533, steps per second:  17, episode reward:  2.000, mean reward:  0.004 [ 0.000,  1.000], mean action: 2.493 [0.000, 5.000],  loss: 0.007553, mae: 0.107383, mean_q: 0.145509, mean_eps: 0.799264\n",
            " 23013/50000: episode: 32, duration: 25.660s, episode steps: 442, steps per second:  17, episode reward:  5.000, mean reward:  0.011 [ 0.000,  1.000], mean action: 2.679 [0.000, 5.000],  loss: 0.005172, mae: 0.119966, mean_q: 0.164154, mean_eps: 0.794872\n",
            " 24004/50000: episode: 33, duration: 51.737s, episode steps: 991, steps per second:  19, episode reward: 16.000, mean reward:  0.016 [ 0.000,  1.000], mean action: 2.534 [0.000, 5.000],  loss: 0.006305, mae: 0.160071, mean_q: 0.211214, mean_eps: 0.788428\n",
            " 24608/50000: episode: 34, duration: 31.492s, episode steps: 604, steps per second:  19, episode reward:  8.000, mean reward:  0.013 [ 0.000,  1.000], mean action: 2.442 [0.000, 5.000],  loss: 0.006567, mae: 0.208089, mean_q: 0.271821, mean_eps: 0.781255\n",
            " 25450/50000: episode: 35, duration: 43.840s, episode steps: 842, steps per second:  19, episode reward: 14.000, mean reward:  0.017 [ 0.000,  1.000], mean action: 2.676 [0.000, 5.000],  loss: 0.006785, mae: 0.247101, mean_q: 0.319625, mean_eps: 0.774748\n",
            " 25975/50000: episode: 36, duration: 27.328s, episode steps: 525, steps per second:  19, episode reward:  4.000, mean reward:  0.008 [ 0.000,  1.000], mean action: 2.463 [0.000, 5.000],  loss: 0.005922, mae: 0.285086, mean_q: 0.363635, mean_eps: 0.768592\n",
            " 27249/50000: episode: 37, duration: 66.094s, episode steps: 1274, steps per second:  19, episode reward: 15.000, mean reward:  0.012 [ 0.000,  1.000], mean action: 2.481 [0.000, 5.000],  loss: 0.007263, mae: 0.375379, mean_q: 0.479293, mean_eps: 0.760492\n",
            " 27848/50000: episode: 38, duration: 31.374s, episode steps: 599, steps per second:  19, episode reward:  7.000, mean reward:  0.012 [ 0.000,  1.000], mean action: 2.382 [0.000, 5.000],  loss: 0.007074, mae: 0.419825, mean_q: 0.529643, mean_eps: 0.752068\n",
            " 28215/50000: episode: 39, duration: 19.261s, episode steps: 367, steps per second:  19, episode reward:  4.000, mean reward:  0.011 [ 0.000,  1.000], mean action: 2.406 [0.000, 5.000],  loss: 0.007750, mae: 0.460884, mean_q: 0.584575, mean_eps: 0.747721\n",
            " 28877/50000: episode: 40, duration: 34.581s, episode steps: 662, steps per second:  19, episode reward: 10.000, mean reward:  0.015 [ 0.000,  1.000], mean action: 2.541 [0.000, 5.000],  loss: 0.005978, mae: 0.514332, mean_q: 0.645711, mean_eps: 0.743086\n",
            " 29549/50000: episode: 41, duration: 37.640s, episode steps: 672, steps per second:  18, episode reward: 12.000, mean reward:  0.018 [ 0.000,  1.000], mean action: 2.290 [0.000, 5.000],  loss: 0.007473, mae: 0.558381, mean_q: 0.698434, mean_eps: 0.737083\n",
            " 30514/50000: episode: 42, duration: 53.528s, episode steps: 965, steps per second:  18, episode reward: 15.000, mean reward:  0.016 [ 0.000,  1.000], mean action: 2.408 [0.000, 5.000],  loss: 0.007547, mae: 0.623380, mean_q: 0.775859, mean_eps: 0.729721\n",
            " 31599/50000: episode: 43, duration: 56.253s, episode steps: 1085, steps per second:  19, episode reward: 18.000, mean reward:  0.017 [ 0.000,  1.000], mean action: 2.467 [0.000, 5.000],  loss: 0.007000, mae: 0.691518, mean_q: 0.856976, mean_eps: 0.720496\n",
            " 32113/50000: episode: 44, duration: 26.655s, episode steps: 514, steps per second:  19, episode reward:  7.000, mean reward:  0.014 [ 0.000,  1.000], mean action: 2.547 [0.000, 5.000],  loss: 0.005992, mae: 0.733228, mean_q: 0.906540, mean_eps: 0.713296\n",
            " 32609/50000: episode: 45, duration: 25.809s, episode steps: 496, steps per second:  19, episode reward:  6.000, mean reward:  0.012 [ 0.000,  1.000], mean action: 2.546 [0.000, 5.000],  loss: 0.007278, mae: 0.773478, mean_q: 0.954410, mean_eps: 0.708751\n",
            " 33109/50000: episode: 46, duration: 25.997s, episode steps: 500, steps per second:  19, episode reward:  5.000, mean reward:  0.010 [ 0.000,  1.000], mean action: 2.290 [0.000, 5.000],  loss: 0.007443, mae: 0.790155, mean_q: 0.973127, mean_eps: 0.704269\n",
            " 33559/50000: episode: 47, duration: 23.386s, episode steps: 450, steps per second:  19, episode reward: 11.000, mean reward:  0.024 [ 0.000,  1.000], mean action: 2.451 [0.000, 5.000],  loss: 0.007930, mae: 0.818531, mean_q: 1.009220, mean_eps: 0.699994\n",
            " 34469/50000: episode: 48, duration: 47.235s, episode steps: 910, steps per second:  19, episode reward: 14.000, mean reward:  0.015 [ 0.000,  1.000], mean action: 2.276 [0.000, 5.000],  loss: 0.007512, mae: 0.875088, mean_q: 1.077144, mean_eps: 0.693874\n",
            " 35124/50000: episode: 49, duration: 34.085s, episode steps: 655, steps per second:  19, episode reward: 10.000, mean reward:  0.015 [ 0.000,  1.000], mean action: 2.075 [0.000, 5.000],  loss: 0.008211, mae: 0.952515, mean_q: 1.172505, mean_eps: 0.686836\n",
            " 36171/50000: episode: 50, duration: 58.268s, episode steps: 1047, steps per second:  18, episode reward: 24.000, mean reward:  0.023 [ 0.000,  1.000], mean action: 2.297 [0.000, 5.000],  loss: 0.008391, mae: 1.046996, mean_q: 1.286878, mean_eps: 0.679177\n",
            " 37056/50000: episode: 51, duration: 48.367s, episode steps: 885, steps per second:  18, episode reward: 14.000, mean reward:  0.016 [ 0.000,  1.000], mean action: 2.540 [0.000, 5.000],  loss: 0.008437, mae: 1.124065, mean_q: 1.378075, mean_eps: 0.670483\n",
            " 37707/50000: episode: 52, duration: 33.850s, episode steps: 651, steps per second:  19, episode reward:  8.000, mean reward:  0.012 [ 0.000,  1.000], mean action: 2.498 [0.000, 5.000],  loss: 0.009874, mae: 1.170826, mean_q: 1.434414, mean_eps: 0.663571\n",
            " 38042/50000: episode: 53, duration: 17.489s, episode steps: 335, steps per second:  19, episode reward:  4.000, mean reward:  0.012 [ 0.000,  1.000], mean action: 2.254 [0.000, 5.000],  loss: 0.009077, mae: 1.200211, mean_q: 1.471991, mean_eps: 0.659134\n",
            " 38708/50000: episode: 54, duration: 34.833s, episode steps: 666, steps per second:  19, episode reward: 11.000, mean reward:  0.017 [ 0.000,  1.000], mean action: 2.674 [0.000, 5.000],  loss: 0.009886, mae: 1.254883, mean_q: 1.535551, mean_eps: 0.654634\n",
            " 39356/50000: episode: 55, duration: 33.899s, episode steps: 648, steps per second:  19, episode reward: 12.000, mean reward:  0.019 [ 0.000,  1.000], mean action: 2.406 [0.000, 5.000],  loss: 0.010519, mae: 1.318434, mean_q: 1.611866, mean_eps: 0.648721\n",
            " 39762/50000: episode: 56, duration: 21.173s, episode steps: 406, steps per second:  19, episode reward:  6.000, mean reward:  0.015 [ 0.000,  1.000], mean action: 2.303 [0.000, 5.000],  loss: 0.010231, mae: 1.349254, mean_q: 1.650769, mean_eps: 0.643978\n",
            " 40302/50000: episode: 57, duration: 28.263s, episode steps: 540, steps per second:  19, episode reward:  7.000, mean reward:  0.013 [ 0.000,  1.000], mean action: 2.244 [0.000, 5.000],  loss: 0.010280, mae: 1.375162, mean_q: 1.684978, mean_eps: 0.639721\n",
            " 40958/50000: episode: 58, duration: 34.238s, episode steps: 656, steps per second:  19, episode reward: 10.000, mean reward:  0.015 [ 0.000,  1.000], mean action: 2.541 [0.000, 5.000],  loss: 0.008765, mae: 1.416887, mean_q: 1.729764, mean_eps: 0.634339\n",
            " 41663/50000: episode: 59, duration: 36.841s, episode steps: 705, steps per second:  19, episode reward:  8.000, mean reward:  0.011 [ 0.000,  1.000], mean action: 2.214 [0.000, 5.000],  loss: 0.010097, mae: 1.426867, mean_q: 1.742286, mean_eps: 0.628210\n",
            " 42693/50000: episode: 60, duration: 53.914s, episode steps: 1030, steps per second:  19, episode reward: 15.000, mean reward:  0.015 [ 0.000,  1.000], mean action: 2.382 [0.000, 5.000],  loss: 0.010643, mae: 1.497835, mean_q: 1.826668, mean_eps: 0.620398\n",
            " 43385/50000: episode: 61, duration: 36.310s, episode steps: 692, steps per second:  19, episode reward: 12.000, mean reward:  0.017 [ 0.000,  1.000], mean action: 2.575 [0.000, 5.000],  loss: 0.010389, mae: 1.540117, mean_q: 1.878632, mean_eps: 0.612649\n",
            " 43833/50000: episode: 62, duration: 23.474s, episode steps: 448, steps per second:  19, episode reward:  5.000, mean reward:  0.011 [ 0.000,  1.000], mean action: 2.373 [0.000, 5.000],  loss: 0.008626, mae: 1.580311, mean_q: 1.923881, mean_eps: 0.607519\n",
            " 44616/50000: episode: 63, duration: 40.997s, episode steps: 783, steps per second:  19, episode reward:  9.000, mean reward:  0.011 [ 0.000,  1.000], mean action: 2.631 [0.000, 5.000],  loss: 0.010439, mae: 1.600153, mean_q: 1.948400, mean_eps: 0.601984\n",
            " 45278/50000: episode: 64, duration: 34.633s, episode steps: 662, steps per second:  19, episode reward:  6.000, mean reward:  0.009 [ 0.000,  1.000], mean action: 2.515 [0.000, 5.000],  loss: 0.010823, mae: 1.651078, mean_q: 2.011937, mean_eps: 0.595486\n",
            " 45920/50000: episode: 65, duration: 33.441s, episode steps: 642, steps per second:  19, episode reward: 10.000, mean reward:  0.016 [ 0.000,  1.000], mean action: 2.519 [0.000, 5.000],  loss: 0.010438, mae: 1.676563, mean_q: 2.041177, mean_eps: 0.589618\n",
            " 46399/50000: episode: 66, duration: 25.051s, episode steps: 479, steps per second:  19, episode reward: 11.000, mean reward:  0.023 [ 0.000,  1.000], mean action: 2.276 [0.000, 5.000],  loss: 0.010557, mae: 1.688571, mean_q: 2.054960, mean_eps: 0.584569\n",
            " 46978/50000: episode: 67, duration: 30.202s, episode steps: 579, steps per second:  19, episode reward:  7.000, mean reward:  0.012 [ 0.000,  1.000], mean action: 2.411 [0.000, 5.000],  loss: 0.011446, mae: 1.714303, mean_q: 2.085117, mean_eps: 0.579808\n",
            " 48081/50000: episode: 68, duration: 57.647s, episode steps: 1103, steps per second:  19, episode reward: 19.000, mean reward:  0.017 [ 0.000,  1.000], mean action: 2.439 [0.000, 5.000],  loss: 0.010680, mae: 1.773121, mean_q: 2.159141, mean_eps: 0.572239\n",
            " 49019/50000: episode: 69, duration: 48.938s, episode steps: 938, steps per second:  19, episode reward: 10.000, mean reward:  0.011 [ 0.000,  1.000], mean action: 2.310 [0.000, 5.000],  loss: 0.010593, mae: 1.841253, mean_q: 2.238600, mean_eps: 0.563050\n",
            " 49594/50000: episode: 70, duration: 30.076s, episode steps: 575, steps per second:  19, episode reward:  7.000, mean reward:  0.012 [ 0.000,  1.000], mean action: 1.990 [0.000, 5.000],  loss: 0.010972, mae: 1.939142, mean_q: 2.358728, mean_eps: 0.556246\n",
            "done, took 1666.361 seconds\n",
            "Evaluando el agente...\n",
            "Testing for 3 episodes ...\n",
            "Episode 1: reward: 10.000, steps: 966\n",
            "Episode 2: reward: 8.000, steps: 683\n",
            "Episode 3: reward: 6.000, steps: 796\n",
            "Guardando pesos...\n"
          ]
        }
      ]
    },
    {
      "cell_type": "markdown",
      "metadata": {
        "id": "-NAlu8b1Gb2b"
      },
      "source": [
        "3. Justificación de los parámetros seleccionados y de los resultados obtenidos"
      ]
    },
    {
      "cell_type": "markdown",
      "metadata": {
        "id": "ANFQiicXK3sO"
      },
      "source": [
        "---"
      ]
    },
    {
      "cell_type": "code",
      "execution_count": null,
      "metadata": {
        "id": "eUSLRw7C02bM"
      },
      "outputs": [],
      "source": []
    }
  ],
  "metadata": {
    "colab": {
      "provenance": [],
      "toc_visible": true,
      "machine_shape": "hm",
      "gpuType": "A100"
    },
    "kernelspec": {
      "display_name": "Python 3",
      "name": "python3"
    },
    "language_info": {
      "name": "python"
    },
    "accelerator": "GPU"
  },
  "nbformat": 4,
  "nbformat_minor": 0
}